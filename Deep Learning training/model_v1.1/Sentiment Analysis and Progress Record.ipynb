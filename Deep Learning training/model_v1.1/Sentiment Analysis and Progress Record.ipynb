{
  "cells": [
    {
      "cell_type": "markdown",
      "metadata": {
        "id": "kqzufGBuxUb1"
      },
      "source": [
        "# Sentiment & Time Series Analysis with Bidirectional, LSTM, and pretrained BERT.\n",
        "\n",
        "Author: Nguyen Le Quoc Bao\n",
        "\n",
        "\n",
        "Abstract: Emotion recognition is a higher approach or a special case of sentiment analysis. In this task, the result\n",
        "is not produced in terms of either polarity: positive or negative or in\n",
        "the form of rating (from 1 to 5) but of a more detailed level of analysis\n",
        "in which the results are depicted in more expressions.\n",
        "\n",
        "Description: This notebook is used to train three models with both traditional (BILSTM) and modern method (BERT) to obtain the best performance in NLP tasks. Read the paper (button below) to gain deep understanding of our project. We scraped text data by collecting diary entries, personal stories of adolescents, teenagers across various website and some small self-conducted surveys. The dataset and model versions will be continuously updated through time (click the button link to view). Now follow my code and instructions below.\n",
        "\n",
        "\n",
        "<table class=\"tfo-notebook-buttons\" align=\"left\">\n",
        "  <td>\n",
        "    <a target=\"_blank\" href=\"https://colab.research.google.com/drive/1AQZ2_iISey7iFYD-VGi8QxaTPGJjXCCI?usp=sharing\"><img src=\"https://www.tensorflow.org/images/colab_logo_32px.png\" />Run in Google Colab</a>\n",
        "  </td>\n",
        "  <td>\n",
        "    <a target=\"_blank\" href=\"https://github.com/Hackathon-LHP-Team/Virtual-Therapist/blob/main/Deep%20Learning%20training/model_v1.1/Virtual_Therapist.ipynb\"><img src=\"https://www.tensorflow.org/images/GitHub-Mark-32px.png\" />View on GitHub</a>\n",
        "  </td>\n",
        "  <td>\n",
        "    <a target=\"_blank\" href=\"https://github.com/Hackathon-LHP-Team/Virtual-Therapist/tree/main/Deep%20Learning%20training/model_v1.1/dataset\"><img src=\"https://img.icons8.com/?size=1x&id=1475&format=png\" />Download dataset</a>\n",
        "  </td>\n",
        "  <td>\n",
        "    <a target=\"_blank\" href=\"https://drive.google.com/drive/folders/16ig9NcXq4Cn39F2h7c8YvgRFNaegVj7F?usp=sharing\"><img src=\"https://img.icons8.com/?size=1x&id=15873&format=png\" />All models</a>\n",
        "  </td>\n",
        "  <td>\n",
        "    <a target=\"_blank\" href=\"https://github.com/Hackathon-LHP-Team/Virtual-Therapist/blob/main/Virtual%20Therapist.pdf\"><img src=\"https://img.icons8.com/?size=1x&id=37932&format=png\" />Read Paper</a>\n",
        "  </td>\n",
        "</table>\n",
        "\n",
        "<br><br>\n",
        "\n",
        "Keywords: Emotion Recognition · Emotion Prediction · Vietnamese · Machine Learning · Deep Learning · CNN · LSTM · SVM"
      ]
    },
    {
      "cell_type": "markdown",
      "metadata": {
        "id": "vWAAMMAD4QgO"
      },
      "source": [
        "## Import all dependences"
      ]
    },
    {
      "cell_type": "code",
      "execution_count": 3,
      "metadata": {
        "id": "_H3i0jYFJfC8"
      },
      "outputs": [],
      "source": [
        "# Array and Dataframe\n",
        "import numpy as np\n",
        "import pandas as pd\n",
        "\n",
        "# Text preprocessing\n",
        "import re\n",
        "from tensorflow.keras.preprocessing.text import Tokenizer\n",
        "from tensorflow.keras.preprocessing.sequence import pad_sequences\n",
        "\n",
        "# Training\n",
        "from sklearn.model_selection import train_test_split\n",
        "import tensorflow as tf\n",
        "from tensorflow.keras.layers import Input, Embedding, Bidirectional, LSTM, GlobalAveragePooling1D, Dense, Dropout\n",
        "from tensorflow.keras.models import Sequential\n",
        "from tensorflow.keras.utils import to_categorical\n",
        "\n",
        "# visualization\n",
        "import plotly.express as px\n",
        "import matplotlib.pyplot as plt"
      ]
    },
    {
      "cell_type": "markdown",
      "metadata": {
        "id": "QlVdl8vg5SVT"
      },
      "source": [
        "As you can see, we have two tasks of classification:\n",
        "1. Three general emotion categories classification: `negative`, `positive`, `neutral`\n",
        "2. Twelve specific emotion categories classification: `anger`, `sadness`, `remorse`, `fear`, `depression`, `lonely`, `joy`, `love`, `optimism`, `gratitude`, `pride`, `confusion`"
      ]
    },
    {
      "cell_type": "code",
      "execution_count": 73,
      "metadata": {
        "id": "L6y3406aNL8u"
      },
      "outputs": [],
      "source": [
        "classes = [\"anger\", \"sadness\", \"remorse\", \"fear\", \"depression\", \"lonely\", \"joy\", \"love\", \"optimism\", \"gratitude\", \"pride\", \"confusion\"]\n",
        "#            0         1            2       3          4           5        6      7         8            9          10          11\n",
        "classes_2 = [\"negative emotions\", \"positive emotions\", \"neutral emotions\"]\n",
        "#                    0                    1                    2"
      ]
    },
    {
      "cell_type": "markdown",
      "metadata": {
        "id": "SP7GiNLS4pN8"
      },
      "source": [
        "## Data Scraping\n",
        "\n",
        "You can skip data-collecting code cells. Instead, please go to the dataset link button above to download two `.csv` files (train dataset and validation dataset) and move on to section `Load Dataset`"
      ]
    },
    {
      "cell_type": "code",
      "execution_count": null,
      "metadata": {
        "id": "NVk4IsE-JmId"
      },
      "outputs": [],
      "source": [
        "texts = [\n",
        "    \"1 I feel very dejected today. I got a very low score in my math exam, everybody in class made a joke on me. The rest of my day, I do not feel like doing anything, the sadness, the sorrow just seem to fill in me. When coming home, my parents do not sympathize with me, they instead make me more disheartened.\",\n",
        "    \"5 I feel so lonely today. I have no friends to talk to or hang out with. Everyone at school ignores me or bullies me. They call me names and make fun of my appearance. I wish I had someone who cared about me and understood me. Someone who would listen to me and comfort me. Someone who would make me feel happy and loved.\",\n",
        "    \"0 I feel so angry and irritated today. I had a fight with my parents over my grades. They don’t appreciate how hard I study and how much pressure I face. They only care about the numbers and not about me. They compare me to other kids and make me feel inadequate. They yell at me and punish me for not meeting their expectations. They don’t respect me or support me. So frustrating\",\n",
        "    \"3 I feel so hopeless today. I have no future or purpose in life. Everything seems meaningless and pointless. Nothing makes me excited or motivated. Nothing brings me joy or satisfaction. I don’t have any goals or dreams to pursue. I don’t have any skills or talents to offer. I don’t have any value or worth as a person.\",\n",
        "    \"2 I feel so guilty today. I did something terrible that hurt someone I love. I lied to them and betrayed their trust. I broke their heart and ruined our relationship. I felt truly remorseful, concience-stricken, I can’t face them or forgive myself. I can’t undo what I did or make it right. I can’t erase the pain or the regret that I feel.\",\n",
        "    \"3 I feel so scared today. I have to face a challenge that is beyond my abilities. I have to deal with a situation that is out of my control. I have to cope with a change that is unwanted and unexpected. I don’t know what to do or how to handle it. I don’t know what will happen or how it will affect me. I don’t know if I can survive or overcome it.\",\n",
        "    \"11 It's very difficult to put into words the way I feel. It's kind of like a random rollercoaster of emotions - anger, self-hatred, despair, loneliness. I find that if I trigger it, I can swim the waters a little easier. Otherwise, it will attack me when I can least afford it.\",\n",
        "    \"1 It's very difficult for me to open up about myself. I can be there for others but feel like if I open up that all dark and vile crap I have built up inside will stain and disgust the person I open up to….Sad thing is that with the training I have had, I know that alcohol is not the answer, but as the Chris Stapleton song 'Whiskey and You' says, I know that it helps in the moment to mask the pain, allowing me to move on.\",\n",
        "    \"0 I’m fricken angry!  Things aren’t going the way I want and I’m pissed.  Your career is not where you want it to be, you have no wife and family, and how are you going to pay the bills?\",\n",
        "    \"8 At the end of this meditation I felt much more at peace.  I knew that what I really needed was to connect to my inner parts and find a peaceful relationship there before moving on with my day.\",\n",
        "    \"4 Sometimes the self-loathing gets the better of me. The thoughts of suicide start running rampant. I can say that I have only gotten close a couple of times. I think that my self-loathing is, in part, the reason for my depression\",\n",
        "    \"4 Sometimes I hate myself so much that I think about ending my life. The suicidal thoughts become very strong and frequent. I have only been close to doing it a few times. I believe that my self-hatred is partly the cause of my depression.\",\n",
        "    \"4 contemplate ending my life. The thoughts of suicide become more intense and frequent. Although I have only come close to attempting it a few times, I believe that my self-hatred is one of the reasons for my depression.\",\n",
        "    \"4 Sometimes I feel so much self-hatred that I consider ending my life. The suicidal thoughts become more intense and frequent. Although I have only come close to attempting it a few times, I believe that my self-loathing is one of the reasons for my depression.\",\n",
        "    \"3 Today I feel very scared. I have to face a challenge that is beyond my abilities. I have to deal with a situation that is out of my control. I have to cope with an unwanted and unexpected change. I don’t know what to do or how to handle it. I don’t know what will happen or how it will affect me. I don’t know if I can survive or overcome it.\",\n",
        "    \"1 Today I feel very down. I received a very low score on my math exam and everyone in class made fun of me. The rest of my day, I don’t feel like doing anything. The sadness and sorrow seem to fill me up. When I got home, my parents didn’t sympathize with me and instead made me feel more disheartened.\",\n",
        "    \"1 After getting a low score on my math exam and being made fun of by everyone in class, I don’t feel like doing anything for the rest of the day. I’m filled with sadness and sorrow. When I got home, my parents didn’t sympathize with me and instead made me feel more disheartened.\",\n",
        "    \"1 Today has been really tough. I got a very low score on my math exam and everyone in class made fun of me. The rest of the day, I don’t feel like doing anything. The sadness and sorrow seem to fill me up. When I got home, my parents didn’t sympathize with me and instead made me feel more disheartened.\",\n",
        "    \"1 My girlfriend left me because she thinks I’m not handsome or gifted enough. I feel very depressed and despondent. I hate myself and loathe every aspect of myself.\",\n",
        "    \"1 My girlfriend has left me since I am not handsome and gifted enough. I felt very depressed, veryt despondent. I hate myself, loatthe every aspect of myself\",\n",
        "    \"1 My girlfriend broke up with me because she thinks I’m not handsome or talented enough. I feel very depressed and hopeless. I hate myself and every aspect of myself.\",\n",
        "    \"4 My teachers do not appreciate me in the class, she or he always judge me since I always get lowscore.\",\n",
        "    \"4 My teachers don’t seem to appreciate me in class. They always judge me because I get low scores. It’s like they’re not seeing the real me and only focusing on my grades. It’s really frustrating and demotivating.\",\n",
        "    \"4 I don't think my teachers really like me in class. They always condemn me because I receive poor grades. It seems like people simply see my academics and don't get to know the real me. It's quite discouraging and annoying.\",\n",
        "    \"0 I'm so enraged and frustrated right now. My dad and I got into a disagreement about my grades. They don't understand how difficult my studies are or how much strain I am under. They don't care about me; they only care about the stats. They make me feel inferior by making comparisons to other youngsters. They yell at me and chastise me for falling short of their standards. I'm not respected or encouraged by them. Such a pain.\",\n",
        "    \"3 I'm currently so angry and frustrated. My dad and I had a discussion regarding my academic performance. They don't realize how challenging my coursework is or how much pressure I am under. They only worry about the statistics; they don't care about me. They compare me to other kids, which makes me feel inferior. They scream at me and berate me for not living up to their expectations. They don't value me or support me. What a pain.\",\n",
        "    \"3 I'm so terrified right now. I have to take on a challenge that is too difficult for me. I have to deal with a circumstance that I have no control over. I have to adjust to an unwelcome and unexpected change. I have no idea what to do or how to deal with it. I have no idea what will occur or how it will impact me. I'm not sure if I can make it through or get through it.\",\n",
        "    \"11 It's incredibly challenging for me to express how I feel. Anger, self-hatred, despair, and loneliness are some of the feelings that are like a random rollercoaster. I discover that if I cause it, I can swim through the water a little more easily. Otherwise, when I can least afford it, it will attack me.\",\n",
        "    \"11 I find it exceedingly difficult to put my feelings into words. Feelings like a random rollercoaster include rage, self-loathing, despair, and loneliness. I find that I can move through the water a little more readily if I make it happen. Otherwise, it will attack me when I can least afford it.\",\n",
        "    \"11 It is quite tough for me to express my sentiments in words. Rage, self-loathing, despair, and loneliness are a few emotions that can feel like a random rollercoaster. If I force it to happen, I can navigate the water a little more easily. Otherwise, when I can least afford it, it will attack me.\",\n",
        "    \"0 I'm constantly irate at everything around me. I'm not sure why people continue to act in ways that I find repugnant. Anyone who looks at me in school, I want to fight them.\",\n",
        "    \"0 I'm constantly irate at everything around me. I'm not sure why people continue to act in ways that I find repugnant. Anyone that looks at me in school makes me want to fight them. My family irritates me, my score enrages me, and my friendships make me angry.\",\n",
        "    \"0 I get angry about everything all the time. I don't understand why people still behave in disgusting ways. I want to fight anyone who stares at me in school. My friends aggravate me, my score aggravates me, and my family aggravates me.\",\n",
        "    \"3 I actually avoid looking people in the face because I prefer to shine, am overly self-aware, and worry that everyone is aware of my true emotions. I'm afraid they'll judge me. I'm constantly frightened and fearful.\",\n",
        "    \"3 I truly avoid eye contact because I like to stand out, am too self-conscious, and am concerned that others are aware of my true feelings. I'm worried they'll criticize me. I'm terrified and afraid all the time.\",\n",
        "    \"3 I was once an adolescent who was always afraid of the dark. Every night, I would turn on all the lights in my room and keep them on until I fell asleep. One night, my parents went out for dinner and left me home alone. I was scared but I didn’t want to show it. I decided to watch TV to distract myself from my fear. As I was watching TV, the power suddenly went out. I was terrified and didn’t know what to do. I tried to turn on my phone’s flashlight but it was dead. I felt like I was trapped in a dark abyss with no way out. After a few minutes of panicking, I remembered that I had a flashlight in my backpack. I quickly grabbed it and turned it on. The light from the flashlight made me feel safe and secure. From that day on, I learned that sometimes the things we fear the most can be overcome with a little bit of courage and resourcefulness.\"\n",
        "    \"3 When I was a teenager, I used to have a fear of the dark. I would turn on every light in my room at night and leave them on until I went to sleep. My parents once left me alone at home while they went out to dinner. Although I was terrified, I tried not to show it. In order to avoid thinking about my dread, I chose to watch TV. I was watching television when the power abruptly went off. I was frightened and unsure of what to do. I attempted to use the flashlight on my phone, but it was dead. I had the impression that I was helplessly\",\n",
        "    \"3 Going to school is a nightmare for me because of the demanding coursework, never-ending tasks, tight deadlines, and feisty classmates. utterly terrifying and dark time of day\",\n",
        "    \"3 Because of the difficult coursework, never-ending projects, strict deadlines, and tenacious peers, going to school is a nightmare for me. absolutely frightening and gloomy hour of the day\",\n",
        "    \"3 Going to school is a nightmare for me because of the challenging courses, never-ending projects, severe deadlines, and tough peers. the most ominous and terrifying time of the day\",\n",
        "    \"3 Talking to my parents is a nightmare since they never pay attention to me. Every time I respond to them, they always find a way to silence me. I'm quite hesitant to speak with them because I always feel so terrified and uneasy when I get home. That's what I constantly feel: anxiety and phobia.\",\n",
        "    \"3 Talking with parents are nightmarish, they never listen to me. they are always shutting me up everytime I respond to them. I feelt very fear to talk with them its quite a terror, apprehension feel in me everytime I come home. Nervousnes, phobia - that;s what I feel through all the time\",\n",
        "    \"3 Since they never listen to me, talking to my parents is a nightmare. They always manage to quiet me once I speak to them. Because I always feel so afraid and nervous when I arrive home, I'm pretty hesitant to talk to them. I am continuously plagued by anxiety and phobia.\",\n",
        "    \"1 Just by being around someone who cares and is awake, I can go from feeling so hopeless to feeling so very hopeful. I lack motivation, are depressed, have a negative mood, and want to give up everything.\",\n",
        "    \"1 I can go from feeling so hopeless to so damned hopeful just from being around someone who cares and is awake. Dont feel like doing anything, downmood, downcast, see like in dark color, want to give up everything\",\n",
        "    \"1 Don't feel like doing anything, are depressed, have a negative mood, and wish you could give up everything. I feel overpowered and defeated. The most of the time, I feel quite pitiful.\",\n",
        "    \"1 In another person's kitchen, I feel so self-conscious that I feel like I'm painting on their wall. That morning, I noticed that I was a little demoralized; I felt overwhelmed and dejected. The most of the time, I feel quite pitiful.\",\n",
        "    \"1 i feel so inhibited in someone elses kitchen like im painting on someone elses picture. i found myself feeling a little discouraged that morning, i become overwhelmed and feel defeated. i feel pretty pathetic most of the time\",\n",
        "    \"0 i feel irritated and rejected without anyone doing anything or saying anything\",\n",
        "    \"0 i know the pain parents feel when an enraged child becomes violent\",\n",
        "    \"0 im feeling bitter today my mood has been strange the entire day so i guess its that\",\n",
        "    \"0 i feel disgusted to even be associated with this woman by my race and nationality\",\n",
        "    \"0 i laughed then bitterly again but i wasnt feeling bitter\"\n",
        "    \"0 im feeling distracted i tend to practice with my eyes shut as much as possible\"\n",
        "    \"4 stress, depression, melancholy, gloom, misery is what in my mind and body now. And the thought of suicide keep haunting me day after day. I dont want to live anymore, I am so exhausted with the work at school.\",\n",
        "    \"4 I currently feel stress, depression, melancholy, gloom, and unhappiness in my body and mind. And I'm plagued by the idea of suicide every single day. I am so worn out from the job at school that I don't want to live any longer.\",\n",
        "    \"4 My body and mind are currently experiencing tension, depression, melancholy, gloom, and dissatisfaction. And I have the urge to commit suicide every single day. I don't want to live any longer because I am so exhausted from my work at school.\",\n",
        "    \"4 Currently, stress, despair, melancholy, gloom, and discontent are present in my body and mind. And I feel like killing myself every single day. I am so worn out from my job at school that I don't want to live any longer.\",\n",
        "    \"4 My body and mind are currently experiencing tension, desperation, depression, gloom, and unhappiness. And I have a constant want to destroy myself. I don't want to live any longer because my job at school has tired me out so much.\",\n",
        "    \"4 My body and mind are currently experiencing tension, desperation, depression, gloom, and unhappiness. I despise my parents, my ex-girlfriend (she dumped me), and my closest friends (they treat me with contempt).\",\n",
        "    \"4 My parents, my ex-girlfriend (who dumped me), and my closest friends (who are rude to me) are all people I hate. I simply want to log out of this world and commit suicide because of them all\",\n",
        "    \"4 I despise my parents, my ex-girlfriend who dumped me, and my closest friends who treat me badly. Because of them all, I just want to log out of this world and commit suicide.\"\n",
        "    \"5 I appear to be hooked to my phone since it's the only thing that can let me escape the actual world, where nobody cares about me, and I'm constantly alone in my room with only it. I'm by myself, lonesome, unattended, isolated, and apart from everyone.\",\n",
        "    \"5 in the dark of my room, i always alone with just my phone, I seem to be addicted t o it cause it is the only way that can help me escape the real word in which there is nobody care about me. I am alone, solitary, unattended, isolated, separated from the crowd\",\n",
        "    \"5 Since my phone is the only thing that can help me escape the real world, where nobody is interested in me, and since I am always alone myself in my room with it, I have the appearance of being addicted to it. I'm alone, unaccompanied, isolated, and separate from everyone.\",\n",
        "    \"5 Because I can only escape the real world, where no one is interested in me, and because I am confined to my room alone almost continuously, I have the appearance of being addicted to my phone. I'm alone, unaccompanied, separated from everyone, and all by myself.\",\n",
        "    \"5 I have the appearance of being addicted to my phone because I can only use it as an escape from the real world, where no one is interested in me, and because I am locked in my room by myself practically constantly. I'm all by myself, unaccompanied, apart from everyone else.\",\n",
        "    \"5 Because I can only use my phone to escape from the real world, where no one is interested in me, and because I am nearly always trapped in my room by myself, I give the impression that I am addicted to my phone. I'm alone, unaided, and separate from everyone else.\",\n",
        "    \"2 I have just committed a very tragedy wrongdoing. I was y allied to guilt and self-directed resentment.  I had lied to his parents about his grades and was feeling very guilty about it. I knew I had to tell them the truth but I was afraid of their reaction. Now the shameful feeling is in me: repentance and self-accusation.\",\n",
        "    \"2 I just did something extremely tragically wrong. I was connected to self-directed wrath and guilt.  I felt terrible about lying to his parents about his academic standing. Although I was aware that I had to be honest with them, I was terrified of their response. I'm now experiencing a guilty sensation of regret and self-blame.\",\n",
        "    \"2 Just now, I made a terrible, dreadful mistake. I had a connection to remorse and self-directed rage.  I felt guilty for misrepresenting his academic position to his parents. I knew I had to tell them the truth, but I was afraid of what they might say. Right now, I'm feeling bad and blaming myself for what happened.\"\n",
        "    \"2 I made a terrible, awful error just now. I was connected to regret and anger that was aimed at myself.  I felt bad for lying to his parents about his academic standing. Although I was aware that I had to be honest with them, I was terrified of what they would say. I'm feeling guilty and blaming myself for what transpired right now.\",\n",
        "    \"2 I just committed a terrible, terrible error. I felt a connection to self-directed remorse and rage.  I felt horrible for misrepresenting his academic position to his parents. I knew I had to tell them the truth, but I was afraid of what they might say. I'm feeling bad right now and blaming myself for what happened.\",\n",
        "    \"2 Last day, I insulted my friend, I did bodyshaming him. But now I feel truly horrible for my wrongdoings. Now in me, the feeling self-directed remorse is elevating. How can I apologize him and stop doing self-reproach every single day\",\n",
        "    \"2 I body shamed my buddy the other day after I criticized her. But now that I've done wrong, I feel so awful. Self-directed regret is now becoming more intense in me. How can I apologise to him and stop always criticizing myself?\",\n",
        "    \"2 The other day, I body shamed my friend after criticizing her. But now that I've messed up, I feel so terrible. I'm experiencing more and more self-directed remorse at the moment. How can I apologize to him and stop putting myself down so much?\",\n",
        "    \"2 The other day, after criticizing my buddy, I body shamed her. But I feel so bad now that I botched things. I'm now going through an increasing amount of self-directed regret. How do I stop criticizing myself so much and express my regret to him?\",\n",
        "    \"2 The other day, I body shamed my friend after I had criticized her. But now that I've messed up, I feel so terrible. I'm currently experiencing a lot more self-directed remorse. How do I tell him I'm sorry and stop being so hard on myself?\",\n",
        "    \"6 today, after meditation, I have a feeling of great pleasure and happiness. I am filled with delight, joyfulness, exhilaration, ectasy. I am very excited to go to school, to meet my lovely friendes. everything just happens smoothly and pleasant to me\",\n",
        "    \"6 Today, after meditating, I feel really happy and content. I'm overjoyed, joyous, exhilarated, and ecstatic. I can't wait to get to school and see all of my great friends. Everything is really easy and enjoyable for me.\",\n",
        "    \"6 After practicing meditation today, I feel really pleased and happy. I'm thrilled, joyful, euphoric, and invigorated. I am eager to visit my wonderful pals at school. For me, everything is really simple and pleasurable.\",\n",
        "    \"6 After practicing meditation today, I feel really pleased and happy. I'm thrilled, joyful, euphoric, and invigorated. I am eager to visit my wonderful pals at school. For me, everything is really simple and pleasurable.\",\n",
        "    \"6 I feel really satisfied and joyful after practicing meditation today. I feel elated, happy, ecstatic, and reenergized. I can't wait to see my amazing school friends. Everything is incredibly easy and enjoyable for me.\",\n",
        "    \"6 After engaging in some meditation today, I feel really content and happy. I'm jubilant, joyful, delighted, and revitalized. I am very excited to see my wonderful school mates. For me, everything is really simple and pleasurable.\",\n",
        "    \"6 I assisted an elderly man in crossing the street today. She was really appreciative of me and complimented me in a way that made me happy. The takeaway is that their pleasure is dependent on other people. They may also assist others in finding pleasure, just as others can assist them in doing so.\"\n",
        "    \"6 Today, I helped a senior citizen cross the street. She gave me a lot of credit and complemented me in a way that made me feel good. The lesson is that they need other people to enjoy themselves. In the same way that others may help them, they might also help other people enjoy themselves.\",\n",
        "    \"6 I assisted an older citizen in crossing the street today. She was quite complimentary and gave me a lot of credit, which made me feel fantastic. The key takeaway is that they cannot have fun alone. They may assist others in the same manner that they might assist others in having fun.\"\n",
        "    \"6 Today, I helped a senior citizen cross the street. She gave me a lot of credit and was really nice, which made me feel great. The main lesson is that they can't enjoy themselves by themselves. They might help others in the same way that they could help others have pleasure.\",\n",
        "    \"9 My pals are helping me grasp a really challenging subject today. As a result, I am quite grateful for their patience. I believe I owe them a great debt. I sincerely thank them; now I must take action to repay them.\",\n",
        "    \"9 Today, my friends are assisting me in understanding a pretty difficult topic. I am therefore really appreciative of their tolerance. I really feel like I owe them a lot. I really appreciate them, and now I must act to return the favor. This appreciation is wonderful, and it improves my life.\"\n",
        "    \"9 My pals are helping me grasp a really complex subject today. Therefore, I truly appreciate their patience. I have a strong sense that I owe them a lot. I genuinely appreciate them, and now I have to do something to pay them back. My life is better because of this amazing admiration.\",\n",
        "    \"9 Today my friends are assisting me in understanding a really difficult topic. Their warmth and tolerance astounded me. I thought he owed them a lot for their assistance. He wanted to let them know how much I valued their relationship since, as I soon understood, he had taken it for granted. To show his friends how much I cared, I made the decision to do something special for them. They were all invited to a surprise party I threw for them. The kindness and feeling of appreciation were sensed by my pals. I realized then and there that friendships may be significantly strengthened by showing thanks and appreciation.\",\n",
        "    \"9 Today, my buddies are helping me to comprehend an extremely challenging subject. I was surprised by their friendliness and tolerance. I believed he owed them a great deal for their help. As I quickly realized, he had taken their friendship for granted, therefore he wanted to express how much I cherished it. I decided to do something special for his buddies to show them how much I cared. I gave them a surprise party, and they were all invited. My friends could feel the consideration and care. I understood right then and then that expressing gratitude and appreciation may greatly enhance friendships.\",\n",
        "    \"9 I begin to grow throughout puberty, both physically and mentally. I am now overwhelmed by thanks for my parents' efforts and their devotion in providing for me in every manner. I owe them a great debt of gratitude for giving me this life.\",\n",
        "    \"9 During my puberty, I start grow in both physica body and mind. I understand the attempt of my parents, their love, they always try to care for me everything, Now I am filled with big gratitude, I owe this life to  them with huge respect and appreciation grategully\",\n",
        "    \"9 During puberty, I start to develop both physically and intellectually. I am now overcome with gratitude for my parents' efforts and commitment to taking care of me in every way. They gave me this life, and I owe them a big debt of gratitude.\",\n",
        "    \"9 I start to grow both physically and cognitively during puberty. Now when I think of my parents' work and dedication to providing for me in every manner, I am struck with appreciation. I owe them a huge debt of gratitude since they gave me this life.\",\n",
        "    \"9 During puberty, I begin to develop mentally and physically. I am now moved to gratitude when I consider how hard my parents worked and how committed they were to provide for me in every way. Since they gave me this life, I owe them a great debt of gratitude.\",\n",
        "    \"9 One day, a friend of mine came over to visit me. She brought me some flowers and a card that said “I’m here for you”. I was touched by her kindness and it made me feel better. From that day on, I started to appreciate the little things in life more. I realized that there were people who cared about me and that I wasn’t alone. I started to feel more grateful for the good things in my life and less focused on the negative. My friend’s gesture of kindness helped me see the world in a different light.\",\n",
        "    \"9 One day, I had a visit from a buddy. She came over with some flowers and a I'm here for you card. Her thoughtfulness moved me, and it improved my mood. I began to value the simple things in life more after that day. I understood that I was not alone and that there were people out there that cared about me. I began to be more appreciative of the positive aspects of my life and less concerned with the drawbacks. I was able to change how I perceived the world because to my friends thoughtful action.\",\n",
        "    \"9 I had a visit from a friend one day. She arrived bearing flowers and a I'm here for you card. I was impressed by her thoughtfulness, and it made me feel better. After that day, I started to appreciate the small things in life more. I realized there were people out there who cared about me and that I wasn't alone. I started to focus less on the negative parts of my life and more on the positive ones. I was able to alter my perspective of the world as a result of my friend's kind deed.\",\n",
        "    \"9 One day a buddy came to see me. She showed up with bouquets and a I'm here for you card. Her thoughtfulness pleased me, and it made me feel better. I began to value the little things in life more after that day. I came to the realization that I wasn't alone and that there were others who cared about me. I began to place more emphasis on the positive aspects of my life and less on the unpleasant ones. I was able to change my worldview as a consequence of my friend's thoughtful act.\",\n",
        "    \"10 I had been working on a project for months and it was finally coming to an end. I had put in a lot of hard work and dedication into it. When I finally finished it, I felt a sense of pride in myself. I realized that I was capable of achieving great things if I put my mind to it. I am very proud of myself, prides in myself.From that day on, I learned to believe in myself and my abilities more.\",\n",
        "    \"10 I was nearing completion of a project that I had been working on for some months. I had worked really arduously and with great attention on it. I felt proud of myself when I eventually finished it. I came to the conclusion that if I set my mind to anything, I could do amazing things. I take great pleasure in and in myself.I started to have more confidence in my skills and abilities after that day\",\n",
        "    \"10 A project I had been working on for a few months was almost finished. I had put in a lot of effort and paid close attention to it. When I finally finished it, I was pleased with myself. I realized that everything was possible for me to do if I put my mind to it. I enjoy being happy with myself.After that day, I gradually gained greater faith in my skills and abilities.\",\n",
        "    \"10 I believe I am a math prodigy. I am quite pleased of my aptitude in arithmetic. Everyone is pulling for me and giving me accolades. They cheer and compliment me often. They've congratulated me, and I'm really happy.\",\n",
        "    \"10 I think I'm a math genius. I am satisfied with my ability for mathematics. Everyone is rooting for me and praising me. They frequently applaud and commend me. I've received their congratulations, and I'm overjoyed.\",\n",
        "    \"10 I believe I am a math prodigy. I am happy with my mathematical skills. Everyone is cheering me on and complimenting me. They often congratulate and praise me. They have congratulated me, and I am ecstatic.\",\n",
        "    \"10 I think I'm a math genius. My aptitude in mathematics makes me joyful. Everyone is encouraging me and praising me. They frequently congrats and laud me. I've received their congratulations, and I'm overjoyed.\",\n",
        "    \"10 I was nearing completion of a project that I had been working on for a few months. I had worked hard and had paid great attention to it. I was happy with myself after I had done it. I came to the conclusion that everything I set my mind to might be accomplished by me. I like feeling good about myself.After that day, my confidence in my skills and abilities grew over time.\",\n",
        "    \"9 I have always been grateful for my family and the people around me. They have always been there for me through thick and thin. I have learned to appreciate the little things in life because of them. They have taught me that love is the most important thing in life and that it’s important to cherish the people around you. From that day on, I learned to love my family and everyone around me more.\",\n",
        "    \"7 I love my parents so much, I always care for them, sending my big heart to my family members all the time.  I want to make my warmth pervasive to everyone around. That is my devotion, relentless love\",\n",
        "    \"7 I have a huge heart and constantly send it to my family since I adore my parents and take such good care of them.  I want to spread my warmth over the entire area. That is my unwavering love and dedication.\",\n",
        "    \"7 I have a big heart and continually send it to my family since I love and care for my parents so much.  I want to fill the space with my warmth. That is my undying devotion and adoration.\",\n",
        "    \"7 I have always been a very caring person. I love my family and friends and I always try to show them how much I care. I believe that love is the most important thing in life and that it’s important to cherish the people around you. From that day on, I learned to love my family and everyone around me more.\",\n",
        "    \"7 I've always taken great care of others. I constantly strive to show my friends and family how much I care because I adore them. Love, in my opinion, is the most significant aspect of life, and I think it's crucial to value the people in your life. I gained a greater affection for my family and everyone around me after that day.\",\n",
        "    \"7 I've always given them my very best. I love my friends and family and I always try to make sure they know how much I care for them. Love is the most important component of life, in my opinion, and it's important to cherish the people in your life, in my opinion. After that day, I had a deeper love for my family and everyone else in my life.\",\n",
        "    \"7 I have always had a soft spot for underprivileged children. I believe that every child deserves a chance to succeed in life. From that day on, I learned to love and care for underprivileged children more.  I have a big heart and continually send it to them since I love and care for them so much.\",\n",
        "    \"7 I've always had a special place for kids from poor backgrounds. Every youngster should have the opportunity to achieve in life, in my opinion. I started learning to love and care for disadvantaged kids more after that day.  I have a large heart and I send it to them all the time because I care and love them so much.\",\n",
        "    \"7 Poor children have always held a particular place in my heart. In my opinion, every young person should have the chance to succeed in life. After that day, I began to develop a deeper love and compassion for underprivileged children.  My heart is big, and I constantly send it to them because I care and love them so much.\",\n",
        "    \"8 I'll take part in a competition and am confident I'll take home the top honors. Such positivity gives me hope, buoyancy, and confidence.\",\n",
        "    \"8 I will participate in a competition; I feel very optimistic that I will win the first prize. Such optimism helps me gain hopefulness, buoyancy and confidence\",\n",
        "    \"8 I have always been an optimistic person. I believe that there is always a silver lining in every situation. From that day on, I learned to look at the bright side of things and to stay positive no matter what.\",\n",
        "    \"8 I've always had a positive outlook on life. I firmly think that every circumstance has a bright side. I gained the ability to see the silver lining in any situation and to maintain my optimistic outlook as a result of that day.\",\n",
        "    \"8 I've always been optimistic about life. I genuinely believe that there is good in every situation. That day gave me the capacity to keep my positive mindset and the ability to see the silver lining in any circumstance.\",\n",
        "    \"8 I'll participate in a competition and am sure I'll win first place. Such enthusiasm instills optimism, buoyancy, and confidence in me\",\n",
        "]"
      ]
    },
    {
      "cell_type": "markdown",
      "metadata": {
        "id": "eKHXQFwY51Xc"
      },
      "source": [
        "Read the code here if you want to know how I create the Dataframe. At the cell code below, I create a list `label` to get the `index label` from the first element in the sentence. Next I performing mapping with each emotion category."
      ]
    },
    {
      "cell_type": "code",
      "execution_count": null,
      "metadata": {
        "colab": {
          "base_uri": "https://localhost:8080/"
        },
        "id": "K6HHF4OONfot",
        "outputId": "362ed016-1e2f-41b0-8241-e5ba32164ce0"
      },
      "outputs": [
        {
          "data": {
            "text/plain": [
              "fear          14\n",
              "depression    14\n",
              "gratitude     14\n",
              "sadness       13\n",
              "anger         11\n",
              "remorse       10\n",
              "love           9\n",
              "joy            8\n",
              "pride          8\n",
              "optimism       7\n",
              "lonely         6\n",
              "confusion      4\n",
              "Name: classes, dtype: int64"
            ]
          },
          "execution_count": 42,
          "metadata": {},
          "output_type": "execute_result"
        }
      ],
      "source": [
        "labels = []\n",
        "for text in texts:\n",
        "  text = text.split()\n",
        "  labels.append(int(text[0]))\n",
        "\n",
        "def mapping_labels(row):\n",
        "  if row.index_label == 0:\n",
        "    return \"anger\"\n",
        "  elif row.index_label == 1:\n",
        "    return \"sadness\"\n",
        "  elif row.index_label == 2:\n",
        "    return \"remorse\"\n",
        "  elif row.index_label == 3:\n",
        "    return \"fear\"\n",
        "  elif row.index_label == 4:\n",
        "    return \"depression\"\n",
        "  elif row.index_label == 5:\n",
        "    return \"lonely\"\n",
        "  elif row.index_label == 6:\n",
        "    return \"joy\"\n",
        "  elif row.index_label == 7:\n",
        "    return \"love\"\n",
        "  elif row.index_label == 8:\n",
        "    return \"optimism\"\n",
        "  elif row.index_label == 9:\n",
        "    return \"gratitude\"\n",
        "  elif row.index_label == 10:\n",
        "    return \"pride\"\n",
        "  else:\n",
        "    return \"confusion\"\n",
        "\n",
        "def trinary_mapping(row):\n",
        "  if row.index_label in [0, 1, 2, 3, 4, 5]:\n",
        "    return \"Negative emotions\"\n",
        "  elif row.index_label in [6, 7, 8, 9, 10]:\n",
        "    return \"Positive emotions\"\n",
        "  else:\n",
        "    return \"Neutral emotions\"\n",
        "\n",
        "def trinary_mapping_index(row):\n",
        "  if row.index_label in [0, 1, 2, 3, 4, 5]:\n",
        "    return 0\n",
        "  elif row.index_label in [6, 7, 8, 9, 10]:\n",
        "    return 1\n",
        "  else:\n",
        "    return 2\n",
        "\n",
        "\n",
        "labels = pd.DataFrame(labels)\n",
        "labels.columns = [\"index_label\"]\n",
        "labels[\"classes\"] = labels.apply(mapping_labels, axis=1)\n",
        "labels[\"trinary_classes\"] = labels.apply(trinary_mapping, axis=1)\n",
        "labels[\"trinary_class_index\"] = labels.apply(trinary_mapping_index, axis=1)\n",
        "labels[\"classes\"].value_counts()"
      ]
    },
    {
      "cell_type": "markdown",
      "metadata": {
        "id": "T_Nf8Ry36Wdz"
      },
      "source": [
        "Now see how many sentences in our `texts` dataset"
      ]
    },
    {
      "cell_type": "code",
      "execution_count": null,
      "metadata": {
        "colab": {
          "base_uri": "https://localhost:8080/"
        },
        "id": "wJNlARhQSGRC",
        "outputId": "df0627a4-199d-4b2c-c770-9a2d6a8111bd"
      },
      "outputs": [
        {
          "name": "stdout",
          "output_type": "stream",
          "text": [
            "118 118\n"
          ]
        }
      ],
      "source": [
        "print(len(texts), len(labels))"
      ]
    },
    {
      "cell_type": "markdown",
      "metadata": {
        "id": "ueWGK4nG6cGp"
      },
      "source": [
        "To remove the first element (which is label) in the `texts` list, we use `Regex` library from Python"
      ]
    },
    {
      "cell_type": "code",
      "execution_count": null,
      "metadata": {
        "colab": {
          "base_uri": "https://localhost:8080/"
        },
        "id": "E6dsXCJuCjVS",
        "outputId": "6dbaad16-c00a-4ffc-d8af-9adac5e4a0ef"
      },
      "outputs": [
        {
          "data": {
            "text/plain": [
              "['I feel very dejected today. I got a very low score in my math exam, everybody in class made a joke on me. The rest of my day, I do not feel like doing anything, the sadness, the sorrow just seem to fill in me. When coming home, my parents do not sympathize with me, they instead make me more disheartened.',\n",
              " 'I feel so lonely today. I have no friends to talk to or hang out with. Everyone at school ignores me or bullies me. They call me names and make fun of my appearance. I wish I had someone who cared about me and understood me. Someone who would listen to me and comfort me. Someone who would make me feel happy and loved.',\n",
              " 'I feel so angry and irritated today. I had a fight with my parents over my grades. They don’t appreciate how hard I study and how much pressure I face. They only care about the numbers and not about me. They compare me to other kids and make me feel inadequate. They yell at me and punish me for not meeting their expectations. They don’t respect me or support me. So frustrating',\n",
              " 'I feel so hopeless today. I have no future or purpose in life. Everything seems meaningless and pointless. Nothing makes me excited or motivated. Nothing brings me joy or satisfaction. I don’t have any goals or dreams to pursue. I don’t have any skills or talents to offer. I don’t have any value or worth as a person.',\n",
              " 'I feel so guilty today. I did something terrible that hurt someone I love. I lied to them and betrayed their trust. I broke their heart and ruined our relationship. I felt truly remorseful, concience-stricken, I can’t face them or forgive myself. I can’t undo what I did or make it right. I can’t erase the pain or the regret that I feel.',\n",
              " 'I feel so scared today. I have to face a challenge that is beyond my abilities. I have to deal with a situation that is out of my control. I have to cope with a change that is unwanted and unexpected. I don’t know what to do or how to handle it. I don’t know what will happen or how it will affect me. I don’t know if I can survive or overcome it.',\n",
              " \"It's very difficult to put into words the way I feel. It's kind of like a random rollercoaster of emotions - anger, self-hatred, despair, loneliness. I find that if I trigger it, I can swim the waters a little easier. Otherwise, it will attack me when I can least afford it.\",\n",
              " \"It's very difficult for me to open up about myself. I can be there for others but feel like if I open up that all dark and vile crap I have built up inside will stain and disgust the person I open up to….Sad thing is that with the training I have had, I know that alcohol is not the answer, but as the Chris Stapleton song 'Whiskey and You' says, I know that it helps in the moment to mask the pain, allowing me to move on.\",\n",
              " 'I’m fricken angry!  Things aren’t going the way I want and I’m pissed.  Your career is not where you want it to be, you have no wife and family, and how are you going to pay the bills?',\n",
              " 'At the end of this meditation I felt much more at peace.  I knew that what I really needed was to connect to my inner parts and find a peaceful relationship there before moving on with my day.',\n",
              " 'Sometimes the self-loathing gets the better of me. The thoughts of suicide start running rampant. I can say that I have only gotten close a couple of times. I think that my self-loathing is, in part, the reason for my depression',\n",
              " 'Sometimes I hate myself so much that I think about ending my life. The suicidal thoughts become very strong and frequent. I have only been close to doing it a few times. I believe that my self-hatred is partly the cause of my depression.',\n",
              " 'contemplate ending my life. The thoughts of suicide become more intense and frequent. Although I have only come close to attempting it a few times, I believe that my self-hatred is one of the reasons for my depression.',\n",
              " 'Sometimes I feel so much self-hatred that I consider ending my life. The suicidal thoughts become more intense and frequent. Although I have only come close to attempting it a few times, I believe that my self-loathing is one of the reasons for my depression.',\n",
              " 'Today I feel very scared. I have to face a challenge that is beyond my abilities. I have to deal with a situation that is out of my control. I have to cope with an unwanted and unexpected change. I don’t know what to do or how to handle it. I don’t know what will happen or how it will affect me. I don’t know if I can survive or overcome it.',\n",
              " 'Today I feel very down. I received a very low score on my math exam and everyone in class made fun of me. The rest of my day, I don’t feel like doing anything. The sadness and sorrow seem to fill me up. When I got home, my parents didn’t sympathize with me and instead made me feel more disheartened.',\n",
              " 'After getting a low score on my math exam and being made fun of by everyone in class, I don’t feel like doing anything for the rest of the day. I’m filled with sadness and sorrow. When I got home, my parents didn’t sympathize with me and instead made me feel more disheartened.',\n",
              " 'Today has been really tough. I got a very low score on my math exam and everyone in class made fun of me. The rest of the day, I don’t feel like doing anything. The sadness and sorrow seem to fill me up. When I got home, my parents didn’t sympathize with me and instead made me feel more disheartened.',\n",
              " 'My girlfriend left me because she thinks I’m not handsome or gifted enough. I feel very depressed and despondent. I hate myself and loathe every aspect of myself.',\n",
              " 'My girlfriend has left me since I am not handsome and gifted enough. I felt very depressed, veryt despondent. I hate myself, loatthe every aspect of myself',\n",
              " 'My girlfriend broke up with me because she thinks I’m not handsome or talented enough. I feel very depressed and hopeless. I hate myself and every aspect of myself.',\n",
              " 'My teachers do not appreciate me in the class, she or he always judge me since I always get lowscore.',\n",
              " 'My teachers don’t seem to appreciate me in class. They always judge me because I get low scores. It’s like they’re not seeing the real me and only focusing on my grades. It’s really frustrating and demotivating.',\n",
              " \"I don't think my teachers really like me in class. They always condemn me because I receive poor grades. It seems like people simply see my academics and don't get to know the real me. It's quite discouraging and annoying.\",\n",
              " \"I'm so enraged and frustrated right now. My dad and I got into a disagreement about my grades. They don't understand how difficult my studies are or how much strain I am under. They don't care about me; they only care about the stats. They make me feel inferior by making comparisons to other youngsters. They yell at me and chastise me for falling short of their standards. I'm not respected or encouraged by them. Such a pain.\",\n",
              " \"I'm currently so angry and frustrated. My dad and I had a discussion regarding my academic performance. They don't realize how challenging my coursework is or how much pressure I am under. They only worry about the statistics; they don't care about me. They compare me to other kids, which makes me feel inferior. They scream at me and berate me for not living up to their expectations. They don't value me or support me. What a pain.\",\n",
              " \"I'm so terrified right now. I have to take on a challenge that is too difficult for me. I have to deal with a circumstance that I have no control over. I have to adjust to an unwelcome and unexpected change. I have no idea what to do or how to deal with it. I have no idea what will occur or how it will impact me. I'm not sure if I can make it through or get through it.\",\n",
              " \"It's incredibly challenging for me to express how I feel. Anger, self-hatred, despair, and loneliness are some of the feelings that are like a random rollercoaster. I discover that if I cause it, I can swim through the water a little more easily. Otherwise, when I can least afford it, it will attack me.\",\n",
              " 'I find it exceedingly difficult to put my feelings into words. Feelings like a random rollercoaster include rage, self-loathing, despair, and loneliness. I find that I can move through the water a little more readily if I make it happen. Otherwise, it will attack me when I can least afford it.',\n",
              " 'It is quite tough for me to express my sentiments in words. Rage, self-loathing, despair, and loneliness are a few emotions that can feel like a random rollercoaster. If I force it to happen, I can navigate the water a little more easily. Otherwise, when I can least afford it, it will attack me.',\n",
              " \"I'm constantly irate at everything around me. I'm not sure why people continue to act in ways that I find repugnant. Anyone who looks at me in school, I want to fight them.\",\n",
              " \"I'm constantly irate at everything around me. I'm not sure why people continue to act in ways that I find repugnant. Anyone that looks at me in school makes me want to fight them. My family irritates me, my score enrages me, and my friendships make me angry.\",\n",
              " \"I get angry about everything all the time. I don't understand why people still behave in disgusting ways. I want to fight anyone who stares at me in school. My friends aggravate me, my score aggravates me, and my family aggravates me.\",\n",
              " \"I actually avoid looking people in the face because I prefer to shine, am overly self-aware, and worry that everyone is aware of my true emotions. I'm afraid they'll judge me. I'm constantly frightened and fearful.\",\n",
              " \"I truly avoid eye contact because I like to stand out, am too self-conscious, and am concerned that others are aware of my true feelings. I'm worried they'll criticize me. I'm terrified and afraid all the time.\",\n",
              " 'I was once an adolescent who was always afraid of the dark. Every night, I would turn on all the lights in my room and keep them on until I fell asleep. One night, my parents went out for dinner and left me home alone. I was scared but I didn’t want to show it. I decided to watch TV to distract myself from my fear. As I was watching TV, the power suddenly went out. I was terrified and didn’t know what to do. I tried to turn on my phone’s flashlight but it was dead. I felt like I was trapped in a dark abyss with no way out. After a few minutes of panicking, I remembered that I had a flashlight in my backpack. I quickly grabbed it and turned it on. The light from the flashlight made me feel safe and secure. From that day on, I learned that sometimes the things we fear the most can be overcome with a little bit of courage and resourcefulness.When I was a teenager, I used to have a fear of the dark. I would turn on every light in my room at night and leave them on until I went to sleep. My parents once left me alone at home while they went out to dinner. Although I was terrified, I tried not to show it. In order to avoid thinking about my dread, I chose to watch TV. I was watching television when the power abruptly went off. I was frightened and unsure of what to do. I attempted to use the flashlight on my phone, but it was dead. I had the impression that I was helplessly',\n",
              " 'Going to school is a nightmare for me because of the demanding coursework, never-ending tasks, tight deadlines, and feisty classmates. utterly terrifying and dark time of day',\n",
              " 'Because of the difficult coursework, never-ending projects, strict deadlines, and tenacious peers, going to school is a nightmare for me. absolutely frightening and gloomy hour of the day',\n",
              " 'Going to school is a nightmare for me because of the challenging courses, never-ending projects, severe deadlines, and tough peers. the most ominous and terrifying time of the day',\n",
              " \"Talking to my parents is a nightmare since they never pay attention to me. Every time I respond to them, they always find a way to silence me. I'm quite hesitant to speak with them because I always feel so terrified and uneasy when I get home. That's what I constantly feel: anxiety and phobia.\",\n",
              " 'Talking with parents are nightmarish, they never listen to me. they are always shutting me up everytime I respond to them. I feelt very fear to talk with them its quite a terror, apprehension feel in me everytime I come home. Nervousnes, phobia - that;s what I feel through all the time',\n",
              " \"Since they never listen to me, talking to my parents is a nightmare. They always manage to quiet me once I speak to them. Because I always feel so afraid and nervous when I arrive home, I'm pretty hesitant to talk to them. I am continuously plagued by anxiety and phobia.\",\n",
              " 'Just by being around someone who cares and is awake, I can go from feeling so hopeless to feeling so very hopeful. I lack motivation, are depressed, have a negative mood, and want to give up everything.',\n",
              " 'I can go from feeling so hopeless to so damned hopeful just from being around someone who cares and is awake. Dont feel like doing anything, downmood, downcast, see like in dark color, want to give up everything',\n",
              " \"Don't feel like doing anything, are depressed, have a negative mood, and wish you could give up everything. I feel overpowered and defeated. The most of the time, I feel quite pitiful.\",\n",
              " \"In another person's kitchen, I feel so self-conscious that I feel like I'm painting on their wall. That morning, I noticed that I was a little demoralized; I felt overwhelmed and dejected. The most of the time, I feel quite pitiful.\",\n",
              " 'i feel so inhibited in someone elses kitchen like im painting on someone elses picture. i found myself feeling a little discouraged that morning, i become overwhelmed and feel defeated. i feel pretty pathetic most of the time',\n",
              " 'i feel irritated and rejected without anyone doing anything or saying anything',\n",
              " 'i know the pain parents feel when an enraged child becomes violent',\n",
              " 'im feeling bitter today my mood has been strange the entire day so i guess its that',\n",
              " 'i feel disgusted to even be associated with this woman by my race and nationality',\n",
              " 'i laughed then bitterly again but i wasnt feeling bitterim feeling distracted i tend to practice with my eyes shut as much as possiblestress, depression, melancholy, gloom, misery is what in my mind and body now. And the thought of suicide keep haunting me day after day. I dont want to live anymore, I am so exhausted with the work at school.',\n",
              " \"I currently feel stress, depression, melancholy, gloom, and unhappiness in my body and mind. And I'm plagued by the idea of suicide every single day. I am so worn out from the job at school that I don't want to live any longer.\",\n",
              " \"My body and mind are currently experiencing tension, depression, melancholy, gloom, and dissatisfaction. And I have the urge to commit suicide every single day. I don't want to live any longer because I am so exhausted from my work at school.\",\n",
              " \"Currently, stress, despair, melancholy, gloom, and discontent are present in my body and mind. And I feel like killing myself every single day. I am so worn out from my job at school that I don't want to live any longer.\",\n",
              " \"My body and mind are currently experiencing tension, desperation, depression, gloom, and unhappiness. And I have a constant want to destroy myself. I don't want to live any longer because my job at school has tired me out so much.\",\n",
              " 'My body and mind are currently experiencing tension, desperation, depression, gloom, and unhappiness. I despise my parents, my ex-girlfriend (she dumped me), and my closest friends (they treat me with contempt).',\n",
              " 'My parents, my ex-girlfriend (who dumped me), and my closest friends (who are rude to me) are all people I hate. I simply want to log out of this world and commit suicide because of them all',\n",
              " \"I despise my parents, my ex-girlfriend who dumped me, and my closest friends who treat me badly. Because of them all, I just want to log out of this world and commit suicide.I appear to be hooked to my phone since it's the only thing that can let me escape the actual world, where nobody cares about me, and I'm constantly alone in my room with only it. I'm by myself, lonesome, unattended, isolated, and apart from everyone.\",\n",
              " 'in the dark of my room, i always alone with just my phone, I seem to be addicted t o it cause it is the only way that can help me escape the real word in which there is nobody care about me. I am alone, solitary, unattended, isolated, separated from the crowd',\n",
              " \"Since my phone is the only thing that can help me escape the real world, where nobody is interested in me, and since I am always alone myself in my room with it, I have the appearance of being addicted to it. I'm alone, unaccompanied, isolated, and separate from everyone.\",\n",
              " \"Because I can only escape the real world, where no one is interested in me, and because I am confined to my room alone almost continuously, I have the appearance of being addicted to my phone. I'm alone, unaccompanied, separated from everyone, and all by myself.\",\n",
              " \"I have the appearance of being addicted to my phone because I can only use it as an escape from the real world, where no one is interested in me, and because I am locked in my room by myself practically constantly. I'm all by myself, unaccompanied, apart from everyone else.\",\n",
              " \"Because I can only use my phone to escape from the real world, where no one is interested in me, and because I am nearly always trapped in my room by myself, I give the impression that I am addicted to my phone. I'm alone, unaided, and separate from everyone else.\",\n",
              " 'I have just committed a very tragedy wrongdoing. I was y allied to guilt and self-directed resentment.  I had lied to his parents about his grades and was feeling very guilty about it. I knew I had to tell them the truth but I was afraid of their reaction. Now the shameful feeling is in me: repentance and self-accusation.',\n",
              " \"I just did something extremely tragically wrong. I was connected to self-directed wrath and guilt.  I felt terrible about lying to his parents about his academic standing. Although I was aware that I had to be honest with them, I was terrified of their response. I'm now experiencing a guilty sensation of regret and self-blame.\",\n",
              " \"Just now, I made a terrible, dreadful mistake. I had a connection to remorse and self-directed rage.  I felt guilty for misrepresenting his academic position to his parents. I knew I had to tell them the truth, but I was afraid of what they might say. Right now, I'm feeling bad and blaming myself for what happened.I made a terrible, awful error just now. I was connected to regret and anger that was aimed at myself.  I felt bad for lying to his parents about his academic standing. Although I was aware that I had to be honest with them, I was terrified of what they would say. I'm feeling guilty and blaming myself for what transpired right now.\",\n",
              " \"I just committed a terrible, terrible error. I felt a connection to self-directed remorse and rage.  I felt horrible for misrepresenting his academic position to his parents. I knew I had to tell them the truth, but I was afraid of what they might say. I'm feeling bad right now and blaming myself for what happened.\",\n",
              " 'Last day, I insulted my friend, I did bodyshaming him. But now I feel truly horrible for my wrongdoings. Now in me, the feeling self-directed remorse is elevating. How can I apologize him and stop doing self-reproach every single day',\n",
              " \"I body shamed my buddy the other day after I criticized her. But now that I've done wrong, I feel so awful. Self-directed regret is now becoming more intense in me. How can I apologise to him and stop always criticizing myself?\",\n",
              " \"The other day, I body shamed my friend after criticizing her. But now that I've messed up, I feel so terrible. I'm experiencing more and more self-directed remorse at the moment. How can I apologize to him and stop putting myself down so much?\",\n",
              " \"The other day, after criticizing my buddy, I body shamed her. But I feel so bad now that I botched things. I'm now going through an increasing amount of self-directed regret. How do I stop criticizing myself so much and express my regret to him?\",\n",
              " \"The other day, I body shamed my friend after I had criticized her. But now that I've messed up, I feel so terrible. I'm currently experiencing a lot more self-directed remorse. How do I tell him I'm sorry and stop being so hard on myself?\",\n",
              " 'today, after meditation, I have a feeling of great pleasure and happiness. I am filled with delight, joyfulness, exhilaration, ectasy. I am very excited to go to school, to meet my lovely friendes. everything just happens smoothly and pleasant to me',\n",
              " \"Today, after meditating, I feel really happy and content. I'm overjoyed, joyous, exhilarated, and ecstatic. I can't wait to get to school and see all of my great friends. Everything is really easy and enjoyable for me.\",\n",
              " \"After practicing meditation today, I feel really pleased and happy. I'm thrilled, joyful, euphoric, and invigorated. I am eager to visit my wonderful pals at school. For me, everything is really simple and pleasurable.\",\n",
              " \"After practicing meditation today, I feel really pleased and happy. I'm thrilled, joyful, euphoric, and invigorated. I am eager to visit my wonderful pals at school. For me, everything is really simple and pleasurable.\",\n",
              " \"I feel really satisfied and joyful after practicing meditation today. I feel elated, happy, ecstatic, and reenergized. I can't wait to see my amazing school friends. Everything is incredibly easy and enjoyable for me.\",\n",
              " \"After engaging in some meditation today, I feel really content and happy. I'm jubilant, joyful, delighted, and revitalized. I am very excited to see my wonderful school mates. For me, everything is really simple and pleasurable.\",\n",
              " 'I assisted an elderly man in crossing the street today. She was really appreciative of me and complimented me in a way that made me happy. The takeaway is that their pleasure is dependent on other people. They may also assist others in finding pleasure, just as others can assist them in doing so.Today, I helped a senior citizen cross the street. She gave me a lot of credit and complemented me in a way that made me feel good. The lesson is that they need other people to enjoy themselves. In the same way that others may help them, they might also help other people enjoy themselves.',\n",
              " \"I assisted an older citizen in crossing the street today. She was quite complimentary and gave me a lot of credit, which made me feel fantastic. The key takeaway is that they cannot have fun alone. They may assist others in the same manner that they might assist others in having fun.Today, I helped a senior citizen cross the street. She gave me a lot of credit and was really nice, which made me feel great. The main lesson is that they can't enjoy themselves by themselves. They might help others in the same way that they could help others have pleasure.\",\n",
              " 'My pals are helping me grasp a really challenging subject today. As a result, I am quite grateful for their patience. I believe I owe them a great debt. I sincerely thank them; now I must take action to repay them.',\n",
              " 'Today, my friends are assisting me in understanding a pretty difficult topic. I am therefore really appreciative of their tolerance. I really feel like I owe them a lot. I really appreciate them, and now I must act to return the favor. This appreciation is wonderful, and it improves my life.My pals are helping me grasp a really complex subject today. Therefore, I truly appreciate their patience. I have a strong sense that I owe them a lot. I genuinely appreciate them, and now I have to do something to pay them back. My life is better because of this amazing admiration.',\n",
              " 'Today my friends are assisting me in understanding a really difficult topic. Their warmth and tolerance astounded me. I thought he owed them a lot for their assistance. He wanted to let them know how much I valued their relationship since, as I soon understood, he had taken it for granted. To show his friends how much I cared, I made the decision to do something special for them. They were all invited to a surprise party I threw for them. The kindness and feeling of appreciation were sensed by my pals. I realized then and there that friendships may be significantly strengthened by showing thanks and appreciation.',\n",
              " 'Today, my buddies are helping me to comprehend an extremely challenging subject. I was surprised by their friendliness and tolerance. I believed he owed them a great deal for their help. As I quickly realized, he had taken their friendship for granted, therefore he wanted to express how much I cherished it. I decided to do something special for his buddies to show them how much I cared. I gave them a surprise party, and they were all invited. My friends could feel the consideration and care. I understood right then and then that expressing gratitude and appreciation may greatly enhance friendships.',\n",
              " \"I begin to grow throughout puberty, both physically and mentally. I am now overwhelmed by thanks for my parents' efforts and their devotion in providing for me in every manner. I owe them a great debt of gratitude for giving me this life.\",\n",
              " 'During my puberty, I start grow in both physica body and mind. I understand the attempt of my parents, their love, they always try to care for me everything, Now I am filled with big gratitude, I owe this life to  them with huge respect and appreciation grategully',\n",
              " \"During puberty, I start to develop both physically and intellectually. I am now overcome with gratitude for my parents' efforts and commitment to taking care of me in every way. They gave me this life, and I owe them a big debt of gratitude.\",\n",
              " \"I start to grow both physically and cognitively during puberty. Now when I think of my parents' work and dedication to providing for me in every manner, I am struck with appreciation. I owe them a huge debt of gratitude since they gave me this life.\",\n",
              " 'During puberty, I begin to develop mentally and physically. I am now moved to gratitude when I consider how hard my parents worked and how committed they were to provide for me in every way. Since they gave me this life, I owe them a great debt of gratitude.',\n",
              " 'One day, a friend of mine came over to visit me. She brought me some flowers and a card that said “I’m here for you”. I was touched by her kindness and it made me feel better. From that day on, I started to appreciate the little things in life more. I realized that there were people who cared about me and that I wasn’t alone. I started to feel more grateful for the good things in my life and less focused on the negative. My friend’s gesture of kindness helped me see the world in a different light.',\n",
              " \"One day, I had a visit from a buddy. She came over with some flowers and a I'm here for you card. Her thoughtfulness moved me, and it improved my mood. I began to value the simple things in life more after that day. I understood that I was not alone and that there were people out there that cared about me. I began to be more appreciative of the positive aspects of my life and less concerned with the drawbacks. I was able to change how I perceived the world because to my friends thoughtful action.\",\n",
              " \"I had a visit from a friend one day. She arrived bearing flowers and a I'm here for you card. I was impressed by her thoughtfulness, and it made me feel better. After that day, I started to appreciate the small things in life more. I realized there were people out there who cared about me and that I wasn't alone. I started to focus less on the negative parts of my life and more on the positive ones. I was able to alter my perspective of the world as a result of my friend's kind deed.\",\n",
              " \"One day a buddy came to see me. She showed up with bouquets and a I'm here for you card. Her thoughtfulness pleased me, and it made me feel better. I began to value the little things in life more after that day. I came to the realization that I wasn't alone and that there were others who cared about me. I began to place more emphasis on the positive aspects of my life and less on the unpleasant ones. I was able to change my worldview as a consequence of my friend's thoughtful act.\",\n",
              " 'I had been working on a project for months and it was finally coming to an end. I had put in a lot of hard work and dedication into it. When I finally finished it, I felt a sense of pride in myself. I realized that I was capable of achieving great things if I put my mind to it. I am very proud of myself, prides in myself.From that day on, I learned to believe in myself and my abilities more.',\n",
              " 'I was nearing completion of a project that I had been working on for some months. I had worked really arduously and with great attention on it. I felt proud of myself when I eventually finished it. I came to the conclusion that if I set my mind to anything, I could do amazing things. I take great pleasure in and in myself.I started to have more confidence in my skills and abilities after that day',\n",
              " 'A project I had been working on for a few months was almost finished. I had put in a lot of effort and paid close attention to it. When I finally finished it, I was pleased with myself. I realized that everything was possible for me to do if I put my mind to it. I enjoy being happy with myself.After that day, I gradually gained greater faith in my skills and abilities.',\n",
              " \"I believe I am a math prodigy. I am quite pleased of my aptitude in arithmetic. Everyone is pulling for me and giving me accolades. They cheer and compliment me often. They've congratulated me, and I'm really happy.\",\n",
              " \"I think I'm a math genius. I am satisfied with my ability for mathematics. Everyone is rooting for me and praising me. They frequently applaud and commend me. I've received their congratulations, and I'm overjoyed.\",\n",
              " 'I believe I am a math prodigy. I am happy with my mathematical skills. Everyone is cheering me on and complimenting me. They often congratulate and praise me. They have congratulated me, and I am ecstatic.',\n",
              " \"I think I'm a math genius. My aptitude in mathematics makes me joyful. Everyone is encouraging me and praising me. They frequently congrats and laud me. I've received their congratulations, and I'm overjoyed.\",\n",
              " 'I was nearing completion of a project that I had been working on for a few months. I had worked hard and had paid great attention to it. I was happy with myself after I had done it. I came to the conclusion that everything I set my mind to might be accomplished by me. I like feeling good about myself.After that day, my confidence in my skills and abilities grew over time.',\n",
              " 'I have always been grateful for my family and the people around me. They have always been there for me through thick and thin. I have learned to appreciate the little things in life because of them. They have taught me that love is the most important thing in life and that it’s important to cherish the people around you. From that day on, I learned to love my family and everyone around me more.',\n",
              " 'I love my parents so much, I always care for them, sending my big heart to my family members all the time.  I want to make my warmth pervasive to everyone around. That is my devotion, relentless love',\n",
              " 'I have a huge heart and constantly send it to my family since I adore my parents and take such good care of them.  I want to spread my warmth over the entire area. That is my unwavering love and dedication.',\n",
              " 'I have a big heart and continually send it to my family since I love and care for my parents so much.  I want to fill the space with my warmth. That is my undying devotion and adoration.',\n",
              " 'I have always been a very caring person. I love my family and friends and I always try to show them how much I care. I believe that love is the most important thing in life and that it’s important to cherish the people around you. From that day on, I learned to love my family and everyone around me more.',\n",
              " \"I've always taken great care of others. I constantly strive to show my friends and family how much I care because I adore them. Love, in my opinion, is the most significant aspect of life, and I think it's crucial to value the people in your life. I gained a greater affection for my family and everyone around me after that day.\",\n",
              " \"I've always given them my very best. I love my friends and family and I always try to make sure they know how much I care for them. Love is the most important component of life, in my opinion, and it's important to cherish the people in your life, in my opinion. After that day, I had a deeper love for my family and everyone else in my life.\",\n",
              " 'I have always had a soft spot for underprivileged children. I believe that every child deserves a chance to succeed in life. From that day on, I learned to love and care for underprivileged children more.  I have a big heart and continually send it to them since I love and care for them so much.',\n",
              " \"I've always had a special place for kids from poor backgrounds. Every youngster should have the opportunity to achieve in life, in my opinion. I started learning to love and care for disadvantaged kids more after that day.  I have a large heart and I send it to them all the time because I care and love them so much.\",\n",
              " 'Poor children have always held a particular place in my heart. In my opinion, every young person should have the chance to succeed in life. After that day, I began to develop a deeper love and compassion for underprivileged children.  My heart is big, and I constantly send it to them because I care and love them so much.',\n",
              " \"I'll take part in a competition and am confident I'll take home the top honors. Such positivity gives me hope, buoyancy, and confidence.\",\n",
              " 'I will participate in a competition; I feel very optimistic that I will win the first prize. Such optimism helps me gain hopefulness, buoyancy and confidence',\n",
              " 'I have always been an optimistic person. I believe that there is always a silver lining in every situation. From that day on, I learned to look at the bright side of things and to stay positive no matter what.',\n",
              " \"I've always had a positive outlook on life. I firmly think that every circumstance has a bright side. I gained the ability to see the silver lining in any situation and to maintain my optimistic outlook as a result of that day.\",\n",
              " \"I've always been optimistic about life. I genuinely believe that there is good in every situation. That day gave me the capacity to keep my positive mindset and the ability to see the silver lining in any circumstance.\",\n",
              " \"I'll participate in a competition and am sure I'll win first place. Such enthusiasm instills optimism, buoyancy, and confidence in me\"]"
            ]
          },
          "execution_count": 44,
          "metadata": {},
          "output_type": "execute_result"
        }
      ],
      "source": [
        "# create a pattern to match one or more digits followed by a space\n",
        "pattern = re.compile(r\"\\d+\\s\")\n",
        "\n",
        "# loop through the texts list and apply the sub method to remove the digits\n",
        "new_texts = []\n",
        "for text in texts:\n",
        "  new_text = pattern.sub(\"\", text) # replace the matched digits with an empty string\n",
        "  new_texts.append(new_text)\n",
        "\n",
        "# print the new_texts list\n",
        "new_texts"
      ]
    },
    {
      "cell_type": "markdown",
      "metadata": {
        "id": "vWFzkIdV6zvC"
      },
      "source": [
        "Now cancat the `texts` dataframe and `labels` dataframe into a complete dataset"
      ]
    },
    {
      "cell_type": "code",
      "execution_count": null,
      "metadata": {
        "colab": {
          "base_uri": "https://localhost:8080/",
          "height": 363
        },
        "id": "JUeBbSUgs8JH",
        "outputId": "c7814e99-0325-4cde-9c7b-e42ce3396bbf"
      },
      "outputs": [
        {
          "data": {
            "text/html": [
              "\n",
              "\n",
              "  <div id=\"df-5c62e459-36b5-498d-bd25-a5282acf03a8\">\n",
              "    <div class=\"colab-df-container\">\n",
              "      <div>\n",
              "<style scoped>\n",
              "    .dataframe tbody tr th:only-of-type {\n",
              "        vertical-align: middle;\n",
              "    }\n",
              "\n",
              "    .dataframe tbody tr th {\n",
              "        vertical-align: top;\n",
              "    }\n",
              "\n",
              "    .dataframe thead th {\n",
              "        text-align: right;\n",
              "    }\n",
              "</style>\n",
              "<table border=\"1\" class=\"dataframe\">\n",
              "  <thead>\n",
              "    <tr style=\"text-align: right;\">\n",
              "      <th></th>\n",
              "      <th>0</th>\n",
              "      <th>index_label</th>\n",
              "      <th>classes</th>\n",
              "      <th>trinary_classes</th>\n",
              "      <th>trinary_class_index</th>\n",
              "    </tr>\n",
              "  </thead>\n",
              "  <tbody>\n",
              "    <tr>\n",
              "      <th>90</th>\n",
              "      <td>One day, a friend of mine came over to visit m...</td>\n",
              "      <td>9</td>\n",
              "      <td>gratitude</td>\n",
              "      <td>Positive emotions</td>\n",
              "      <td>1</td>\n",
              "    </tr>\n",
              "    <tr>\n",
              "      <th>55</th>\n",
              "      <td>My body and mind are currently experiencing te...</td>\n",
              "      <td>4</td>\n",
              "      <td>depression</td>\n",
              "      <td>Negative emotions</td>\n",
              "      <td>0</td>\n",
              "    </tr>\n",
              "    <tr>\n",
              "      <th>100</th>\n",
              "      <td>I think I'm a math genius. My aptitude in math...</td>\n",
              "      <td>10</td>\n",
              "      <td>pride</td>\n",
              "      <td>Positive emotions</td>\n",
              "      <td>1</td>\n",
              "    </tr>\n",
              "    <tr>\n",
              "      <th>18</th>\n",
              "      <td>My girlfriend left me because she thinks I’m n...</td>\n",
              "      <td>1</td>\n",
              "      <td>sadness</td>\n",
              "      <td>Negative emotions</td>\n",
              "      <td>0</td>\n",
              "    </tr>\n",
              "    <tr>\n",
              "      <th>116</th>\n",
              "      <td>I've always been optimistic about life. I genu...</td>\n",
              "      <td>8</td>\n",
              "      <td>optimism</td>\n",
              "      <td>Positive emotions</td>\n",
              "      <td>1</td>\n",
              "    </tr>\n",
              "    <tr>\n",
              "      <th>83</th>\n",
              "      <td>Today my friends are assisting me in understan...</td>\n",
              "      <td>9</td>\n",
              "      <td>gratitude</td>\n",
              "      <td>Positive emotions</td>\n",
              "      <td>1</td>\n",
              "    </tr>\n",
              "    <tr>\n",
              "      <th>96</th>\n",
              "      <td>A project I had been working on for a few mont...</td>\n",
              "      <td>10</td>\n",
              "      <td>pride</td>\n",
              "      <td>Positive emotions</td>\n",
              "      <td>1</td>\n",
              "    </tr>\n",
              "    <tr>\n",
              "      <th>105</th>\n",
              "      <td>I have a big heart and continually send it to ...</td>\n",
              "      <td>7</td>\n",
              "      <td>love</td>\n",
              "      <td>Positive emotions</td>\n",
              "      <td>1</td>\n",
              "    </tr>\n",
              "    <tr>\n",
              "      <th>87</th>\n",
              "      <td>During puberty, I start to develop both physic...</td>\n",
              "      <td>9</td>\n",
              "      <td>gratitude</td>\n",
              "      <td>Positive emotions</td>\n",
              "      <td>1</td>\n",
              "    </tr>\n",
              "    <tr>\n",
              "      <th>8</th>\n",
              "      <td>I’m fricken angry!  Things aren’t going the wa...</td>\n",
              "      <td>0</td>\n",
              "      <td>anger</td>\n",
              "      <td>Negative emotions</td>\n",
              "      <td>0</td>\n",
              "    </tr>\n",
              "  </tbody>\n",
              "</table>\n",
              "</div>\n",
              "      <button class=\"colab-df-convert\" onclick=\"convertToInteractive('df-5c62e459-36b5-498d-bd25-a5282acf03a8')\"\n",
              "              title=\"Convert this dataframe to an interactive table.\"\n",
              "              style=\"display:none;\">\n",
              "\n",
              "  <svg xmlns=\"http://www.w3.org/2000/svg\" height=\"24px\"viewBox=\"0 0 24 24\"\n",
              "       width=\"24px\">\n",
              "    <path d=\"M0 0h24v24H0V0z\" fill=\"none\"/>\n",
              "    <path d=\"M18.56 5.44l.94 2.06.94-2.06 2.06-.94-2.06-.94-.94-2.06-.94 2.06-2.06.94zm-11 1L8.5 8.5l.94-2.06 2.06-.94-2.06-.94L8.5 2.5l-.94 2.06-2.06.94zm10 10l.94 2.06.94-2.06 2.06-.94-2.06-.94-.94-2.06-.94 2.06-2.06.94z\"/><path d=\"M17.41 7.96l-1.37-1.37c-.4-.4-.92-.59-1.43-.59-.52 0-1.04.2-1.43.59L10.3 9.45l-7.72 7.72c-.78.78-.78 2.05 0 2.83L4 21.41c.39.39.9.59 1.41.59.51 0 1.02-.2 1.41-.59l7.78-7.78 2.81-2.81c.8-.78.8-2.07 0-2.86zM5.41 20L4 18.59l7.72-7.72 1.47 1.35L5.41 20z\"/>\n",
              "  </svg>\n",
              "      </button>\n",
              "\n",
              "\n",
              "\n",
              "    <div id=\"df-ac51fba4-287a-45be-9248-b1c9d128d2e4\">\n",
              "      <button class=\"colab-df-quickchart\" onclick=\"quickchart('df-ac51fba4-287a-45be-9248-b1c9d128d2e4')\"\n",
              "              title=\"Suggest charts.\"\n",
              "              style=\"display:none;\">\n",
              "\n",
              "<svg xmlns=\"http://www.w3.org/2000/svg\" height=\"24px\"viewBox=\"0 0 24 24\"\n",
              "     width=\"24px\">\n",
              "    <g>\n",
              "        <path d=\"M19 3H5c-1.1 0-2 .9-2 2v14c0 1.1.9 2 2 2h14c1.1 0 2-.9 2-2V5c0-1.1-.9-2-2-2zM9 17H7v-7h2v7zm4 0h-2V7h2v10zm4 0h-2v-4h2v4z\"/>\n",
              "    </g>\n",
              "</svg>\n",
              "      </button>\n",
              "    </div>\n",
              "\n",
              "<style>\n",
              "  .colab-df-quickchart {\n",
              "    background-color: #E8F0FE;\n",
              "    border: none;\n",
              "    border-radius: 50%;\n",
              "    cursor: pointer;\n",
              "    display: none;\n",
              "    fill: #1967D2;\n",
              "    height: 32px;\n",
              "    padding: 0 0 0 0;\n",
              "    width: 32px;\n",
              "  }\n",
              "\n",
              "  .colab-df-quickchart:hover {\n",
              "    background-color: #E2EBFA;\n",
              "    box-shadow: 0px 1px 2px rgba(60, 64, 67, 0.3), 0px 1px 3px 1px rgba(60, 64, 67, 0.15);\n",
              "    fill: #174EA6;\n",
              "  }\n",
              "\n",
              "  [theme=dark] .colab-df-quickchart {\n",
              "    background-color: #3B4455;\n",
              "    fill: #D2E3FC;\n",
              "  }\n",
              "\n",
              "  [theme=dark] .colab-df-quickchart:hover {\n",
              "    background-color: #434B5C;\n",
              "    box-shadow: 0px 1px 3px 1px rgba(0, 0, 0, 0.15);\n",
              "    filter: drop-shadow(0px 1px 2px rgba(0, 0, 0, 0.3));\n",
              "    fill: #FFFFFF;\n",
              "  }\n",
              "</style>\n",
              "\n",
              "    <script>\n",
              "      async function quickchart(key) {\n",
              "        const containerElement = document.querySelector('#' + key);\n",
              "        const charts = await google.colab.kernel.invokeFunction(\n",
              "            'suggestCharts', [key], {});\n",
              "      }\n",
              "    </script>\n",
              "\n",
              "      <script>\n",
              "\n",
              "function displayQuickchartButton(domScope) {\n",
              "  let quickchartButtonEl =\n",
              "    domScope.querySelector('#df-ac51fba4-287a-45be-9248-b1c9d128d2e4 button.colab-df-quickchart');\n",
              "  quickchartButtonEl.style.display =\n",
              "    google.colab.kernel.accessAllowed ? 'block' : 'none';\n",
              "}\n",
              "\n",
              "        displayQuickchartButton(document);\n",
              "      </script>\n",
              "      <style>\n",
              "    .colab-df-container {\n",
              "      display:flex;\n",
              "      flex-wrap:wrap;\n",
              "      gap: 12px;\n",
              "    }\n",
              "\n",
              "    .colab-df-convert {\n",
              "      background-color: #E8F0FE;\n",
              "      border: none;\n",
              "      border-radius: 50%;\n",
              "      cursor: pointer;\n",
              "      display: none;\n",
              "      fill: #1967D2;\n",
              "      height: 32px;\n",
              "      padding: 0 0 0 0;\n",
              "      width: 32px;\n",
              "    }\n",
              "\n",
              "    .colab-df-convert:hover {\n",
              "      background-color: #E2EBFA;\n",
              "      box-shadow: 0px 1px 2px rgba(60, 64, 67, 0.3), 0px 1px 3px 1px rgba(60, 64, 67, 0.15);\n",
              "      fill: #174EA6;\n",
              "    }\n",
              "\n",
              "    [theme=dark] .colab-df-convert {\n",
              "      background-color: #3B4455;\n",
              "      fill: #D2E3FC;\n",
              "    }\n",
              "\n",
              "    [theme=dark] .colab-df-convert:hover {\n",
              "      background-color: #434B5C;\n",
              "      box-shadow: 0px 1px 3px 1px rgba(0, 0, 0, 0.15);\n",
              "      filter: drop-shadow(0px 1px 2px rgba(0, 0, 0, 0.3));\n",
              "      fill: #FFFFFF;\n",
              "    }\n",
              "  </style>\n",
              "\n",
              "      <script>\n",
              "        const buttonEl =\n",
              "          document.querySelector('#df-5c62e459-36b5-498d-bd25-a5282acf03a8 button.colab-df-convert');\n",
              "        buttonEl.style.display =\n",
              "          google.colab.kernel.accessAllowed ? 'block' : 'none';\n",
              "\n",
              "        async function convertToInteractive(key) {\n",
              "          const element = document.querySelector('#df-5c62e459-36b5-498d-bd25-a5282acf03a8');\n",
              "          const dataTable =\n",
              "            await google.colab.kernel.invokeFunction('convertToInteractive',\n",
              "                                                     [key], {});\n",
              "          if (!dataTable) return;\n",
              "\n",
              "          const docLinkHtml = 'Like what you see? Visit the ' +\n",
              "            '<a target=\"_blank\" href=https://colab.research.google.com/notebooks/data_table.ipynb>data table notebook</a>'\n",
              "            + ' to learn more about interactive tables.';\n",
              "          element.innerHTML = '';\n",
              "          dataTable['output_type'] = 'display_data';\n",
              "          await google.colab.output.renderOutput(dataTable, element);\n",
              "          const docLink = document.createElement('div');\n",
              "          docLink.innerHTML = docLinkHtml;\n",
              "          element.appendChild(docLink);\n",
              "        }\n",
              "      </script>\n",
              "    </div>\n",
              "  </div>\n"
            ],
            "text/plain": [
              "                                                     0  index_label  \\\n",
              "90   One day, a friend of mine came over to visit m...            9   \n",
              "55   My body and mind are currently experiencing te...            4   \n",
              "100  I think I'm a math genius. My aptitude in math...           10   \n",
              "18   My girlfriend left me because she thinks I’m n...            1   \n",
              "116  I've always been optimistic about life. I genu...            8   \n",
              "83   Today my friends are assisting me in understan...            9   \n",
              "96   A project I had been working on for a few mont...           10   \n",
              "105  I have a big heart and continually send it to ...            7   \n",
              "87   During puberty, I start to develop both physic...            9   \n",
              "8    I’m fricken angry!  Things aren’t going the wa...            0   \n",
              "\n",
              "        classes    trinary_classes  trinary_class_index  \n",
              "90    gratitude  Positive emotions                    1  \n",
              "55   depression  Negative emotions                    0  \n",
              "100       pride  Positive emotions                    1  \n",
              "18      sadness  Negative emotions                    0  \n",
              "116    optimism  Positive emotions                    1  \n",
              "83    gratitude  Positive emotions                    1  \n",
              "96        pride  Positive emotions                    1  \n",
              "105        love  Positive emotions                    1  \n",
              "87    gratitude  Positive emotions                    1  \n",
              "8         anger  Negative emotions                    0  "
            ]
          },
          "execution_count": 45,
          "metadata": {},
          "output_type": "execute_result"
        }
      ],
      "source": [
        "texts = pd.DataFrame(new_texts)\n",
        "df = pd.concat([texts, labels], axis=1)\n",
        "df.sample(10)"
      ]
    },
    {
      "cell_type": "code",
      "execution_count": null,
      "metadata": {
        "id": "kpQnre66ArRU"
      },
      "outputs": [],
      "source": [
        "# rename the column 0 to 'text'\n",
        "df = df.rename(columns={0: \"text\"})"
      ]
    },
    {
      "cell_type": "code",
      "execution_count": null,
      "metadata": {
        "id": "9JUfa7bu9AGh"
      },
      "outputs": [],
      "source": [
        "# save to csv file\n",
        "df.to_csv('emotion_classification_dataset_v1.1.csv', index=False)"
      ]
    },
    {
      "cell_type": "markdown",
      "metadata": {
        "id": "Vgo6w2MRR7Zi"
      },
      "source": [
        "Now we can load the csv file as a complete dataset, you do not need to run all the code above. Instead just upload the dataset (click the button link on the head of this notebook) and read it as dataframe with pandas."
      ]
    },
    {
      "cell_type": "code",
      "execution_count": null,
      "metadata": {
        "id": "G-SNBrEZRtMn"
      },
      "outputs": [],
      "source": [
        "df = pd.read_csv('/content/emotion_classification_dataset_v1.1.csv')"
      ]
    },
    {
      "cell_type": "markdown",
      "metadata": {
        "id": "eSMCRoWP7YuZ"
      },
      "source": [
        "## Data Exploration\n",
        "Now, we should explore this self-scraped dataset to see how it is distributed"
      ]
    },
    {
      "cell_type": "markdown",
      "metadata": {
        "id": "6sQXRlUD7xsf"
      },
      "source": [
        "As you can see, the negative emotions categories account for the highest propotion (because our main focus is to help adolescents with bad mental health) and the neural emotion categories are very low due to the lack of this specific emotion data. However, in the future, this dataset will be updated"
      ]
    },
    {
      "cell_type": "code",
      "execution_count": null,
      "metadata": {
        "colab": {
          "base_uri": "https://localhost:8080/",
          "height": 542
        },
        "id": "yF623nPl8p8E",
        "outputId": "0c90bc91-ff6d-4824-c5a7-2da2bda0f627"
      },
      "outputs": [
        {
          "data": {
            "text/html": [
              "<html>\n",
              "<head><meta charset=\"utf-8\" /></head>\n",
              "<body>\n",
              "    <div>            <script src=\"https://cdnjs.cloudflare.com/ajax/libs/mathjax/2.7.5/MathJax.js?config=TeX-AMS-MML_SVG\"></script><script type=\"text/javascript\">if (window.MathJax && window.MathJax.Hub && window.MathJax.Hub.Config) {window.MathJax.Hub.Config({SVG: {font: \"STIX-Web\"}});}</script>                <script type=\"text/javascript\">window.PlotlyConfig = {MathJaxConfig: 'local'};</script>\n",
              "        <script src=\"https://cdn.plot.ly/plotly-2.18.2.min.js\"></script>                <div id=\"959b9d28-2ee4-4c61-b83f-9b7cfa4226a5\" class=\"plotly-graph-div\" style=\"height:525px; width:100%;\"></div>            <script type=\"text/javascript\">                                    window.PLOTLYENV=window.PLOTLYENV || {};                                    if (document.getElementById(\"959b9d28-2ee4-4c61-b83f-9b7cfa4226a5\")) {                    Plotly.newPlot(                        \"959b9d28-2ee4-4c61-b83f-9b7cfa4226a5\",                        [{\"alignmentgroup\":\"True\",\"bingroup\":\"x\",\"hovertemplate\":\"color=Negative emotions<br>value=%{x}<br>count=%{y}<extra></extra>\",\"legendgroup\":\"Negative emotions\",\"marker\":{\"color\":\"#636efa\",\"pattern\":{\"shape\":\"\"}},\"name\":\"Negative emotions\",\"offsetgroup\":\"Negative emotions\",\"orientation\":\"v\",\"showlegend\":true,\"x\":[\"Negative emotions\",\"Negative emotions\",\"Negative emotions\",\"Negative emotions\",\"Negative emotions\",\"Negative emotions\",\"Negative emotions\",\"Negative emotions\",\"Negative emotions\",\"Negative emotions\",\"Negative emotions\",\"Negative emotions\",\"Negative emotions\",\"Negative emotions\",\"Negative emotions\",\"Negative emotions\",\"Negative emotions\",\"Negative emotions\",\"Negative emotions\",\"Negative emotions\",\"Negative emotions\",\"Negative emotions\",\"Negative emotions\",\"Negative emotions\",\"Negative emotions\",\"Negative emotions\",\"Negative emotions\",\"Negative emotions\",\"Negative emotions\",\"Negative emotions\",\"Negative emotions\",\"Negative emotions\",\"Negative emotions\",\"Negative emotions\",\"Negative emotions\",\"Negative emotions\",\"Negative emotions\",\"Negative emotions\",\"Negative emotions\",\"Negative emotions\",\"Negative emotions\",\"Negative emotions\",\"Negative emotions\",\"Negative emotions\",\"Negative emotions\",\"Negative emotions\",\"Negative emotions\",\"Negative emotions\",\"Negative emotions\",\"Negative emotions\",\"Negative emotions\",\"Negative emotions\",\"Negative emotions\",\"Negative emotions\",\"Negative emotions\",\"Negative emotions\",\"Negative emotions\",\"Negative emotions\",\"Negative emotions\",\"Negative emotions\",\"Negative emotions\",\"Negative emotions\",\"Negative emotions\",\"Negative emotions\",\"Negative emotions\",\"Negative emotions\",\"Negative emotions\",\"Negative emotions\"],\"xaxis\":\"x\",\"yaxis\":\"y\",\"type\":\"histogram\"},{\"alignmentgroup\":\"True\",\"bingroup\":\"x\",\"hovertemplate\":\"color=Neutral emotions<br>value=%{x}<br>count=%{y}<extra></extra>\",\"legendgroup\":\"Neutral emotions\",\"marker\":{\"color\":\"#EF553B\",\"pattern\":{\"shape\":\"\"}},\"name\":\"Neutral emotions\",\"offsetgroup\":\"Neutral emotions\",\"orientation\":\"v\",\"showlegend\":true,\"x\":[\"Neutral emotions\",\"Neutral emotions\",\"Neutral emotions\",\"Neutral emotions\"],\"xaxis\":\"x\",\"yaxis\":\"y\",\"type\":\"histogram\"},{\"alignmentgroup\":\"True\",\"bingroup\":\"x\",\"hovertemplate\":\"color=Positive emotions<br>value=%{x}<br>count=%{y}<extra></extra>\",\"legendgroup\":\"Positive emotions\",\"marker\":{\"color\":\"#00cc96\",\"pattern\":{\"shape\":\"\"}},\"name\":\"Positive emotions\",\"offsetgroup\":\"Positive emotions\",\"orientation\":\"v\",\"showlegend\":true,\"x\":[\"Positive emotions\",\"Positive emotions\",\"Positive emotions\",\"Positive emotions\",\"Positive emotions\",\"Positive emotions\",\"Positive emotions\",\"Positive emotions\",\"Positive emotions\",\"Positive emotions\",\"Positive emotions\",\"Positive emotions\",\"Positive emotions\",\"Positive emotions\",\"Positive emotions\",\"Positive emotions\",\"Positive emotions\",\"Positive emotions\",\"Positive emotions\",\"Positive emotions\",\"Positive emotions\",\"Positive emotions\",\"Positive emotions\",\"Positive emotions\",\"Positive emotions\",\"Positive emotions\",\"Positive emotions\",\"Positive emotions\",\"Positive emotions\",\"Positive emotions\",\"Positive emotions\",\"Positive emotions\",\"Positive emotions\",\"Positive emotions\",\"Positive emotions\",\"Positive emotions\",\"Positive emotions\",\"Positive emotions\",\"Positive emotions\",\"Positive emotions\",\"Positive emotions\",\"Positive emotions\",\"Positive emotions\",\"Positive emotions\",\"Positive emotions\",\"Positive emotions\"],\"xaxis\":\"x\",\"yaxis\":\"y\",\"type\":\"histogram\"}],                        {\"template\":{\"data\":{\"histogram2dcontour\":[{\"type\":\"histogram2dcontour\",\"colorbar\":{\"outlinewidth\":0,\"ticks\":\"\"},\"colorscale\":[[0.0,\"#0d0887\"],[0.1111111111111111,\"#46039f\"],[0.2222222222222222,\"#7201a8\"],[0.3333333333333333,\"#9c179e\"],[0.4444444444444444,\"#bd3786\"],[0.5555555555555556,\"#d8576b\"],[0.6666666666666666,\"#ed7953\"],[0.7777777777777778,\"#fb9f3a\"],[0.8888888888888888,\"#fdca26\"],[1.0,\"#f0f921\"]]}],\"choropleth\":[{\"type\":\"choropleth\",\"colorbar\":{\"outlinewidth\":0,\"ticks\":\"\"}}],\"histogram2d\":[{\"type\":\"histogram2d\",\"colorbar\":{\"outlinewidth\":0,\"ticks\":\"\"},\"colorscale\":[[0.0,\"#0d0887\"],[0.1111111111111111,\"#46039f\"],[0.2222222222222222,\"#7201a8\"],[0.3333333333333333,\"#9c179e\"],[0.4444444444444444,\"#bd3786\"],[0.5555555555555556,\"#d8576b\"],[0.6666666666666666,\"#ed7953\"],[0.7777777777777778,\"#fb9f3a\"],[0.8888888888888888,\"#fdca26\"],[1.0,\"#f0f921\"]]}],\"heatmap\":[{\"type\":\"heatmap\",\"colorbar\":{\"outlinewidth\":0,\"ticks\":\"\"},\"colorscale\":[[0.0,\"#0d0887\"],[0.1111111111111111,\"#46039f\"],[0.2222222222222222,\"#7201a8\"],[0.3333333333333333,\"#9c179e\"],[0.4444444444444444,\"#bd3786\"],[0.5555555555555556,\"#d8576b\"],[0.6666666666666666,\"#ed7953\"],[0.7777777777777778,\"#fb9f3a\"],[0.8888888888888888,\"#fdca26\"],[1.0,\"#f0f921\"]]}],\"heatmapgl\":[{\"type\":\"heatmapgl\",\"colorbar\":{\"outlinewidth\":0,\"ticks\":\"\"},\"colorscale\":[[0.0,\"#0d0887\"],[0.1111111111111111,\"#46039f\"],[0.2222222222222222,\"#7201a8\"],[0.3333333333333333,\"#9c179e\"],[0.4444444444444444,\"#bd3786\"],[0.5555555555555556,\"#d8576b\"],[0.6666666666666666,\"#ed7953\"],[0.7777777777777778,\"#fb9f3a\"],[0.8888888888888888,\"#fdca26\"],[1.0,\"#f0f921\"]]}],\"contourcarpet\":[{\"type\":\"contourcarpet\",\"colorbar\":{\"outlinewidth\":0,\"ticks\":\"\"}}],\"contour\":[{\"type\":\"contour\",\"colorbar\":{\"outlinewidth\":0,\"ticks\":\"\"},\"colorscale\":[[0.0,\"#0d0887\"],[0.1111111111111111,\"#46039f\"],[0.2222222222222222,\"#7201a8\"],[0.3333333333333333,\"#9c179e\"],[0.4444444444444444,\"#bd3786\"],[0.5555555555555556,\"#d8576b\"],[0.6666666666666666,\"#ed7953\"],[0.7777777777777778,\"#fb9f3a\"],[0.8888888888888888,\"#fdca26\"],[1.0,\"#f0f921\"]]}],\"surface\":[{\"type\":\"surface\",\"colorbar\":{\"outlinewidth\":0,\"ticks\":\"\"},\"colorscale\":[[0.0,\"#0d0887\"],[0.1111111111111111,\"#46039f\"],[0.2222222222222222,\"#7201a8\"],[0.3333333333333333,\"#9c179e\"],[0.4444444444444444,\"#bd3786\"],[0.5555555555555556,\"#d8576b\"],[0.6666666666666666,\"#ed7953\"],[0.7777777777777778,\"#fb9f3a\"],[0.8888888888888888,\"#fdca26\"],[1.0,\"#f0f921\"]]}],\"mesh3d\":[{\"type\":\"mesh3d\",\"colorbar\":{\"outlinewidth\":0,\"ticks\":\"\"}}],\"scatter\":[{\"fillpattern\":{\"fillmode\":\"overlay\",\"size\":10,\"solidity\":0.2},\"type\":\"scatter\"}],\"parcoords\":[{\"type\":\"parcoords\",\"line\":{\"colorbar\":{\"outlinewidth\":0,\"ticks\":\"\"}}}],\"scatterpolargl\":[{\"type\":\"scatterpolargl\",\"marker\":{\"colorbar\":{\"outlinewidth\":0,\"ticks\":\"\"}}}],\"bar\":[{\"error_x\":{\"color\":\"#2a3f5f\"},\"error_y\":{\"color\":\"#2a3f5f\"},\"marker\":{\"line\":{\"color\":\"#E5ECF6\",\"width\":0.5},\"pattern\":{\"fillmode\":\"overlay\",\"size\":10,\"solidity\":0.2}},\"type\":\"bar\"}],\"scattergeo\":[{\"type\":\"scattergeo\",\"marker\":{\"colorbar\":{\"outlinewidth\":0,\"ticks\":\"\"}}}],\"scatterpolar\":[{\"type\":\"scatterpolar\",\"marker\":{\"colorbar\":{\"outlinewidth\":0,\"ticks\":\"\"}}}],\"histogram\":[{\"marker\":{\"pattern\":{\"fillmode\":\"overlay\",\"size\":10,\"solidity\":0.2}},\"type\":\"histogram\"}],\"scattergl\":[{\"type\":\"scattergl\",\"marker\":{\"colorbar\":{\"outlinewidth\":0,\"ticks\":\"\"}}}],\"scatter3d\":[{\"type\":\"scatter3d\",\"line\":{\"colorbar\":{\"outlinewidth\":0,\"ticks\":\"\"}},\"marker\":{\"colorbar\":{\"outlinewidth\":0,\"ticks\":\"\"}}}],\"scattermapbox\":[{\"type\":\"scattermapbox\",\"marker\":{\"colorbar\":{\"outlinewidth\":0,\"ticks\":\"\"}}}],\"scatterternary\":[{\"type\":\"scatterternary\",\"marker\":{\"colorbar\":{\"outlinewidth\":0,\"ticks\":\"\"}}}],\"scattercarpet\":[{\"type\":\"scattercarpet\",\"marker\":{\"colorbar\":{\"outlinewidth\":0,\"ticks\":\"\"}}}],\"carpet\":[{\"aaxis\":{\"endlinecolor\":\"#2a3f5f\",\"gridcolor\":\"white\",\"linecolor\":\"white\",\"minorgridcolor\":\"white\",\"startlinecolor\":\"#2a3f5f\"},\"baxis\":{\"endlinecolor\":\"#2a3f5f\",\"gridcolor\":\"white\",\"linecolor\":\"white\",\"minorgridcolor\":\"white\",\"startlinecolor\":\"#2a3f5f\"},\"type\":\"carpet\"}],\"table\":[{\"cells\":{\"fill\":{\"color\":\"#EBF0F8\"},\"line\":{\"color\":\"white\"}},\"header\":{\"fill\":{\"color\":\"#C8D4E3\"},\"line\":{\"color\":\"white\"}},\"type\":\"table\"}],\"barpolar\":[{\"marker\":{\"line\":{\"color\":\"#E5ECF6\",\"width\":0.5},\"pattern\":{\"fillmode\":\"overlay\",\"size\":10,\"solidity\":0.2}},\"type\":\"barpolar\"}],\"pie\":[{\"automargin\":true,\"type\":\"pie\"}]},\"layout\":{\"autotypenumbers\":\"strict\",\"colorway\":[\"#636efa\",\"#EF553B\",\"#00cc96\",\"#ab63fa\",\"#FFA15A\",\"#19d3f3\",\"#FF6692\",\"#B6E880\",\"#FF97FF\",\"#FECB52\"],\"font\":{\"color\":\"#2a3f5f\"},\"hovermode\":\"closest\",\"hoverlabel\":{\"align\":\"left\"},\"paper_bgcolor\":\"white\",\"plot_bgcolor\":\"#E5ECF6\",\"polar\":{\"bgcolor\":\"#E5ECF6\",\"angularaxis\":{\"gridcolor\":\"white\",\"linecolor\":\"white\",\"ticks\":\"\"},\"radialaxis\":{\"gridcolor\":\"white\",\"linecolor\":\"white\",\"ticks\":\"\"}},\"ternary\":{\"bgcolor\":\"#E5ECF6\",\"aaxis\":{\"gridcolor\":\"white\",\"linecolor\":\"white\",\"ticks\":\"\"},\"baxis\":{\"gridcolor\":\"white\",\"linecolor\":\"white\",\"ticks\":\"\"},\"caxis\":{\"gridcolor\":\"white\",\"linecolor\":\"white\",\"ticks\":\"\"}},\"coloraxis\":{\"colorbar\":{\"outlinewidth\":0,\"ticks\":\"\"}},\"colorscale\":{\"sequential\":[[0.0,\"#0d0887\"],[0.1111111111111111,\"#46039f\"],[0.2222222222222222,\"#7201a8\"],[0.3333333333333333,\"#9c179e\"],[0.4444444444444444,\"#bd3786\"],[0.5555555555555556,\"#d8576b\"],[0.6666666666666666,\"#ed7953\"],[0.7777777777777778,\"#fb9f3a\"],[0.8888888888888888,\"#fdca26\"],[1.0,\"#f0f921\"]],\"sequentialminus\":[[0.0,\"#0d0887\"],[0.1111111111111111,\"#46039f\"],[0.2222222222222222,\"#7201a8\"],[0.3333333333333333,\"#9c179e\"],[0.4444444444444444,\"#bd3786\"],[0.5555555555555556,\"#d8576b\"],[0.6666666666666666,\"#ed7953\"],[0.7777777777777778,\"#fb9f3a\"],[0.8888888888888888,\"#fdca26\"],[1.0,\"#f0f921\"]],\"diverging\":[[0,\"#8e0152\"],[0.1,\"#c51b7d\"],[0.2,\"#de77ae\"],[0.3,\"#f1b6da\"],[0.4,\"#fde0ef\"],[0.5,\"#f7f7f7\"],[0.6,\"#e6f5d0\"],[0.7,\"#b8e186\"],[0.8,\"#7fbc41\"],[0.9,\"#4d9221\"],[1,\"#276419\"]]},\"xaxis\":{\"gridcolor\":\"white\",\"linecolor\":\"white\",\"ticks\":\"\",\"title\":{\"standoff\":15},\"zerolinecolor\":\"white\",\"automargin\":true,\"zerolinewidth\":2},\"yaxis\":{\"gridcolor\":\"white\",\"linecolor\":\"white\",\"ticks\":\"\",\"title\":{\"standoff\":15},\"zerolinecolor\":\"white\",\"automargin\":true,\"zerolinewidth\":2},\"scene\":{\"xaxis\":{\"backgroundcolor\":\"#E5ECF6\",\"gridcolor\":\"white\",\"linecolor\":\"white\",\"showbackground\":true,\"ticks\":\"\",\"zerolinecolor\":\"white\",\"gridwidth\":2},\"yaxis\":{\"backgroundcolor\":\"#E5ECF6\",\"gridcolor\":\"white\",\"linecolor\":\"white\",\"showbackground\":true,\"ticks\":\"\",\"zerolinecolor\":\"white\",\"gridwidth\":2},\"zaxis\":{\"backgroundcolor\":\"#E5ECF6\",\"gridcolor\":\"white\",\"linecolor\":\"white\",\"showbackground\":true,\"ticks\":\"\",\"zerolinecolor\":\"white\",\"gridwidth\":2}},\"shapedefaults\":{\"line\":{\"color\":\"#2a3f5f\"}},\"annotationdefaults\":{\"arrowcolor\":\"#2a3f5f\",\"arrowhead\":0,\"arrowwidth\":1},\"geo\":{\"bgcolor\":\"white\",\"landcolor\":\"#E5ECF6\",\"subunitcolor\":\"white\",\"showland\":true,\"showlakes\":true,\"lakecolor\":\"white\"},\"title\":{\"x\":0.05},\"mapbox\":{\"style\":\"light\"}}},\"xaxis\":{\"anchor\":\"y\",\"domain\":[0.0,1.0],\"title\":{\"text\":\"value\"}},\"yaxis\":{\"anchor\":\"x\",\"domain\":[0.0,1.0],\"title\":{\"text\":\"count\"}},\"legend\":{\"title\":{\"text\":\"color\"},\"tracegroupgap\":0},\"margin\":{\"t\":60},\"barmode\":\"relative\"},                        {\"responsive\": true}                    ).then(function(){\n",
              "                            \n",
              "var gd = document.getElementById('959b9d28-2ee4-4c61-b83f-9b7cfa4226a5');\n",
              "var x = new MutationObserver(function (mutations, observer) {{\n",
              "        var display = window.getComputedStyle(gd).display;\n",
              "        if (!display || display === 'none') {{\n",
              "            console.log([gd, 'removed!']);\n",
              "            Plotly.purge(gd);\n",
              "            observer.disconnect();\n",
              "        }}\n",
              "}});\n",
              "\n",
              "// Listen for the removal of the full notebook cells\n",
              "var notebookContainer = gd.closest('#notebook-container');\n",
              "if (notebookContainer) {{\n",
              "    x.observe(notebookContainer, {childList: true});\n",
              "}}\n",
              "\n",
              "// Listen for the clearing of the current output cell\n",
              "var outputEl = gd.closest('.output');\n",
              "if (outputEl) {{\n",
              "    x.observe(outputEl, {childList: true});\n",
              "}}\n",
              "\n",
              "                        })                };                            </script>        </div>\n",
              "</body>\n",
              "</html>"
            ]
          },
          "metadata": {},
          "output_type": "display_data"
        }
      ],
      "source": [
        "import plotly.express as px\n",
        "px.histogram(df.trinary_classes, color=df.trinary_classes)"
      ]
    },
    {
      "cell_type": "code",
      "execution_count": null,
      "metadata": {
        "colab": {
          "base_uri": "https://localhost:8080/",
          "height": 542
        },
        "id": "PSQNiTmv849y",
        "outputId": "c17bd606-00b6-4723-b14e-573f86b6a902"
      },
      "outputs": [
        {
          "data": {
            "text/html": [
              "<html>\n",
              "<head><meta charset=\"utf-8\" /></head>\n",
              "<body>\n",
              "    <div>            <script src=\"https://cdnjs.cloudflare.com/ajax/libs/mathjax/2.7.5/MathJax.js?config=TeX-AMS-MML_SVG\"></script><script type=\"text/javascript\">if (window.MathJax && window.MathJax.Hub && window.MathJax.Hub.Config) {window.MathJax.Hub.Config({SVG: {font: \"STIX-Web\"}});}</script>                <script type=\"text/javascript\">window.PlotlyConfig = {MathJaxConfig: 'local'};</script>\n",
              "        <script src=\"https://cdn.plot.ly/plotly-2.18.2.min.js\"></script>                <div id=\"be9176bd-f430-452e-ad11-8b974a274452\" class=\"plotly-graph-div\" style=\"height:525px; width:100%;\"></div>            <script type=\"text/javascript\">                                    window.PLOTLYENV=window.PLOTLYENV || {};                                    if (document.getElementById(\"be9176bd-f430-452e-ad11-8b974a274452\")) {                    Plotly.newPlot(                        \"be9176bd-f430-452e-ad11-8b974a274452\",                        [{\"alignmentgroup\":\"True\",\"bingroup\":\"x\",\"hovertemplate\":\"color=sadness<br>value=%{x}<br>count=%{y}<extra></extra>\",\"legendgroup\":\"sadness\",\"marker\":{\"color\":\"#636efa\",\"pattern\":{\"shape\":\"\"}},\"name\":\"sadness\",\"offsetgroup\":\"sadness\",\"orientation\":\"v\",\"showlegend\":true,\"x\":[\"sadness\",\"sadness\",\"sadness\",\"sadness\",\"sadness\",\"sadness\",\"sadness\",\"sadness\",\"sadness\",\"sadness\",\"sadness\",\"sadness\",\"sadness\"],\"xaxis\":\"x\",\"yaxis\":\"y\",\"type\":\"histogram\"},{\"alignmentgroup\":\"True\",\"bingroup\":\"x\",\"hovertemplate\":\"color=lonely<br>value=%{x}<br>count=%{y}<extra></extra>\",\"legendgroup\":\"lonely\",\"marker\":{\"color\":\"#EF553B\",\"pattern\":{\"shape\":\"\"}},\"name\":\"lonely\",\"offsetgroup\":\"lonely\",\"orientation\":\"v\",\"showlegend\":true,\"x\":[\"lonely\",\"lonely\",\"lonely\",\"lonely\",\"lonely\",\"lonely\"],\"xaxis\":\"x\",\"yaxis\":\"y\",\"type\":\"histogram\"},{\"alignmentgroup\":\"True\",\"bingroup\":\"x\",\"hovertemplate\":\"color=anger<br>value=%{x}<br>count=%{y}<extra></extra>\",\"legendgroup\":\"anger\",\"marker\":{\"color\":\"#00cc96\",\"pattern\":{\"shape\":\"\"}},\"name\":\"anger\",\"offsetgroup\":\"anger\",\"orientation\":\"v\",\"showlegend\":true,\"x\":[\"anger\",\"anger\",\"anger\",\"anger\",\"anger\",\"anger\",\"anger\",\"anger\",\"anger\",\"anger\",\"anger\"],\"xaxis\":\"x\",\"yaxis\":\"y\",\"type\":\"histogram\"},{\"alignmentgroup\":\"True\",\"bingroup\":\"x\",\"hovertemplate\":\"color=fear<br>value=%{x}<br>count=%{y}<extra></extra>\",\"legendgroup\":\"fear\",\"marker\":{\"color\":\"#ab63fa\",\"pattern\":{\"shape\":\"\"}},\"name\":\"fear\",\"offsetgroup\":\"fear\",\"orientation\":\"v\",\"showlegend\":true,\"x\":[\"fear\",\"fear\",\"fear\",\"fear\",\"fear\",\"fear\",\"fear\",\"fear\",\"fear\",\"fear\",\"fear\",\"fear\",\"fear\",\"fear\"],\"xaxis\":\"x\",\"yaxis\":\"y\",\"type\":\"histogram\"},{\"alignmentgroup\":\"True\",\"bingroup\":\"x\",\"hovertemplate\":\"color=remorse<br>value=%{x}<br>count=%{y}<extra></extra>\",\"legendgroup\":\"remorse\",\"marker\":{\"color\":\"#FFA15A\",\"pattern\":{\"shape\":\"\"}},\"name\":\"remorse\",\"offsetgroup\":\"remorse\",\"orientation\":\"v\",\"showlegend\":true,\"x\":[\"remorse\",\"remorse\",\"remorse\",\"remorse\",\"remorse\",\"remorse\",\"remorse\",\"remorse\",\"remorse\",\"remorse\"],\"xaxis\":\"x\",\"yaxis\":\"y\",\"type\":\"histogram\"},{\"alignmentgroup\":\"True\",\"bingroup\":\"x\",\"hovertemplate\":\"color=confusion<br>value=%{x}<br>count=%{y}<extra></extra>\",\"legendgroup\":\"confusion\",\"marker\":{\"color\":\"#19d3f3\",\"pattern\":{\"shape\":\"\"}},\"name\":\"confusion\",\"offsetgroup\":\"confusion\",\"orientation\":\"v\",\"showlegend\":true,\"x\":[\"confusion\",\"confusion\",\"confusion\",\"confusion\"],\"xaxis\":\"x\",\"yaxis\":\"y\",\"type\":\"histogram\"},{\"alignmentgroup\":\"True\",\"bingroup\":\"x\",\"hovertemplate\":\"color=optimism<br>value=%{x}<br>count=%{y}<extra></extra>\",\"legendgroup\":\"optimism\",\"marker\":{\"color\":\"#FF6692\",\"pattern\":{\"shape\":\"\"}},\"name\":\"optimism\",\"offsetgroup\":\"optimism\",\"orientation\":\"v\",\"showlegend\":true,\"x\":[\"optimism\",\"optimism\",\"optimism\",\"optimism\",\"optimism\",\"optimism\",\"optimism\"],\"xaxis\":\"x\",\"yaxis\":\"y\",\"type\":\"histogram\"},{\"alignmentgroup\":\"True\",\"bingroup\":\"x\",\"hovertemplate\":\"color=depression<br>value=%{x}<br>count=%{y}<extra></extra>\",\"legendgroup\":\"depression\",\"marker\":{\"color\":\"#B6E880\",\"pattern\":{\"shape\":\"\"}},\"name\":\"depression\",\"offsetgroup\":\"depression\",\"orientation\":\"v\",\"showlegend\":true,\"x\":[\"depression\",\"depression\",\"depression\",\"depression\",\"depression\",\"depression\",\"depression\",\"depression\",\"depression\",\"depression\",\"depression\",\"depression\",\"depression\",\"depression\"],\"xaxis\":\"x\",\"yaxis\":\"y\",\"type\":\"histogram\"},{\"alignmentgroup\":\"True\",\"bingroup\":\"x\",\"hovertemplate\":\"color=joy<br>value=%{x}<br>count=%{y}<extra></extra>\",\"legendgroup\":\"joy\",\"marker\":{\"color\":\"#FF97FF\",\"pattern\":{\"shape\":\"\"}},\"name\":\"joy\",\"offsetgroup\":\"joy\",\"orientation\":\"v\",\"showlegend\":true,\"x\":[\"joy\",\"joy\",\"joy\",\"joy\",\"joy\",\"joy\",\"joy\",\"joy\"],\"xaxis\":\"x\",\"yaxis\":\"y\",\"type\":\"histogram\"},{\"alignmentgroup\":\"True\",\"bingroup\":\"x\",\"hovertemplate\":\"color=gratitude<br>value=%{x}<br>count=%{y}<extra></extra>\",\"legendgroup\":\"gratitude\",\"marker\":{\"color\":\"#FECB52\",\"pattern\":{\"shape\":\"\"}},\"name\":\"gratitude\",\"offsetgroup\":\"gratitude\",\"orientation\":\"v\",\"showlegend\":true,\"x\":[\"gratitude\",\"gratitude\",\"gratitude\",\"gratitude\",\"gratitude\",\"gratitude\",\"gratitude\",\"gratitude\",\"gratitude\",\"gratitude\",\"gratitude\",\"gratitude\",\"gratitude\",\"gratitude\"],\"xaxis\":\"x\",\"yaxis\":\"y\",\"type\":\"histogram\"},{\"alignmentgroup\":\"True\",\"bingroup\":\"x\",\"hovertemplate\":\"color=pride<br>value=%{x}<br>count=%{y}<extra></extra>\",\"legendgroup\":\"pride\",\"marker\":{\"color\":\"#636efa\",\"pattern\":{\"shape\":\"\"}},\"name\":\"pride\",\"offsetgroup\":\"pride\",\"orientation\":\"v\",\"showlegend\":true,\"x\":[\"pride\",\"pride\",\"pride\",\"pride\",\"pride\",\"pride\",\"pride\",\"pride\"],\"xaxis\":\"x\",\"yaxis\":\"y\",\"type\":\"histogram\"},{\"alignmentgroup\":\"True\",\"bingroup\":\"x\",\"hovertemplate\":\"color=love<br>value=%{x}<br>count=%{y}<extra></extra>\",\"legendgroup\":\"love\",\"marker\":{\"color\":\"#EF553B\",\"pattern\":{\"shape\":\"\"}},\"name\":\"love\",\"offsetgroup\":\"love\",\"orientation\":\"v\",\"showlegend\":true,\"x\":[\"love\",\"love\",\"love\",\"love\",\"love\",\"love\",\"love\",\"love\",\"love\"],\"xaxis\":\"x\",\"yaxis\":\"y\",\"type\":\"histogram\"}],                        {\"template\":{\"data\":{\"histogram2dcontour\":[{\"type\":\"histogram2dcontour\",\"colorbar\":{\"outlinewidth\":0,\"ticks\":\"\"},\"colorscale\":[[0.0,\"#0d0887\"],[0.1111111111111111,\"#46039f\"],[0.2222222222222222,\"#7201a8\"],[0.3333333333333333,\"#9c179e\"],[0.4444444444444444,\"#bd3786\"],[0.5555555555555556,\"#d8576b\"],[0.6666666666666666,\"#ed7953\"],[0.7777777777777778,\"#fb9f3a\"],[0.8888888888888888,\"#fdca26\"],[1.0,\"#f0f921\"]]}],\"choropleth\":[{\"type\":\"choropleth\",\"colorbar\":{\"outlinewidth\":0,\"ticks\":\"\"}}],\"histogram2d\":[{\"type\":\"histogram2d\",\"colorbar\":{\"outlinewidth\":0,\"ticks\":\"\"},\"colorscale\":[[0.0,\"#0d0887\"],[0.1111111111111111,\"#46039f\"],[0.2222222222222222,\"#7201a8\"],[0.3333333333333333,\"#9c179e\"],[0.4444444444444444,\"#bd3786\"],[0.5555555555555556,\"#d8576b\"],[0.6666666666666666,\"#ed7953\"],[0.7777777777777778,\"#fb9f3a\"],[0.8888888888888888,\"#fdca26\"],[1.0,\"#f0f921\"]]}],\"heatmap\":[{\"type\":\"heatmap\",\"colorbar\":{\"outlinewidth\":0,\"ticks\":\"\"},\"colorscale\":[[0.0,\"#0d0887\"],[0.1111111111111111,\"#46039f\"],[0.2222222222222222,\"#7201a8\"],[0.3333333333333333,\"#9c179e\"],[0.4444444444444444,\"#bd3786\"],[0.5555555555555556,\"#d8576b\"],[0.6666666666666666,\"#ed7953\"],[0.7777777777777778,\"#fb9f3a\"],[0.8888888888888888,\"#fdca26\"],[1.0,\"#f0f921\"]]}],\"heatmapgl\":[{\"type\":\"heatmapgl\",\"colorbar\":{\"outlinewidth\":0,\"ticks\":\"\"},\"colorscale\":[[0.0,\"#0d0887\"],[0.1111111111111111,\"#46039f\"],[0.2222222222222222,\"#7201a8\"],[0.3333333333333333,\"#9c179e\"],[0.4444444444444444,\"#bd3786\"],[0.5555555555555556,\"#d8576b\"],[0.6666666666666666,\"#ed7953\"],[0.7777777777777778,\"#fb9f3a\"],[0.8888888888888888,\"#fdca26\"],[1.0,\"#f0f921\"]]}],\"contourcarpet\":[{\"type\":\"contourcarpet\",\"colorbar\":{\"outlinewidth\":0,\"ticks\":\"\"}}],\"contour\":[{\"type\":\"contour\",\"colorbar\":{\"outlinewidth\":0,\"ticks\":\"\"},\"colorscale\":[[0.0,\"#0d0887\"],[0.1111111111111111,\"#46039f\"],[0.2222222222222222,\"#7201a8\"],[0.3333333333333333,\"#9c179e\"],[0.4444444444444444,\"#bd3786\"],[0.5555555555555556,\"#d8576b\"],[0.6666666666666666,\"#ed7953\"],[0.7777777777777778,\"#fb9f3a\"],[0.8888888888888888,\"#fdca26\"],[1.0,\"#f0f921\"]]}],\"surface\":[{\"type\":\"surface\",\"colorbar\":{\"outlinewidth\":0,\"ticks\":\"\"},\"colorscale\":[[0.0,\"#0d0887\"],[0.1111111111111111,\"#46039f\"],[0.2222222222222222,\"#7201a8\"],[0.3333333333333333,\"#9c179e\"],[0.4444444444444444,\"#bd3786\"],[0.5555555555555556,\"#d8576b\"],[0.6666666666666666,\"#ed7953\"],[0.7777777777777778,\"#fb9f3a\"],[0.8888888888888888,\"#fdca26\"],[1.0,\"#f0f921\"]]}],\"mesh3d\":[{\"type\":\"mesh3d\",\"colorbar\":{\"outlinewidth\":0,\"ticks\":\"\"}}],\"scatter\":[{\"fillpattern\":{\"fillmode\":\"overlay\",\"size\":10,\"solidity\":0.2},\"type\":\"scatter\"}],\"parcoords\":[{\"type\":\"parcoords\",\"line\":{\"colorbar\":{\"outlinewidth\":0,\"ticks\":\"\"}}}],\"scatterpolargl\":[{\"type\":\"scatterpolargl\",\"marker\":{\"colorbar\":{\"outlinewidth\":0,\"ticks\":\"\"}}}],\"bar\":[{\"error_x\":{\"color\":\"#2a3f5f\"},\"error_y\":{\"color\":\"#2a3f5f\"},\"marker\":{\"line\":{\"color\":\"#E5ECF6\",\"width\":0.5},\"pattern\":{\"fillmode\":\"overlay\",\"size\":10,\"solidity\":0.2}},\"type\":\"bar\"}],\"scattergeo\":[{\"type\":\"scattergeo\",\"marker\":{\"colorbar\":{\"outlinewidth\":0,\"ticks\":\"\"}}}],\"scatterpolar\":[{\"type\":\"scatterpolar\",\"marker\":{\"colorbar\":{\"outlinewidth\":0,\"ticks\":\"\"}}}],\"histogram\":[{\"marker\":{\"pattern\":{\"fillmode\":\"overlay\",\"size\":10,\"solidity\":0.2}},\"type\":\"histogram\"}],\"scattergl\":[{\"type\":\"scattergl\",\"marker\":{\"colorbar\":{\"outlinewidth\":0,\"ticks\":\"\"}}}],\"scatter3d\":[{\"type\":\"scatter3d\",\"line\":{\"colorbar\":{\"outlinewidth\":0,\"ticks\":\"\"}},\"marker\":{\"colorbar\":{\"outlinewidth\":0,\"ticks\":\"\"}}}],\"scattermapbox\":[{\"type\":\"scattermapbox\",\"marker\":{\"colorbar\":{\"outlinewidth\":0,\"ticks\":\"\"}}}],\"scatterternary\":[{\"type\":\"scatterternary\",\"marker\":{\"colorbar\":{\"outlinewidth\":0,\"ticks\":\"\"}}}],\"scattercarpet\":[{\"type\":\"scattercarpet\",\"marker\":{\"colorbar\":{\"outlinewidth\":0,\"ticks\":\"\"}}}],\"carpet\":[{\"aaxis\":{\"endlinecolor\":\"#2a3f5f\",\"gridcolor\":\"white\",\"linecolor\":\"white\",\"minorgridcolor\":\"white\",\"startlinecolor\":\"#2a3f5f\"},\"baxis\":{\"endlinecolor\":\"#2a3f5f\",\"gridcolor\":\"white\",\"linecolor\":\"white\",\"minorgridcolor\":\"white\",\"startlinecolor\":\"#2a3f5f\"},\"type\":\"carpet\"}],\"table\":[{\"cells\":{\"fill\":{\"color\":\"#EBF0F8\"},\"line\":{\"color\":\"white\"}},\"header\":{\"fill\":{\"color\":\"#C8D4E3\"},\"line\":{\"color\":\"white\"}},\"type\":\"table\"}],\"barpolar\":[{\"marker\":{\"line\":{\"color\":\"#E5ECF6\",\"width\":0.5},\"pattern\":{\"fillmode\":\"overlay\",\"size\":10,\"solidity\":0.2}},\"type\":\"barpolar\"}],\"pie\":[{\"automargin\":true,\"type\":\"pie\"}]},\"layout\":{\"autotypenumbers\":\"strict\",\"colorway\":[\"#636efa\",\"#EF553B\",\"#00cc96\",\"#ab63fa\",\"#FFA15A\",\"#19d3f3\",\"#FF6692\",\"#B6E880\",\"#FF97FF\",\"#FECB52\"],\"font\":{\"color\":\"#2a3f5f\"},\"hovermode\":\"closest\",\"hoverlabel\":{\"align\":\"left\"},\"paper_bgcolor\":\"white\",\"plot_bgcolor\":\"#E5ECF6\",\"polar\":{\"bgcolor\":\"#E5ECF6\",\"angularaxis\":{\"gridcolor\":\"white\",\"linecolor\":\"white\",\"ticks\":\"\"},\"radialaxis\":{\"gridcolor\":\"white\",\"linecolor\":\"white\",\"ticks\":\"\"}},\"ternary\":{\"bgcolor\":\"#E5ECF6\",\"aaxis\":{\"gridcolor\":\"white\",\"linecolor\":\"white\",\"ticks\":\"\"},\"baxis\":{\"gridcolor\":\"white\",\"linecolor\":\"white\",\"ticks\":\"\"},\"caxis\":{\"gridcolor\":\"white\",\"linecolor\":\"white\",\"ticks\":\"\"}},\"coloraxis\":{\"colorbar\":{\"outlinewidth\":0,\"ticks\":\"\"}},\"colorscale\":{\"sequential\":[[0.0,\"#0d0887\"],[0.1111111111111111,\"#46039f\"],[0.2222222222222222,\"#7201a8\"],[0.3333333333333333,\"#9c179e\"],[0.4444444444444444,\"#bd3786\"],[0.5555555555555556,\"#d8576b\"],[0.6666666666666666,\"#ed7953\"],[0.7777777777777778,\"#fb9f3a\"],[0.8888888888888888,\"#fdca26\"],[1.0,\"#f0f921\"]],\"sequentialminus\":[[0.0,\"#0d0887\"],[0.1111111111111111,\"#46039f\"],[0.2222222222222222,\"#7201a8\"],[0.3333333333333333,\"#9c179e\"],[0.4444444444444444,\"#bd3786\"],[0.5555555555555556,\"#d8576b\"],[0.6666666666666666,\"#ed7953\"],[0.7777777777777778,\"#fb9f3a\"],[0.8888888888888888,\"#fdca26\"],[1.0,\"#f0f921\"]],\"diverging\":[[0,\"#8e0152\"],[0.1,\"#c51b7d\"],[0.2,\"#de77ae\"],[0.3,\"#f1b6da\"],[0.4,\"#fde0ef\"],[0.5,\"#f7f7f7\"],[0.6,\"#e6f5d0\"],[0.7,\"#b8e186\"],[0.8,\"#7fbc41\"],[0.9,\"#4d9221\"],[1,\"#276419\"]]},\"xaxis\":{\"gridcolor\":\"white\",\"linecolor\":\"white\",\"ticks\":\"\",\"title\":{\"standoff\":15},\"zerolinecolor\":\"white\",\"automargin\":true,\"zerolinewidth\":2},\"yaxis\":{\"gridcolor\":\"white\",\"linecolor\":\"white\",\"ticks\":\"\",\"title\":{\"standoff\":15},\"zerolinecolor\":\"white\",\"automargin\":true,\"zerolinewidth\":2},\"scene\":{\"xaxis\":{\"backgroundcolor\":\"#E5ECF6\",\"gridcolor\":\"white\",\"linecolor\":\"white\",\"showbackground\":true,\"ticks\":\"\",\"zerolinecolor\":\"white\",\"gridwidth\":2},\"yaxis\":{\"backgroundcolor\":\"#E5ECF6\",\"gridcolor\":\"white\",\"linecolor\":\"white\",\"showbackground\":true,\"ticks\":\"\",\"zerolinecolor\":\"white\",\"gridwidth\":2},\"zaxis\":{\"backgroundcolor\":\"#E5ECF6\",\"gridcolor\":\"white\",\"linecolor\":\"white\",\"showbackground\":true,\"ticks\":\"\",\"zerolinecolor\":\"white\",\"gridwidth\":2}},\"shapedefaults\":{\"line\":{\"color\":\"#2a3f5f\"}},\"annotationdefaults\":{\"arrowcolor\":\"#2a3f5f\",\"arrowhead\":0,\"arrowwidth\":1},\"geo\":{\"bgcolor\":\"white\",\"landcolor\":\"#E5ECF6\",\"subunitcolor\":\"white\",\"showland\":true,\"showlakes\":true,\"lakecolor\":\"white\"},\"title\":{\"x\":0.05},\"mapbox\":{\"style\":\"light\"}}},\"xaxis\":{\"anchor\":\"y\",\"domain\":[0.0,1.0],\"title\":{\"text\":\"value\"}},\"yaxis\":{\"anchor\":\"x\",\"domain\":[0.0,1.0],\"title\":{\"text\":\"count\"}},\"legend\":{\"title\":{\"text\":\"color\"},\"tracegroupgap\":0},\"margin\":{\"t\":60},\"barmode\":\"relative\"},                        {\"responsive\": true}                    ).then(function(){\n",
              "                            \n",
              "var gd = document.getElementById('be9176bd-f430-452e-ad11-8b974a274452');\n",
              "var x = new MutationObserver(function (mutations, observer) {{\n",
              "        var display = window.getComputedStyle(gd).display;\n",
              "        if (!display || display === 'none') {{\n",
              "            console.log([gd, 'removed!']);\n",
              "            Plotly.purge(gd);\n",
              "            observer.disconnect();\n",
              "        }}\n",
              "}});\n",
              "\n",
              "// Listen for the removal of the full notebook cells\n",
              "var notebookContainer = gd.closest('#notebook-container');\n",
              "if (notebookContainer) {{\n",
              "    x.observe(notebookContainer, {childList: true});\n",
              "}}\n",
              "\n",
              "// Listen for the clearing of the current output cell\n",
              "var outputEl = gd.closest('.output');\n",
              "if (outputEl) {{\n",
              "    x.observe(outputEl, {childList: true});\n",
              "}}\n",
              "\n",
              "                        })                };                            </script>        </div>\n",
              "</body>\n",
              "</html>"
            ]
          },
          "metadata": {},
          "output_type": "display_data"
        }
      ],
      "source": [
        "px.histogram(df.classes, color=df.classes)"
      ]
    },
    {
      "cell_type": "markdown",
      "metadata": {
        "id": "zOjWXRKy8tvd"
      },
      "source": [
        "## Text Preprocessing"
      ]
    },
    {
      "cell_type": "markdown",
      "metadata": {
        "id": "P3nR00pa88P9"
      },
      "source": [
        "First split our main dataset into train dataset and test dataset\n",
        "\n",
        "Use this line of code if we want to classify 3 categories: negative, positive, and netraul.\n",
        "```python\n",
        "sentences, labels = df[\"text\"].values, df[\"trinary_class_index\"].values\n",
        "```\n",
        "Use this one if we want to classify 12 categories\n",
        "```python\n",
        "sentences, labels = df[\"text\"].values, df[\"index_label\"].values\n",
        "```"
      ]
    },
    {
      "cell_type": "code",
      "execution_count": null,
      "metadata": {
        "colab": {
          "base_uri": "https://localhost:8080/"
        },
        "id": "TUr_ai_b-cNO",
        "outputId": "efac0487-d67f-4465-99f3-682e044cc5d7"
      },
      "outputs": [
        {
          "name": "stdout",
          "output_type": "stream",
          "text": [
            "Train Set\n",
            "(94,) (94,)\n",
            "Test Set\n",
            "(24,) (24,)\n"
          ]
        }
      ],
      "source": [
        "# sentences, labels = df[\"text\"].values, df[\"trinary_class_index\"].values\n",
        "sentences, labels = df[\"text\"].values, df[\"index_label\"].values\n",
        "\n",
        "x_train, x_test, y_train, y_test = train_test_split(\n",
        "    sentences,\n",
        "    labels,\n",
        "    test_size=0.2,\n",
        "    shuffle=True,\n",
        "    random_state=42,\n",
        "    stratify=labels\n",
        ")\n",
        "\n",
        "print(\"Train Set\")\n",
        "print(x_train.shape, y_train.shape)\n",
        "print(\"Test Set\")\n",
        "print(x_test.shape, y_test.shape)"
      ]
    },
    {
      "cell_type": "markdown",
      "metadata": {
        "id": "Bx87E5xz9rEk"
      },
      "source": [
        "Plot the distribution of sentences length"
      ]
    },
    {
      "cell_type": "code",
      "execution_count": null,
      "metadata": {
        "colab": {
          "base_uri": "https://localhost:8080/",
          "height": 448
        },
        "id": "rlZ-pi2LS27x",
        "outputId": "f0d3ebc9-6581-4b5a-8102-d4a1966ff32a"
      },
      "outputs": [
        {
          "data": {
            "text/plain": [
              "<Axes: >"
            ]
          },
          "execution_count": 86,
          "metadata": {},
          "output_type": "execute_result"
        },
        {
          "data": {
            "image/png": "[encoded data removed]",
            "text/plain": [
              "<Figure size 640x480 with 1 Axes>"
            ]
          },
          "metadata": {},
          "output_type": "display_data"
        }
      ],
      "source": [
        "seq_len = [len(sentence.split()) for sentence in sentences]\n",
        "pd.Series(seq_len).hist(bins = 30)"
      ]
    },
    {
      "cell_type": "code",
      "execution_count": null,
      "metadata": {
        "colab": {
          "base_uri": "https://localhost:8080/"
        },
        "id": "_Ygth_w0D19O",
        "outputId": "f3ea2297-b6de-48b3-b68a-43650520d54e"
      },
      "outputs": [
        {
          "name": "stdout",
          "output_type": "stream",
          "text": [
            "1408\n"
          ]
        }
      ],
      "source": [
        "# Calculate how many unique words\n",
        "word_set = set()\n",
        "for text in sentences:\n",
        "  words = text.split()\n",
        "  for word in words:\n",
        "    if word not in word_set:\n",
        "      word_set.add(word)\n",
        "\n",
        "VOCAB_SIZE = len(word_set)\n",
        "print(VOCAB_SIZE)"
      ]
    },
    {
      "cell_type": "code",
      "execution_count": null,
      "metadata": {
        "colab": {
          "base_uri": "https://localhost:8080/"
        },
        "id": "nlCqIaKPEA00",
        "outputId": "e9332398-d0c4-4986-a50a-11f9d722228e"
      },
      "outputs": [
        {
          "data": {
            "text/plain": [
              "(12, 281, 53.20338983050848)"
            ]
          },
          "execution_count": 52,
          "metadata": {},
          "output_type": "execute_result"
        }
      ],
      "source": [
        "# Calculate the min length size, max length size, and the average length size\n",
        "count_word = []\n",
        "for text in sentences:\n",
        "  words = text.split()\n",
        "  count_word.append(len(words))\n",
        "\n",
        "min(count_word), max(count_word), sum(count_word)/len(count_word)"
      ]
    },
    {
      "cell_type": "markdown",
      "metadata": {
        "id": "C1NVgoKn990k"
      },
      "source": [
        "### Tokenizer\n",
        "We will use `Tokenizer` from Tensorflow (already imported above) to tokenize the texts"
      ]
    },
    {
      "cell_type": "code",
      "execution_count": null,
      "metadata": {
        "colab": {
          "base_uri": "https://localhost:8080/"
        },
        "id": "C2YHOQ0rEJxi",
        "outputId": "8af217a5-9ef0-49bb-9c85-ab7340d6fb9d"
      },
      "outputs": [
        {
          "data": {
            "text/plain": [
              "{'<OOV>': 1,\n",
              " 'i': 2,\n",
              " 'and': 3,\n",
              " 'to': 4,\n",
              " 'me': 5,\n",
              " 'my': 6,\n",
              " 'the': 7,\n",
              " 'a': 8,\n",
              " 'that': 9,\n",
              " 'in': 10,\n",
              " 'of': 11,\n",
              " 'feel': 12,\n",
              " 'for': 13,\n",
              " 'it': 14,\n",
              " 'is': 15,\n",
              " 'they': 16,\n",
              " 'them': 17,\n",
              " 'have': 18,\n",
              " 'with': 19,\n",
              " 'was': 20,\n",
              " 'day': 21,\n",
              " \"i'm\": 22,\n",
              " 'on': 23,\n",
              " 'so': 24,\n",
              " 'am': 25,\n",
              " 'myself': 26,\n",
              " 'had': 27,\n",
              " 'life': 28,\n",
              " 'always': 29,\n",
              " 'or': 30,\n",
              " 'how': 31,\n",
              " 'more': 32,\n",
              " 'can': 33,\n",
              " 'because': 34,\n",
              " 'now': 35,\n",
              " 'from': 36,\n",
              " 'today': 37,\n",
              " 'about': 38,\n",
              " 'self': 39,\n",
              " 'parents': 40,\n",
              " 'after': 41,\n",
              " 'at': 42,\n",
              " 'really': 43,\n",
              " 'very': 44,\n",
              " 'like': 45,\n",
              " 'much': 46,\n",
              " 'their': 47,\n",
              " 'love': 48,\n",
              " 'what': 49,\n",
              " 'are': 50,\n",
              " 'care': 51,\n",
              " 'by': 52,\n",
              " 'every': 53,\n",
              " 'everyone': 54,\n",
              " 'want': 55,\n",
              " 'made': 56,\n",
              " 'not': 57,\n",
              " 'when': 58,\n",
              " 'school': 59,\n",
              " 'people': 60,\n",
              " 'everything': 61,\n",
              " 'feeling': 62,\n",
              " 'do': 63,\n",
              " 'friends': 64,\n",
              " 'out': 65,\n",
              " 'who': 66,\n",
              " 'don’t': 67,\n",
              " 'only': 68,\n",
              " 'up': 69,\n",
              " 'all': 70,\n",
              " 'alone': 71,\n",
              " 'but': 72,\n",
              " 'family': 73,\n",
              " 'as': 74,\n",
              " 'know': 75,\n",
              " 'will': 76,\n",
              " 'there': 77,\n",
              " 'since': 78,\n",
              " \"don't\": 79,\n",
              " 'just': 80,\n",
              " 'felt': 81,\n",
              " 'things': 82,\n",
              " 'been': 83,\n",
              " 'she': 84,\n",
              " 'time': 85,\n",
              " 'his': 86,\n",
              " 'great': 87,\n",
              " 'make': 88,\n",
              " 'no': 89,\n",
              " 'happy': 90,\n",
              " 'if': 91,\n",
              " 'way': 92,\n",
              " 'be': 93,\n",
              " 'others': 94,\n",
              " 'this': 95,\n",
              " 'believe': 96,\n",
              " 'an': 97,\n",
              " 'around': 98,\n",
              " 'mind': 99,\n",
              " 'body': 100,\n",
              " 'doing': 101,\n",
              " 'home': 102,\n",
              " 'other': 103,\n",
              " 'little': 104,\n",
              " 'one': 105,\n",
              " 'world': 106,\n",
              " \"i've\": 107,\n",
              " 'anything': 108,\n",
              " 'appreciate': 109,\n",
              " 'any': 110,\n",
              " 'you': 111,\n",
              " 'depression': 112,\n",
              " 'see': 113,\n",
              " 'quite': 114,\n",
              " 'constantly': 115,\n",
              " 'most': 116,\n",
              " 'directed': 117,\n",
              " 'lot': 118,\n",
              " 'math': 119,\n",
              " 'someone': 120,\n",
              " 'terrible': 121,\n",
              " 'heart': 122,\n",
              " \"it's\": 123,\n",
              " 'difficult': 124,\n",
              " 'think': 125,\n",
              " 'being': 126,\n",
              " 'room': 127,\n",
              " 'phone': 128,\n",
              " 'her': 129,\n",
              " 'gave': 130,\n",
              " 'owe': 131,\n",
              " 'were': 132,\n",
              " 'gratitude': 133,\n",
              " 'class': 134,\n",
              " 'cared': 135,\n",
              " 'right': 136,\n",
              " 'find': 137,\n",
              " 'dark': 138,\n",
              " 'suicide': 139,\n",
              " 'few': 140,\n",
              " 'he': 141,\n",
              " 'get': 142,\n",
              " 'real': 143,\n",
              " 'currently': 144,\n",
              " 'terrified': 145,\n",
              " 'through': 146,\n",
              " 'afraid': 147,\n",
              " 'learned': 148,\n",
              " 'help': 149,\n",
              " 'got': 150,\n",
              " 'score': 151,\n",
              " 'fun': 152,\n",
              " 'over': 153,\n",
              " 'regret': 154,\n",
              " 'abilities': 155,\n",
              " 'put': 156,\n",
              " 'going': 157,\n",
              " 'where': 158,\n",
              " 'meditation': 159,\n",
              " 'ending': 160,\n",
              " 'girlfriend': 161,\n",
              " 'take': 162,\n",
              " 'show': 163,\n",
              " 'never': 164,\n",
              " 'gloom': 165,\n",
              " 'experiencing': 166,\n",
              " 'escape': 167,\n",
              " 'might': 168,\n",
              " 'him': 169,\n",
              " 'appreciation': 170,\n",
              " 'realized': 171,\n",
              " 'big': 172,\n",
              " 'came': 173,\n",
              " 'started': 174,\n",
              " 'positive': 175,\n",
              " 'important': 176,\n",
              " 'low': 177,\n",
              " 'seem': 178,\n",
              " 'would': 179,\n",
              " 'angry': 180,\n",
              " 'grades': 181,\n",
              " 'hard': 182,\n",
              " 'face': 183,\n",
              " 'skills': 184,\n",
              " 'value': 185,\n",
              " 'person': 186,\n",
              " 'guilty': 187,\n",
              " 'something': 188,\n",
              " 'pain': 189,\n",
              " 'deal': 190,\n",
              " 'situation': 191,\n",
              " 'change': 192,\n",
              " 'hatred': 193,\n",
              " 'despair': 194,\n",
              " 'thing': 195,\n",
              " 'i’m': 196,\n",
              " 'loathing': 197,\n",
              " 'better': 198,\n",
              " 'close': 199,\n",
              " 'hate': 200,\n",
              " 'although': 201,\n",
              " 'didn’t': 202,\n",
              " 'has': 203,\n",
              " 'depressed': 204,\n",
              " 'such': 205,\n",
              " 'academic': 206,\n",
              " 'challenging': 207,\n",
              " 'sure': 208,\n",
              " 'some': 209,\n",
              " 'aware': 210,\n",
              " 'went': 211,\n",
              " 'nightmare': 212,\n",
              " 'live': 213,\n",
              " 'addicted': 214,\n",
              " 'remorse': 215,\n",
              " 'friend': 216,\n",
              " 'stop': 217,\n",
              " 'pleasure': 218,\n",
              " 'pleased': 219,\n",
              " 'joyful': 220,\n",
              " 'visit': 221,\n",
              " 'pals': 222,\n",
              " 'may': 223,\n",
              " 'good': 224,\n",
              " 'debt': 225,\n",
              " 'puberty': 226,\n",
              " 'began': 227,\n",
              " 'confidence': 228,\n",
              " 'send': 229,\n",
              " 'opinion': 230,\n",
              " 'exam': 231,\n",
              " 'rest': 232,\n",
              " 'sadness': 233,\n",
              " 'sorrow': 234,\n",
              " 'fill': 235,\n",
              " 'sympathize': 236,\n",
              " 'instead': 237,\n",
              " 'disheartened': 238,\n",
              " 'appearance': 239,\n",
              " 'understood': 240,\n",
              " 'fight': 241,\n",
              " 'kids': 242,\n",
              " 'hopeless': 243,\n",
              " 'makes': 244,\n",
              " 'did': 245,\n",
              " 'truly': 246,\n",
              " 'happen': 247,\n",
              " 'overcome': 248,\n",
              " 'into': 249,\n",
              " 'random': 250,\n",
              " 'rollercoaster': 251,\n",
              " 'loneliness': 252,\n",
              " 'otherwise': 253,\n",
              " 'attack': 254,\n",
              " 'least': 255,\n",
              " 'afford': 256,\n",
              " 'knew': 257,\n",
              " 'sometimes': 258,\n",
              " 'thoughts': 259,\n",
              " 'start': 260,\n",
              " 'say': 261,\n",
              " 'times': 262,\n",
              " 'become': 263,\n",
              " 'left': 264,\n",
              " 'aspect': 265,\n",
              " 'it’s': 266,\n",
              " 'which': 267,\n",
              " 'express': 268,\n",
              " 'feelings': 269,\n",
              " 'rage': 270,\n",
              " 'act': 271,\n",
              " 'anyone': 272,\n",
              " 'fear': 273,\n",
              " 'flashlight': 274,\n",
              " 'attention': 275,\n",
              " 'negative': 276,\n",
              " 'mood': 277,\n",
              " 'give': 278,\n",
              " 'could': 279,\n",
              " 'then': 280,\n",
              " 'melancholy': 281,\n",
              " 'work': 282,\n",
              " 'single': 283,\n",
              " 'longer': 284,\n",
              " 'interested': 285,\n",
              " 'tell': 286,\n",
              " 'bad': 287,\n",
              " 'shamed': 288,\n",
              " 'buddy': 289,\n",
              " 'criticizing': 290,\n",
              " 'wonderful': 291,\n",
              " 'simple': 292,\n",
              " 'street': 293,\n",
              " 'assist': 294,\n",
              " 'enjoy': 295,\n",
              " 'themselves': 296,\n",
              " 'warmth': 297,\n",
              " 'both': 298,\n",
              " 'physically': 299,\n",
              " 'during': 300,\n",
              " 'card': 301,\n",
              " 'here': 302,\n",
              " 'less': 303,\n",
              " 'place': 304,\n",
              " 'working': 305,\n",
              " 'project': 306,\n",
              " 'months': 307,\n",
              " 'finished': 308,\n",
              " 'children': 309,\n",
              " \"i'll\": 310,\n",
              " 'optimistic': 311,\n",
              " 'talk': 312,\n",
              " 'listen': 313,\n",
              " 'excited': 314,\n",
              " 'relationship': 315,\n",
              " 'can’t': 316,\n",
              " 'scared': 317,\n",
              " 'challenge': 318,\n",
              " 'control': 319,\n",
              " 'unexpected': 320,\n",
              " 'words': 321,\n",
              " 'emotions': 322,\n",
              " 'anger': 323,\n",
              " 'open': 324,\n",
              " 'your': 325,\n",
              " 'pay': 326,\n",
              " 'frequent': 327,\n",
              " 'cause': 328,\n",
              " 'intense': 329,\n",
              " 'come': 330,\n",
              " 'received': 331,\n",
              " 'filled': 332,\n",
              " 'tough': 333,\n",
              " 'handsome': 334,\n",
              " 'enough': 335,\n",
              " 'teachers': 336,\n",
              " 'judge': 337,\n",
              " 'poor': 338,\n",
              " 'understand': 339,\n",
              " 'coursework': 340,\n",
              " 'circumstance': 341,\n",
              " 'idea': 342,\n",
              " 'water': 343,\n",
              " 'why': 344,\n",
              " 'ways': 345,\n",
              " 'friendships': 346,\n",
              " 'avoid': 347,\n",
              " 'once': 348,\n",
              " 'night': 349,\n",
              " 'turn': 350,\n",
              " 'keep': 351,\n",
              " 'tv': 352,\n",
              " 'light': 353,\n",
              " 'use': 354,\n",
              " 'deadlines': 355,\n",
              " 'talking': 356,\n",
              " 'phobia': 357,\n",
              " 'pretty': 358,\n",
              " 'cares': 359,\n",
              " 'go': 360,\n",
              " 'overwhelmed': 361,\n",
              " 'unhappiness': 362,\n",
              " 'job': 363,\n",
              " 'tension': 364,\n",
              " 'commit': 365,\n",
              " 'ex': 366,\n",
              " 'dumped': 367,\n",
              " 'closest': 368,\n",
              " 'nobody': 369,\n",
              " 'isolated': 370,\n",
              " 'unaccompanied': 371,\n",
              " 'else': 372,\n",
              " 'committed': 373,\n",
              " 'truth': 374,\n",
              " 'blaming': 375,\n",
              " 'overjoyed': 376,\n",
              " 'ecstatic': 377,\n",
              " \"can't\": 378,\n",
              " 'practicing': 379,\n",
              " 'pleasurable': 380,\n",
              " 'amazing': 381,\n",
              " 'appreciative': 382,\n",
              " 'helped': 383,\n",
              " 'citizen': 384,\n",
              " 'credit': 385,\n",
              " 'same': 386,\n",
              " 'manner': 387,\n",
              " 'helping': 388,\n",
              " 'subject': 389,\n",
              " 'result': 390,\n",
              " 'grateful': 391,\n",
              " 'therefore': 392,\n",
              " 'tolerance': 393,\n",
              " 'taken': 394,\n",
              " 'special': 395,\n",
              " 'kindness': 396,\n",
              " 'grow': 397,\n",
              " \"parents'\": 398,\n",
              " 'devotion': 399,\n",
              " 'try': 400,\n",
              " 'huge': 401,\n",
              " 'develop': 402,\n",
              " 'dedication': 403,\n",
              " 'worked': 404,\n",
              " 'flowers': 405,\n",
              " 'thoughtfulness': 406,\n",
              " 'able': 407,\n",
              " 'finally': 408,\n",
              " 'gained': 409,\n",
              " 'ability': 410,\n",
              " 'cherish': 411,\n",
              " 'underprivileged': 412,\n",
              " 'competition': 413,\n",
              " 'buoyancy': 414,\n",
              " 'silver': 415,\n",
              " 'lining': 416,\n",
              " 'dejected': 417,\n",
              " 'coming': 418,\n",
              " 'wish': 419,\n",
              " 'irritated': 420,\n",
              " 'pressure': 421,\n",
              " 'compare': 422,\n",
              " 'yell': 423,\n",
              " 'expectations': 424,\n",
              " 'respect': 425,\n",
              " 'support': 426,\n",
              " 'frustrating': 427,\n",
              " 'seems': 428,\n",
              " 'nothing': 429,\n",
              " 'lied': 430,\n",
              " 'broke': 431,\n",
              " 'beyond': 432,\n",
              " 'cope': 433,\n",
              " 'unwanted': 434,\n",
              " 'handle': 435,\n",
              " 'affect': 436,\n",
              " 'survive': 437,\n",
              " 'kind': 438,\n",
              " 'swim': 439,\n",
              " 'helps': 440,\n",
              " 'moment': 441,\n",
              " 'move': 442,\n",
              " 'end': 443,\n",
              " 'parts': 444,\n",
              " 'part': 445,\n",
              " 'suicidal': 446,\n",
              " 'strong': 447,\n",
              " 'attempting': 448,\n",
              " 'reasons': 449,\n",
              " 'consider': 450,\n",
              " 'down': 451,\n",
              " 'thinks': 452,\n",
              " 'gifted': 453,\n",
              " 'despondent': 454,\n",
              " 'simply': 455,\n",
              " 'enraged': 456,\n",
              " 'frustrated': 457,\n",
              " 'dad': 458,\n",
              " 'under': 459,\n",
              " 'inferior': 460,\n",
              " 'worry': 461,\n",
              " 'too': 462,\n",
              " 'incredibly': 463,\n",
              " 'easily': 464,\n",
              " 'irate': 465,\n",
              " 'continue': 466,\n",
              " 'repugnant': 467,\n",
              " 'looks': 468,\n",
              " 'aggravates': 469,\n",
              " 'true': 470,\n",
              " \"they'll\": 471,\n",
              " 'frightened': 472,\n",
              " 'conscious': 473,\n",
              " 'concerned': 474,\n",
              " 'until': 475,\n",
              " 'dinner': 476,\n",
              " 'decided': 477,\n",
              " 'watch': 478,\n",
              " 'watching': 479,\n",
              " 'power': 480,\n",
              " 'tried': 481,\n",
              " 'dead': 482,\n",
              " 'trapped': 483,\n",
              " 'quickly': 484,\n",
              " 'impression': 485,\n",
              " 'terrifying': 486,\n",
              " 'projects': 487,\n",
              " 'peers': 488,\n",
              " 'respond': 489,\n",
              " 'hesitant': 490,\n",
              " 'speak': 491,\n",
              " 'anxiety': 492,\n",
              " 'everytime': 493,\n",
              " 'its': 494,\n",
              " 'continuously': 495,\n",
              " 'plagued': 496,\n",
              " 'awake': 497,\n",
              " 'hopeful': 498,\n",
              " 'dont': 499,\n",
              " 'defeated': 500,\n",
              " 'pitiful': 501,\n",
              " 'kitchen': 502,\n",
              " 'painting': 503,\n",
              " 'morning': 504,\n",
              " 'elses': 505,\n",
              " 'im': 506,\n",
              " 'child': 507,\n",
              " 'entire': 508,\n",
              " 'thought': 509,\n",
              " 'exhausted': 510,\n",
              " 'stress': 511,\n",
              " 'worn': 512,\n",
              " 'desperation': 513,\n",
              " 'despise': 514,\n",
              " 'treat': 515,\n",
              " 'log': 516,\n",
              " 'let': 517,\n",
              " 'unattended': 518,\n",
              " 'apart': 519,\n",
              " 'separated': 520,\n",
              " 'separate': 521,\n",
              " 'almost': 522,\n",
              " 'guilt': 523,\n",
              " 'extremely': 524,\n",
              " 'wrong': 525,\n",
              " 'connected': 526,\n",
              " 'lying': 527,\n",
              " 'standing': 528,\n",
              " 'honest': 529,\n",
              " 'connection': 530,\n",
              " 'misrepresenting': 531,\n",
              " 'position': 532,\n",
              " 'happened': 533,\n",
              " 'awful': 534,\n",
              " 'error': 535,\n",
              " 'horrible': 536,\n",
              " 'apologize': 537,\n",
              " 'criticized': 538,\n",
              " 'done': 539,\n",
              " 'messed': 540,\n",
              " 'content': 541,\n",
              " 'wait': 542,\n",
              " 'easy': 543,\n",
              " 'enjoyable': 544,\n",
              " 'thrilled': 545,\n",
              " 'euphoric': 546,\n",
              " 'invigorated': 547,\n",
              " 'eager': 548,\n",
              " 'satisfied': 549,\n",
              " 'assisted': 550,\n",
              " 'crossing': 551,\n",
              " 'takeaway': 552,\n",
              " 'also': 553,\n",
              " 'senior': 554,\n",
              " 'cross': 555,\n",
              " 'lesson': 556,\n",
              " 'grasp': 557,\n",
              " 'patience': 558,\n",
              " 'must': 559,\n",
              " 'action': 560,\n",
              " 'assisting': 561,\n",
              " 'understanding': 562,\n",
              " 'topic': 563,\n",
              " 'sense': 564,\n",
              " 'genuinely': 565,\n",
              " 'owed': 566,\n",
              " 'wanted': 567,\n",
              " 'granted': 568,\n",
              " 'invited': 569,\n",
              " 'surprise': 570,\n",
              " 'party': 571,\n",
              " 'thanks': 572,\n",
              " 'buddies': 573,\n",
              " 'begin': 574,\n",
              " 'mentally': 575,\n",
              " 'efforts': 576,\n",
              " 'providing': 577,\n",
              " 'giving': 578,\n",
              " 'moved': 579,\n",
              " 'aspects': 580,\n",
              " 'thoughtful': 581,\n",
              " \"wasn't\": 582,\n",
              " 'ones': 583,\n",
              " \"friend's\": 584,\n",
              " 'proud': 585,\n",
              " 'nearing': 586,\n",
              " 'completion': 587,\n",
              " 'conclusion': 588,\n",
              " 'set': 589,\n",
              " 'paid': 590,\n",
              " 'greater': 591,\n",
              " 'prodigy': 592,\n",
              " 'aptitude': 593,\n",
              " 'often': 594,\n",
              " 'congratulated': 595,\n",
              " 'genius': 596,\n",
              " 'mathematics': 597,\n",
              " 'praising': 598,\n",
              " 'frequently': 599,\n",
              " 'congratulations': 600,\n",
              " 'adore': 601,\n",
              " 'continually': 602,\n",
              " 'deeper': 603,\n",
              " 'chance': 604,\n",
              " 'succeed': 605,\n",
              " 'should': 606,\n",
              " 'participate': 607,\n",
              " 'win': 608,\n",
              " 'first': 609,\n",
              " 'optimism': 610,\n",
              " 'bright': 611,\n",
              " 'side': 612,\n",
              " 'outlook': 613,\n",
              " 'everybody': 614,\n",
              " 'joke': 615,\n",
              " 'lonely': 616,\n",
              " 'hang': 617,\n",
              " 'ignores': 618,\n",
              " 'bullies': 619,\n",
              " 'call': 620,\n",
              " 'names': 621,\n",
              " 'comfort': 622,\n",
              " 'loved': 623,\n",
              " 'study': 624,\n",
              " 'numbers': 625,\n",
              " 'inadequate': 626,\n",
              " 'punish': 627,\n",
              " 'meeting': 628,\n",
              " 'future': 629,\n",
              " 'purpose': 630,\n",
              " 'meaningless': 631,\n",
              " 'pointless': 632,\n",
              " 'motivated': 633,\n",
              " 'brings': 634,\n",
              " 'joy': 635,\n",
              " 'satisfaction': 636,\n",
              " 'goals': 637,\n",
              " 'dreams': 638,\n",
              " 'pursue': 639,\n",
              " 'talents': 640,\n",
              " 'offer': 641,\n",
              " 'worth': 642,\n",
              " 'hurt': 643,\n",
              " 'betrayed': 644,\n",
              " 'trust': 645,\n",
              " 'ruined': 646,\n",
              " 'our': 647,\n",
              " 'remorseful': 648,\n",
              " 'concience': 649,\n",
              " 'stricken': 650,\n",
              " 'forgive': 651,\n",
              " 'undo': 652,\n",
              " 'erase': 653,\n",
              " 'trigger': 654,\n",
              " 'waters': 655,\n",
              " 'easier': 656,\n",
              " 'vile': 657,\n",
              " 'crap': 658,\n",
              " 'built': 659,\n",
              " 'inside': 660,\n",
              " 'stain': 661,\n",
              " 'disgust': 662,\n",
              " 'to…': 663,\n",
              " 'sad': 664,\n",
              " 'training': 665,\n",
              " 'alcohol': 666,\n",
              " 'answer': 667,\n",
              " 'chris': 668,\n",
              " 'stapleton': 669,\n",
              " 'song': 670,\n",
              " \"'whiskey\": 671,\n",
              " \"you'\": 672,\n",
              " 'says': 673,\n",
              " 'mask': 674,\n",
              " 'allowing': 675,\n",
              " 'fricken': 676,\n",
              " 'aren’t': 677,\n",
              " 'pissed': 678,\n",
              " 'career': 679,\n",
              " 'wife': 680,\n",
              " 'bills': 681,\n",
              " 'peace': 682,\n",
              " 'needed': 683,\n",
              " 'connect': 684,\n",
              " 'inner': 685,\n",
              " 'peaceful': 686,\n",
              " 'before': 687,\n",
              " 'moving': 688,\n",
              " 'gets': 689,\n",
              " 'running': 690,\n",
              " 'rampant': 691,\n",
              " 'gotten': 692,\n",
              " 'couple': 693,\n",
              " 'reason': 694,\n",
              " 'partly': 695,\n",
              " 'contemplate': 696,\n",
              " 'getting': 697,\n",
              " 'loathe': 698,\n",
              " 'veryt': 699,\n",
              " 'loatthe': 700,\n",
              " 'talented': 701,\n",
              " 'lowscore': 702,\n",
              " 'scores': 703,\n",
              " 'they’re': 704,\n",
              " 'seeing': 705,\n",
              " 'focusing': 706,\n",
              " 'demotivating': 707,\n",
              " 'condemn': 708,\n",
              " 'receive': 709,\n",
              " 'academics': 710,\n",
              " 'discouraging': 711,\n",
              " 'annoying': 712,\n",
              " 'disagreement': 713,\n",
              " 'studies': 714,\n",
              " 'strain': 715,\n",
              " 'stats': 716,\n",
              " 'making': 717,\n",
              " 'comparisons': 718,\n",
              " 'youngsters': 719,\n",
              " 'chastise': 720,\n",
              " 'falling': 721,\n",
              " 'short': 722,\n",
              " 'standards': 723,\n",
              " 'respected': 724,\n",
              " 'encouraged': 725,\n",
              " 'discussion': 726,\n",
              " 'regarding': 727,\n",
              " 'performance': 728,\n",
              " 'realize': 729,\n",
              " 'statistics': 730,\n",
              " 'scream': 731,\n",
              " 'berate': 732,\n",
              " 'living': 733,\n",
              " 'adjust': 734,\n",
              " 'unwelcome': 735,\n",
              " 'occur': 736,\n",
              " 'impact': 737,\n",
              " 'discover': 738,\n",
              " 'exceedingly': 739,\n",
              " 'include': 740,\n",
              " 'readily': 741,\n",
              " 'sentiments': 742,\n",
              " 'force': 743,\n",
              " 'navigate': 744,\n",
              " 'irritates': 745,\n",
              " 'enrages': 746,\n",
              " 'still': 747,\n",
              " 'behave': 748,\n",
              " 'disgusting': 749,\n",
              " 'stares': 750,\n",
              " 'aggravate': 751,\n",
              " 'actually': 752,\n",
              " 'looking': 753,\n",
              " 'prefer': 754,\n",
              " 'shine': 755,\n",
              " 'overly': 756,\n",
              " 'fearful': 757,\n",
              " 'eye': 758,\n",
              " 'contact': 759,\n",
              " 'stand': 760,\n",
              " 'worried': 761,\n",
              " 'criticize': 762,\n",
              " 'adolescent': 763,\n",
              " 'lights': 764,\n",
              " 'fell': 765,\n",
              " 'asleep': 766,\n",
              " 'distract': 767,\n",
              " 'suddenly': 768,\n",
              " 'phone’s': 769,\n",
              " 'abyss': 770,\n",
              " 'minutes': 771,\n",
              " 'panicking': 772,\n",
              " 'remembered': 773,\n",
              " 'backpack': 774,\n",
              " 'grabbed': 775,\n",
              " 'turned': 776,\n",
              " 'safe': 777,\n",
              " 'secure': 778,\n",
              " 'we': 779,\n",
              " 'bit': 780,\n",
              " 'courage': 781,\n",
              " 'resourcefulness': 782,\n",
              " 'teenager': 783,\n",
              " 'used': 784,\n",
              " 'leave': 785,\n",
              " 'sleep': 786,\n",
              " 'while': 787,\n",
              " 'order': 788,\n",
              " 'thinking': 789,\n",
              " 'dread': 790,\n",
              " 'chose': 791,\n",
              " 'television': 792,\n",
              " 'abruptly': 793,\n",
              " 'off': 794,\n",
              " 'unsure': 795,\n",
              " 'attempted': 796,\n",
              " 'helplessly': 797,\n",
              " 'demanding': 798,\n",
              " 'tasks': 799,\n",
              " 'tight': 800,\n",
              " 'feisty': 801,\n",
              " 'classmates': 802,\n",
              " 'utterly': 803,\n",
              " 'strict': 804,\n",
              " 'tenacious': 805,\n",
              " 'absolutely': 806,\n",
              " 'frightening': 807,\n",
              " 'gloomy': 808,\n",
              " 'hour': 809,\n",
              " 'courses': 810,\n",
              " 'severe': 811,\n",
              " 'ominous': 812,\n",
              " 'silence': 813,\n",
              " 'uneasy': 814,\n",
              " \"that's\": 815,\n",
              " 'nightmarish': 816,\n",
              " 'shutting': 817,\n",
              " 'feelt': 818,\n",
              " 'terror': 819,\n",
              " 'apprehension': 820,\n",
              " 'nervousnes': 821,\n",
              " 's': 822,\n",
              " 'manage': 823,\n",
              " 'quiet': 824,\n",
              " 'nervous': 825,\n",
              " 'arrive': 826,\n",
              " 'lack': 827,\n",
              " 'motivation': 828,\n",
              " 'damned': 829,\n",
              " 'downmood': 830,\n",
              " 'downcast': 831,\n",
              " 'color': 832,\n",
              " 'overpowered': 833,\n",
              " 'another': 834,\n",
              " \"person's\": 835,\n",
              " 'wall': 836,\n",
              " 'noticed': 837,\n",
              " 'demoralized': 838,\n",
              " 'inhibited': 839,\n",
              " 'picture': 840,\n",
              " 'found': 841,\n",
              " 'discouraged': 842,\n",
              " 'pathetic': 843,\n",
              " 'rejected': 844,\n",
              " 'without': 845,\n",
              " 'saying': 846,\n",
              " 'becomes': 847,\n",
              " 'violent': 848,\n",
              " 'bitter': 849,\n",
              " 'strange': 850,\n",
              " 'guess': 851,\n",
              " 'disgusted': 852,\n",
              " 'even': 853,\n",
              " 'associated': 854,\n",
              " 'woman': 855,\n",
              " 'race': 856,\n",
              " 'nationality': 857,\n",
              " 'laughed': 858,\n",
              " 'bitterly': 859,\n",
              " 'again': 860,\n",
              " 'wasnt': 861,\n",
              " 'bitterim': 862,\n",
              " 'distracted': 863,\n",
              " 'tend': 864,\n",
              " 'practice': 865,\n",
              " 'eyes': 866,\n",
              " 'shut': 867,\n",
              " 'possiblestress': 868,\n",
              " 'misery': 869,\n",
              " 'haunting': 870,\n",
              " 'anymore': 871,\n",
              " 'dissatisfaction': 872,\n",
              " 'urge': 873,\n",
              " 'discontent': 874,\n",
              " 'present': 875,\n",
              " 'killing': 876,\n",
              " 'constant': 877,\n",
              " 'destroy': 878,\n",
              " 'tired': 879,\n",
              " 'contempt': 880,\n",
              " 'rude': 881,\n",
              " 'badly': 882,\n",
              " 'appear': 883,\n",
              " 'hooked': 884,\n",
              " 'actual': 885,\n",
              " 'lonesome': 886,\n",
              " 't': 887,\n",
              " 'o': 888,\n",
              " 'word': 889,\n",
              " 'solitary': 890,\n",
              " 'crowd': 891,\n",
              " 'confined': 892,\n",
              " 'locked': 893,\n",
              " 'practically': 894,\n",
              " 'nearly': 895,\n",
              " 'unaided': 896,\n",
              " 'tragedy': 897,\n",
              " 'wrongdoing': 898,\n",
              " 'y': 899,\n",
              " 'allied': 900,\n",
              " 'resentment': 901,\n",
              " 'reaction': 902,\n",
              " 'shameful': 903,\n",
              " 'repentance': 904,\n",
              " 'accusation': 905,\n",
              " 'tragically': 906,\n",
              " 'wrath': 907,\n",
              " 'response': 908,\n",
              " 'sensation': 909,\n",
              " 'blame': 910,\n",
              " 'dreadful': 911,\n",
              " 'mistake': 912,\n",
              " 'aimed': 913,\n",
              " 'transpired': 914,\n",
              " 'last': 915,\n",
              " 'insulted': 916,\n",
              " 'bodyshaming': 917,\n",
              " 'wrongdoings': 918,\n",
              " 'elevating': 919,\n",
              " 'reproach': 920,\n",
              " 'becoming': 921,\n",
              " 'apologise': 922,\n",
              " 'putting': 923,\n",
              " 'botched': 924,\n",
              " 'increasing': 925,\n",
              " 'amount': 926,\n",
              " 'sorry': 927,\n",
              " 'happiness': 928,\n",
              " 'delight': 929,\n",
              " 'joyfulness': 930,\n",
              " 'exhilaration': 931,\n",
              " 'ectasy': 932,\n",
              " 'meet': 933,\n",
              " 'lovely': 934,\n",
              " 'friendes': 935,\n",
              " 'happens': 936,\n",
              " 'smoothly': 937,\n",
              " 'pleasant': 938,\n",
              " 'meditating': 939,\n",
              " 'joyous': 940,\n",
              " 'exhilarated': 941,\n",
              " 'elated': 942,\n",
              " 'reenergized': 943,\n",
              " 'engaging': 944,\n",
              " 'jubilant': 945,\n",
              " 'delighted': 946,\n",
              " 'revitalized': 947,\n",
              " 'mates': 948,\n",
              " 'elderly': 949,\n",
              " 'man': 950,\n",
              " 'complimented': 951,\n",
              " 'dependent': 952,\n",
              " 'finding': 953,\n",
              " 'complemented': 954,\n",
              " 'need': 955,\n",
              " 'older': 956,\n",
              " 'complimentary': 957,\n",
              " 'fantastic': 958,\n",
              " 'key': 959,\n",
              " 'cannot': 960,\n",
              " 'having': 961,\n",
              " 'nice': 962,\n",
              " 'main': 963,\n",
              " 'sincerely': 964,\n",
              " 'thank': 965,\n",
              " 'repay': 966,\n",
              " 'return': 967,\n",
              " 'favor': 968,\n",
              " 'improves': 969,\n",
              " 'complex': 970,\n",
              " 'back': 971,\n",
              " 'admiration': 972,\n",
              " 'astounded': 973,\n",
              " 'assistance': 974,\n",
              " 'valued': 975,\n",
              " 'soon': 976,\n",
              " 'decision': 977,\n",
              " 'threw': 978,\n",
              " 'sensed': 979,\n",
              " 'significantly': 980,\n",
              " 'strengthened': 981,\n",
              " 'showing': 982,\n",
              " 'comprehend': 983,\n",
              " 'surprised': 984,\n",
              " 'friendliness': 985,\n",
              " 'believed': 986,\n",
              " 'friendship': 987,\n",
              " 'cherished': 988,\n",
              " 'consideration': 989,\n",
              " 'expressing': 990,\n",
              " 'greatly': 991,\n",
              " 'enhance': 992,\n",
              " 'throughout': 993,\n",
              " 'physica': 994,\n",
              " 'attempt': 995,\n",
              " 'grategully': 996,\n",
              " 'intellectually': 997,\n",
              " 'commitment': 998,\n",
              " 'taking': 999,\n",
              " 'cognitively': 1000,\n",
              " ...}"
            ]
          },
          "execution_count": 5,
          "metadata": {},
          "output_type": "execute_result"
        }
      ],
      "source": [
        "vocab_size = 10000\n",
        "embedding_dim = 64\n",
        "max_length = 200\n",
        "\n",
        "tokenizer = Tokenizer(num_words=vocab_size, oov_token=\"<OOV>\")\n",
        "tokenizer.fit_on_texts(sentences)\n",
        "word_index = tokenizer.word_index\n",
        "word_index"
      ]
    },
    {
      "cell_type": "markdown",
      "metadata": {
        "id": "nZCRj7Sk-jX7"
      },
      "source": [
        "Because, there would be texts with different length $→$ we have to perform padding on both train dataset and test dataset"
      ]
    },
    {
      "cell_type": "code",
      "execution_count": null,
      "metadata": {
        "colab": {
          "base_uri": "https://localhost:8080/"
        },
        "id": "_Po3MhmCFZlR",
        "outputId": "cd8c01ea-3ac7-45de-f711-0d23764ae2de"
      },
      "outputs": [
        {
          "name": "stdout",
          "output_type": "stream",
          "text": [
            "(94, 200)\n"
          ]
        },
        {
          "data": {
            "text/plain": [
              "array([[  2, 137,  14, ...,   0,   0,   0],\n",
              "       [ 78,   6, 128, ...,   0,   0,   0],\n",
              "       [  6, 161, 203, ...,   0,   0,   0],\n",
              "       ...,\n",
              "       [506,  62, 849, ...,   0,   0,   0],\n",
              "       [  7, 103,  21, ...,   0,   0,   0],\n",
              "       [  2, 125,  22, ...,   0,   0,   0]], dtype=int32)"
            ]
          },
          "execution_count": 6,
          "metadata": {},
          "output_type": "execute_result"
        }
      ],
      "source": [
        "train_sequences = tokenizer.texts_to_sequences(x_train)\n",
        "padded_train_sequences = pad_sequences(train_sequences, maxlen=max_length, truncating=\"post\", padding=\"post\")\n",
        "print(padded_train_sequences.shape)\n",
        "padded_train_sequences"
      ]
    },
    {
      "cell_type": "code",
      "execution_count": null,
      "metadata": {
        "colab": {
          "base_uri": "https://localhost:8080/"
        },
        "id": "rLHSBFebFjnG",
        "outputId": "d0d06eab-ec8f-4ab9-bbd7-db9ca9ff6f4d"
      },
      "outputs": [
        {
          "name": "stdout",
          "output_type": "stream",
          "text": [
            "(24, 200)\n"
          ]
        },
        {
          "data": {
            "text/plain": [
              "array([[ 41, 697,   8, ...,   0,   0,   0],\n",
              "       [107,  29, 394, ...,   0,   0,   0],\n",
              "       [  6, 100,   3, ...,   0,   0,   0],\n",
              "       ...,\n",
              "       [107,  29,  27, ...,   0,   0,   0],\n",
              "       [356,  19,  40, ...,   0,   0,   0],\n",
              "       [  6, 222,  50, ...,   0,   0,   0]], dtype=int32)"
            ]
          },
          "execution_count": 7,
          "metadata": {},
          "output_type": "execute_result"
        }
      ],
      "source": [
        "test_sequences = tokenizer.texts_to_sequences(x_test)\n",
        "padded_test_sequences = pad_sequences(test_sequences, maxlen=max_length, truncating=\"post\", padding=\"post\")\n",
        "print(padded_test_sequences.shape)\n",
        "padded_test_sequences"
      ]
    },
    {
      "cell_type": "markdown",
      "metadata": {
        "id": "qEYrDD_--9eD"
      },
      "source": [
        "## Build and train the Neural Network"
      ]
    },
    {
      "cell_type": "markdown",
      "metadata": {
        "id": "ZTtTpNgh_8Hx"
      },
      "source": [
        "### Task 1: Classifying 3 Emotion Categories"
      ]
    },
    {
      "cell_type": "code",
      "execution_count": null,
      "metadata": {
        "colab": {
          "base_uri": "https://localhost:8080/"
        },
        "id": "6jJtFCjtF31q",
        "outputId": "c1341d28-f4b0-48a9-b9c1-6039e8712032"
      },
      "outputs": [
        {
          "data": {
            "text/plain": [
              "((94, 3), (24, 3))"
            ]
          },
          "execution_count": 56,
          "metadata": {},
          "output_type": "execute_result"
        }
      ],
      "source": [
        "# One hot-encoding\n",
        "y_train = to_categorical(y_train)\n",
        "y_test = to_categorical(y_test)\n",
        "y_train.shape, y_test.shape"
      ]
    },
    {
      "cell_type": "code",
      "execution_count": null,
      "metadata": {
        "colab": {
          "base_uri": "https://localhost:8080/"
        },
        "id": "KGkVV72AFlwp",
        "outputId": "90adf0d7-4dd5-41f9-8326-2b8778d17cc2"
      },
      "outputs": [
        {
          "name": "stdout",
          "output_type": "stream",
          "text": [
            "Model: \"sequential_3\"\n",
            "_________________________________________________________________\n",
            " Layer (type)                Output Shape              Param #   \n",
            "=================================================================\n",
            " embedding_3 (Embedding)     (None, 200, 64)           640000    \n",
            "                                                                 \n",
            " bidirectional_2 (Bidirectio  (None, 200, 128)         66048     \n",
            " nal)                                                            \n",
            "                                                                 \n",
            " bidirectional_3 (Bidirectio  (None, 64)               41216     \n",
            " nal)                                                            \n",
            "                                                                 \n",
            " dense_6 (Dense)             (None, 16)                1040      \n",
            "                                                                 \n",
            " dense_7 (Dense)             (None, 3)                 51        \n",
            "                                                                 \n",
            "=================================================================\n",
            "Total params: 748,355\n",
            "Trainable params: 748,355\n",
            "Non-trainable params: 0\n",
            "_________________________________________________________________\n"
          ]
        }
      ],
      "source": [
        "# use Sequential model from Tensorflow\n",
        "\n",
        "model = Sequential([\n",
        "    Embedding(vocab_size, embedding_dim, input_length=max_length),\n",
        "    Bidirectional(LSTM(64, return_sequences=True)),\n",
        "    Bidirectional(LSTM(32)),\n",
        "    Dense(16, activation=\"relu\"),\n",
        "    Dense(3, activation=\"softmax\"),\n",
        "])\n",
        "\n",
        "model.summary()"
      ]
    },
    {
      "cell_type": "code",
      "execution_count": null,
      "metadata": {
        "colab": {
          "base_uri": "https://localhost:8080/"
        },
        "id": "Vb7mYGwCHvhG",
        "outputId": "f7189eee-8e0a-4319-b7d9-31414f2f6b41"
      },
      "outputs": [
        {
          "name": "stdout",
          "output_type": "stream",
          "text": [
            "Epoch 1/20\n",
            "3/3 [==============================] - 13s 2s/step - loss: 1.0992 - accuracy: 0.3936 - val_loss: 1.0876 - val_accuracy: 0.4583\n",
            "Epoch 2/20\n",
            "3/3 [==============================] - 1s 499ms/step - loss: 1.0781 - accuracy: 0.4894 - val_loss: 1.0644 - val_accuracy: 0.4583\n",
            "Epoch 3/20\n",
            "3/3 [==============================] - 2s 711ms/step - loss: 1.0508 - accuracy: 0.5000 - val_loss: 1.0296 - val_accuracy: 0.3750\n",
            "Epoch 4/20\n",
            "3/3 [==============================] - 2s 760ms/step - loss: 1.0040 - accuracy: 0.4468 - val_loss: 0.9767 - val_accuracy: 0.5833\n",
            "Epoch 5/20\n",
            "3/3 [==============================] - 1s 510ms/step - loss: 0.9356 - accuracy: 0.7660 - val_loss: 0.8899 - val_accuracy: 0.9167\n",
            "Epoch 6/20\n",
            "3/3 [==============================] - 1s 482ms/step - loss: 0.8343 - accuracy: 0.6596 - val_loss: 0.7985 - val_accuracy: 0.5833\n",
            "Epoch 7/20\n",
            "3/3 [==============================] - 1s 464ms/step - loss: 0.7548 - accuracy: 0.5745 - val_loss: 0.7659 - val_accuracy: 0.5833\n",
            "Epoch 8/20\n",
            "3/3 [==============================] - 1s 464ms/step - loss: 0.6851 - accuracy: 0.8830 - val_loss: 0.6973 - val_accuracy: 0.9167\n",
            "Epoch 9/20\n",
            "3/3 [==============================] - 1s 465ms/step - loss: 0.5657 - accuracy: 0.9574 - val_loss: 0.5751 - val_accuracy: 0.7917\n",
            "Epoch 10/20\n",
            "3/3 [==============================] - 1s 479ms/step - loss: 0.4047 - accuracy: 0.9468 - val_loss: 0.4107 - val_accuracy: 0.9583\n",
            "Epoch 11/20\n",
            "3/3 [==============================] - 1s 502ms/step - loss: 0.2882 - accuracy: 0.9574 - val_loss: 0.2929 - val_accuracy: 0.9583\n",
            "Epoch 12/20\n",
            "3/3 [==============================] - 3s 936ms/step - loss: 0.2295 - accuracy: 0.9574 - val_loss: 0.2362 - val_accuracy: 0.9583\n",
            "Epoch 13/20\n",
            "3/3 [==============================] - 1s 463ms/step - loss: 0.1949 - accuracy: 0.9574 - val_loss: 0.2122 - val_accuracy: 0.9583\n",
            "Epoch 14/20\n",
            "3/3 [==============================] - 1s 487ms/step - loss: 0.1645 - accuracy: 0.9681 - val_loss: 0.1914 - val_accuracy: 0.9583\n",
            "Epoch 15/20\n",
            "3/3 [==============================] - 1s 496ms/step - loss: 0.1497 - accuracy: 0.9681 - val_loss: 0.1852 - val_accuracy: 0.9583\n",
            "Epoch 16/20\n",
            "3/3 [==============================] - 1s 494ms/step - loss: 0.1408 - accuracy: 0.9681 - val_loss: 0.1770 - val_accuracy: 0.9583\n",
            "Epoch 17/20\n",
            "3/3 [==============================] - 1s 488ms/step - loss: 0.1322 - accuracy: 0.9681 - val_loss: 0.1689 - val_accuracy: 0.9583\n",
            "Epoch 18/20\n",
            "3/3 [==============================] - 1s 501ms/step - loss: 0.1243 - accuracy: 0.9681 - val_loss: 0.1606 - val_accuracy: 0.9583\n",
            "Epoch 19/20\n",
            "3/3 [==============================] - 1s 501ms/step - loss: 0.1134 - accuracy: 0.9681 - val_loss: 0.1558 - val_accuracy: 0.9583\n",
            "Epoch 20/20\n",
            "3/3 [==============================] - 2s 848ms/step - loss: 0.1038 - accuracy: 0.9681 - val_loss: 0.1617 - val_accuracy: 0.9583\n"
          ]
        }
      ],
      "source": [
        "model.compile(loss=\"categorical_crossentropy\", optimizer=\"adam\", metrics=[\"accuracy\"])\n",
        "history = model.fit(padded_train_sequences, y_train, epochs=20, validation_data=(padded_test_sequences, y_test))"
      ]
    },
    {
      "cell_type": "markdown",
      "metadata": {
        "id": "1tBCM1i-_x1w"
      },
      "source": [
        "The  intial  architecture\n",
        "with LSTM is rather light-weight and simple, but\n",
        "still acquire the best performance (converge after\n",
        "20 epochs"
      ]
    },
    {
      "cell_type": "code",
      "execution_count": null,
      "metadata": {
        "colab": {
          "base_uri": "https://localhost:8080/",
          "height": 407
        },
        "id": "4HHluRJsQsHG",
        "outputId": "09393da0-3a39-47cb-8b96-5dbcca020676"
      },
      "outputs": [
        {
          "data": {
            "image/png": "[encoded data removed]",
            "text/plain": [
              "<Figure size 1200x400 with 2 Axes>"
            ]
          },
          "metadata": {},
          "output_type": "display_data"
        }
      ],
      "source": [
        "import matplotlib.pyplot as plt\n",
        "\n",
        "# Plot the accuracy subplot\n",
        "plt.figure(figsize=(12,4))\n",
        "plt.subplot(1, 2, 1)\n",
        "plt.plot(history.history['accuracy'], label='Train')\n",
        "plt.plot(history.history['val_accuracy'], label='Validation')\n",
        "plt.title('Model Accuracy')\n",
        "plt.ylabel('Accuracy')\n",
        "plt.xlabel('Epoch')\n",
        "plt.legend(loc='lower right')\n",
        "\n",
        "# Plot the loss subplot\n",
        "plt.subplot(1, 2, 2)\n",
        "plt.plot(history.history['loss'], label='Train')\n",
        "plt.plot(history.history['val_loss'], label='Validation')\n",
        "plt.title('Model Loss')\n",
        "plt.ylabel('Loss')\n",
        "plt.xlabel('Epoch')\n",
        "plt.legend(loc='upper right')\n",
        "\n",
        "# Adjust the space between subplots\n",
        "plt.tight_layout()\n",
        "\n",
        "# Show the plots\n",
        "plt.show()"
      ]
    },
    {
      "cell_type": "code",
      "execution_count": null,
      "metadata": {
        "id": "JYznyaOgR1oi"
      },
      "outputs": [],
      "source": [
        "# save model for task 1\n",
        "model.save('model_3_classes_v1.1.h5')\n",
        "model.save_weights('model_3_classes_weights_v1.1')"
      ]
    },
    {
      "cell_type": "code",
      "execution_count": null,
      "metadata": {
        "id": "5FFGFxPWXBKj"
      },
      "outputs": [],
      "source": [
        "# re-import the model to check and do inference\n",
        "# If you do not use Google Colab, replace the path to model below to your local one\n",
        "my_model = tf.keras.models.load_model('/content/model_3_classes_v1.h5')"
      ]
    },
    {
      "cell_type": "code",
      "execution_count": null,
      "metadata": {
        "colab": {
          "base_uri": "https://localhost:8080/"
        },
        "id": "f8ZOknfmWb9q",
        "outputId": "7a537718-d711-4fa1-ad7d-291f52800044"
      },
      "outputs": [
        {
          "data": {
            "text/plain": [
              "array([[  2,  12,   1,   1,  37,  34,   6,  40,   1,   5, 462,  46,  16,\n",
              "         63,  57, 339,   5,  44, 830,   4,  75,   9,  16,  68, 337,   5,\n",
              "         23,   6, 703,  49,   8, 454,  28,   0,   0,   0,   0,   0,   0,\n",
              "          0,   0,   0,   0,   0,   0,   0,   0,   0,   0,   0,   0,   0,\n",
              "          0,   0,   0,   0,   0,   0,   0,   0,   0,   0,   0,   0,   0,\n",
              "          0,   0,   0,   0,   0,   0,   0,   0,   0,   0,   0,   0,   0,\n",
              "          0,   0,   0,   0,   0,   0,   0,   0,   0,   0,   0,   0,   0,\n",
              "          0,   0,   0,   0,   0,   0,   0,   0,   0,   0,   0,   0,   0,\n",
              "          0,   0,   0,   0,   0,   0,   0,   0,   0,   0,   0,   0,   0,\n",
              "          0,   0,   0,   0,   0,   0,   0,   0,   0,   0,   0,   0,   0,\n",
              "          0,   0,   0,   0,   0,   0,   0,   0,   0,   0,   0,   0,   0,\n",
              "          0,   0,   0,   0,   0,   0,   0,   0,   0,   0,   0,   0,   0,\n",
              "          0,   0,   0,   0,   0,   0,   0,   0,   0,   0,   0,   0,   0,\n",
              "          0,   0,   0,   0,   0,   0,   0,   0,   0,   0,   0,   0,   0,\n",
              "          0,   0,   0,   0,   0,   0,   0,   0,   0,   0,   0,   0,   0,\n",
              "          0,   0,   0,   0,   0]], dtype=int32)"
            ]
          },
          "execution_count": 93,
          "metadata": {},
          "output_type": "execute_result"
        }
      ],
      "source": [
        "# inference\n",
        "infer_text = [\"I feel deeply disappointed today because my parents scolded me too much. They do not understand me. Very downmood to know that they only judge me on my scores. What a despondent life\"]\n",
        "\n",
        "text_seq = tokenizer.texts_to_sequences(infer_text)\n",
        "padded_text_seq = pad_sequences(text_seq, maxlen=max_length, truncating=\"post\", padding=\"post\")\n",
        "padded_text_seq"
      ]
    },
    {
      "cell_type": "code",
      "execution_count": null,
      "metadata": {
        "colab": {
          "base_uri": "https://localhost:8080/"
        },
        "id": "SDEdkSnGXvuT",
        "outputId": "1807a6fb-519f-4fcd-8285-8805b7b231cc"
      },
      "outputs": [
        {
          "name": "stdout",
          "output_type": "stream",
          "text": [
            "1/1 [==============================] - 0s 215ms/step\n",
            "negative emotions\n"
          ]
        }
      ],
      "source": [
        "prediction = np.argmax(model.predict(padded_text_seq))\n",
        "print(classes_2[prediction])"
      ]
    },
    {
      "cell_type": "markdown",
      "metadata": {
        "id": "K9betOGx_5cY"
      },
      "source": [
        "### Task 2: Classifying 12 Emotion Categories\n",
        "\n",
        "The below code is the same as above (preprocessing texts), so run it quickly"
      ]
    },
    {
      "cell_type": "code",
      "execution_count": null,
      "metadata": {
        "colab": {
          "base_uri": "https://localhost:8080/"
        },
        "id": "TxcAkB6mRSPJ",
        "outputId": "a4f25a0d-b2c6-4797-b04d-5acb345a1f2c"
      },
      "outputs": [
        {
          "name": "stdout",
          "output_type": "stream",
          "text": [
            "Train Set\n",
            "(94,) (94,)\n",
            "Test Set\n",
            "(24,) (24,)\n"
          ]
        }
      ],
      "source": [
        "from sklearn.model_selection import train_test_split\n",
        "\n",
        "sentences, labels = df[\"text\"].values, df[\"index_label\"].values\n",
        "\n",
        "x_train, x_test, y_train_2, y_test_2 = train_test_split(\n",
        "    sentences,\n",
        "    labels,\n",
        "    test_size=0.2,\n",
        "    shuffle=True,\n",
        "    random_state=42,\n",
        "    stratify=labels\n",
        ")\n",
        "\n",
        "print(\"Train Set\")\n",
        "print(x_train.shape, y_train_2.shape)\n",
        "print(\"Test Set\")\n",
        "print(x_test.shape, y_test_2.shape)"
      ]
    },
    {
      "cell_type": "code",
      "execution_count": null,
      "metadata": {
        "colab": {
          "base_uri": "https://localhost:8080/"
        },
        "id": "dZ5zVkw0RaYX",
        "outputId": "191e4c8a-1aa2-473e-be6e-5e091dca180c"
      },
      "outputs": [
        {
          "data": {
            "text/plain": [
              "((94, 12), (24, 12))"
            ]
          },
          "execution_count": 72,
          "metadata": {},
          "output_type": "execute_result"
        }
      ],
      "source": [
        "y_train_2 = to_categorical(y_train_2)\n",
        "y_test_2 = to_categorical(y_test_2)\n",
        "y_train_2.shape, y_test_2.shape"
      ]
    },
    {
      "cell_type": "code",
      "execution_count": null,
      "metadata": {
        "colab": {
          "base_uri": "https://localhost:8080/"
        },
        "id": "dH9tKbwqTXGA",
        "outputId": "05da70c7-8be4-4096-af78-49c0a2b68c8e"
      },
      "outputs": [
        {
          "name": "stdout",
          "output_type": "stream",
          "text": [
            "(94, 200)\n"
          ]
        },
        {
          "data": {
            "text/plain": [
              "array([[105,  21,   2, ...,   0,   0,   0],\n",
              "       [  2, 550,  97, ...,   0,   0,   0],\n",
              "       [  6, 161, 264, ...,   0,   0,   0],\n",
              "       ...,\n",
              "       [  2,  27,  83, ...,   0,   0,   0],\n",
              "       [ 22, 115, 465, ...,   0,   0,   0],\n",
              "       [107,  29,  27, ...,   0,   0,   0]], dtype=int32)"
            ]
          },
          "execution_count": 87,
          "metadata": {},
          "output_type": "execute_result"
        }
      ],
      "source": [
        "train_sequences = tokenizer.texts_to_sequences(x_train)\n",
        "padded_train_sequences = pad_sequences(train_sequences, maxlen=max_length, truncating=\"post\", padding=\"post\")\n",
        "print(padded_train_sequences.shape)\n",
        "padded_train_sequences"
      ]
    },
    {
      "cell_type": "code",
      "execution_count": null,
      "metadata": {
        "colab": {
          "base_uri": "https://localhost:8080/"
        },
        "id": "W_bOgnI1VonW",
        "outputId": "87147dfe-1ae6-4daa-8e0b-8e985388d572"
      },
      "outputs": [
        {
          "name": "stdout",
          "output_type": "stream",
          "text": [
            "(24, 200)\n"
          ]
        },
        {
          "data": {
            "text/plain": [
              "array([[ 37,  41, 159, ...,   0,   0,   0],\n",
              "       [  2,  12,  24, ...,   0,   0,   0],\n",
              "       [ 34,  11,   7, ...,   0,   0,   0],\n",
              "       ...,\n",
              "       [  2,  79, 125, ...,   0,   0,   0],\n",
              "       [  2,  27,   8, ...,   0,   0,   0],\n",
              "       [338, 309,  18, ...,   0,   0,   0]], dtype=int32)"
            ]
          },
          "execution_count": 88,
          "metadata": {},
          "output_type": "execute_result"
        }
      ],
      "source": [
        "test_sequences = tokenizer.texts_to_sequences(x_test)\n",
        "padded_test_sequences = pad_sequences(test_sequences, maxlen=max_length, truncating=\"post\", padding=\"post\")\n",
        "print(padded_test_sequences.shape)\n",
        "padded_test_sequences"
      ]
    },
    {
      "cell_type": "markdown",
      "metadata": {
        "id": "1ktoRvm4A24W"
      },
      "source": [
        "However,  the  above  architecture  does  not perform  well  with  the  problem  of  12-class classification.  We  need  a  more  complex architecture with more layers to capture the slight nuances  of  emotions  in  texts.  Accordingly,  we choose to implement this architecture"
      ]
    },
    {
      "cell_type": "code",
      "execution_count": null,
      "metadata": {
        "colab": {
          "base_uri": "https://localhost:8080/"
        },
        "id": "EaZtHUUyVpY_",
        "outputId": "377afdb3-1a32-4bdb-ee45-906c2be791b1"
      },
      "outputs": [
        {
          "name": "stdout",
          "output_type": "stream",
          "text": [
            "Model: \"sequential_4\"\n",
            "_________________________________________________________________\n",
            " Layer (type)                Output Shape              Param #   \n",
            "=================================================================\n",
            " embedding_4 (Embedding)     (None, 200, 64)           640000    \n",
            "                                                                 \n",
            " bidirectional_4 (Bidirectio  (None, 200, 128)         66048     \n",
            " nal)                                                            \n",
            "                                                                 \n",
            " bidirectional_5 (Bidirectio  (None, 200, 128)         98816     \n",
            " nal)                                                            \n",
            "                                                                 \n",
            " global_average_pooling1d (G  (None, 128)              0         \n",
            " lobalAveragePooling1D)                                          \n",
            "                                                                 \n",
            " dense_8 (Dense)             (None, 500)               64500     \n",
            "                                                                 \n",
            " dropout (Dropout)           (None, 500)               0         \n",
            "                                                                 \n",
            " dense_9 (Dense)             (None, 200)               100200    \n",
            "                                                                 \n",
            " dropout_1 (Dropout)         (None, 200)               0         \n",
            "                                                                 \n",
            " dense_10 (Dense)            (None, 100)               20100     \n",
            "                                                                 \n",
            " dropout_2 (Dropout)         (None, 100)               0         \n",
            "                                                                 \n",
            " dense_11 (Dense)            (None, 50)                5050      \n",
            "                                                                 \n",
            " dense_12 (Dense)            (None, 12)                612       \n",
            "                                                                 \n",
            "=================================================================\n",
            "Total params: 995,326\n",
            "Trainable params: 995,326\n",
            "Non-trainable params: 0\n",
            "_________________________________________________________________\n"
          ]
        }
      ],
      "source": [
        "from tensorflow.keras.layers import Embedding, Bidirectional, LSTM, GlobalAveragePooling1D, Dense, Dropout\n",
        "from tensorflow.keras.models import Sequential\n",
        "\n",
        "dropout_threshold = 0.4\n",
        "input_dim = vocab_size\n",
        "output_dim = embedding_dim\n",
        "input_length = max_length\n",
        "\n",
        "model_2 = Sequential([\n",
        "    Embedding(vocab_size, embedding_dim, input_length=max_length),\n",
        "    Bidirectional(LSTM(units=output_dim, dropout=dropout_threshold, return_sequences=True), merge_mode=\"concat\"),\n",
        "    Bidirectional(LSTM(units=output_dim, return_sequences=True)),\n",
        "    GlobalAveragePooling1D(),\n",
        "    Dense(500, activation=\"relu\"),\n",
        "    Dropout(0.1),\n",
        "    Dense(200, activation=\"relu\"),\n",
        "    Dropout(0.1),\n",
        "    Dense(100, activation=\"relu\"),\n",
        "    Dropout(0.1),\n",
        "    Dense(50, activation=\"relu\"),\n",
        "    Dense(12, activation=\"softmax\"),\n",
        "])\n",
        "\n",
        "model_2.summary()"
      ]
    },
    {
      "cell_type": "code",
      "execution_count": null,
      "metadata": {
        "colab": {
          "base_uri": "https://localhost:8080/"
        },
        "id": "-9Cr9zPnaB0G",
        "outputId": "5403c696-03da-4b4a-a9b2-0ef5402755ea"
      },
      "outputs": [
        {
          "name": "stdout",
          "output_type": "stream",
          "text": [
            "Epoch 1/100\n",
            "3/3 [==============================] - 13s 1s/step - loss: 2.4850 - accuracy: 0.0638 - val_loss: 2.4820 - val_accuracy: 0.1250\n",
            "Epoch 2/100\n",
            "3/3 [==============================] - 2s 584ms/step - loss: 2.4814 - accuracy: 0.0957 - val_loss: 2.4773 - val_accuracy: 0.0833\n",
            "Epoch 3/100\n",
            "3/3 [==============================] - 2s 585ms/step - loss: 2.4752 - accuracy: 0.1170 - val_loss: 2.4703 - val_accuracy: 0.0417\n",
            "Epoch 4/100\n",
            "3/3 [==============================] - 2s 571ms/step - loss: 2.4610 - accuracy: 0.0851 - val_loss: 2.4628 - val_accuracy: 0.1250\n",
            "Epoch 5/100\n",
            "3/3 [==============================] - 2s 747ms/step - loss: 2.4521 - accuracy: 0.1170 - val_loss: 2.4696 - val_accuracy: 0.1250\n",
            "Epoch 6/100\n",
            "3/3 [==============================] - 3s 849ms/step - loss: 2.4504 - accuracy: 0.1383 - val_loss: 2.4574 - val_accuracy: 0.1250\n",
            "Epoch 7/100\n",
            "3/3 [==============================] - 2s 584ms/step - loss: 2.4521 - accuracy: 0.1064 - val_loss: 2.4497 - val_accuracy: 0.1250\n",
            "Epoch 8/100\n",
            "3/3 [==============================] - 2s 564ms/step - loss: 2.4455 - accuracy: 0.1170 - val_loss: 2.4405 - val_accuracy: 0.1250\n",
            "Epoch 9/100\n",
            "3/3 [==============================] - 2s 584ms/step - loss: 2.4468 - accuracy: 0.1277 - val_loss: 2.4325 - val_accuracy: 0.1250\n",
            "Epoch 10/100\n",
            "3/3 [==============================] - 2s 587ms/step - loss: 2.4318 - accuracy: 0.1170 - val_loss: 2.4264 - val_accuracy: 0.1250\n",
            "Epoch 11/100\n",
            "3/3 [==============================] - 2s 573ms/step - loss: 2.4352 - accuracy: 0.1170 - val_loss: 2.4188 - val_accuracy: 0.1250\n",
            "Epoch 12/100\n",
            "3/3 [==============================] - 2s 706ms/step - loss: 2.4182 - accuracy: 0.1277 - val_loss: 2.4146 - val_accuracy: 0.1250\n",
            "Epoch 13/100\n",
            "3/3 [==============================] - 3s 919ms/step - loss: 2.4223 - accuracy: 0.0851 - val_loss: 2.4135 - val_accuracy: 0.1250\n",
            "Epoch 14/100\n",
            "3/3 [==============================] - 2s 558ms/step - loss: 2.4206 - accuracy: 0.1170 - val_loss: 2.4086 - val_accuracy: 0.1250\n",
            "Epoch 15/100\n",
            "3/3 [==============================] - 2s 562ms/step - loss: 2.4269 - accuracy: 0.0851 - val_loss: 2.3962 - val_accuracy: 0.1250\n",
            "Epoch 16/100\n",
            "3/3 [==============================] - 2s 586ms/step - loss: 2.3985 - accuracy: 0.1383 - val_loss: 2.3680 - val_accuracy: 0.1250\n",
            "Epoch 17/100\n",
            "3/3 [==============================] - 2s 566ms/step - loss: 2.3526 - accuracy: 0.0851 - val_loss: 2.2726 - val_accuracy: 0.1250\n",
            "Epoch 18/100\n",
            "3/3 [==============================] - 2s 575ms/step - loss: 2.2298 - accuracy: 0.1809 - val_loss: 2.1232 - val_accuracy: 0.2083\n",
            "Epoch 19/100\n",
            "3/3 [==============================] - 2s 638ms/step - loss: 2.1378 - accuracy: 0.1915 - val_loss: 2.0499 - val_accuracy: 0.2083\n",
            "Epoch 20/100\n",
            "3/3 [==============================] - 3s 956ms/step - loss: 2.0742 - accuracy: 0.1596 - val_loss: 2.0250 - val_accuracy: 0.1667\n",
            "Epoch 21/100\n",
            "3/3 [==============================] - 2s 564ms/step - loss: 2.0159 - accuracy: 0.1489 - val_loss: 1.9493 - val_accuracy: 0.2083\n",
            "Epoch 22/100\n",
            "3/3 [==============================] - 2s 573ms/step - loss: 2.0141 - accuracy: 0.1383 - val_loss: 1.9339 - val_accuracy: 0.2083\n",
            "Epoch 23/100\n",
            "3/3 [==============================] - 2s 584ms/step - loss: 2.0325 - accuracy: 0.1915 - val_loss: 1.9319 - val_accuracy: 0.2083\n",
            "Epoch 24/100\n",
            "3/3 [==============================] - 2s 571ms/step - loss: 2.0697 - accuracy: 0.2128 - val_loss: 1.9416 - val_accuracy: 0.2083\n",
            "Epoch 25/100\n",
            "3/3 [==============================] - 2s 571ms/step - loss: 2.0310 - accuracy: 0.1383 - val_loss: 1.9759 - val_accuracy: 0.1667\n",
            "Epoch 26/100\n",
            "3/3 [==============================] - 2s 659ms/step - loss: 1.9608 - accuracy: 0.2021 - val_loss: 1.9863 - val_accuracy: 0.1250\n",
            "Epoch 27/100\n",
            "3/3 [==============================] - 3s 960ms/step - loss: 1.9552 - accuracy: 0.2234 - val_loss: 1.9643 - val_accuracy: 0.1250\n",
            "Epoch 28/100\n",
            "3/3 [==============================] - 2s 588ms/step - loss: 1.9270 - accuracy: 0.2234 - val_loss: 1.9513 - val_accuracy: 0.2083\n",
            "Epoch 29/100\n",
            "3/3 [==============================] - 2s 588ms/step - loss: 2.0114 - accuracy: 0.1064 - val_loss: 1.9449 - val_accuracy: 0.1667\n",
            "Epoch 30/100\n",
            "3/3 [==============================] - 2s 588ms/step - loss: 1.8581 - accuracy: 0.2021 - val_loss: 2.0271 - val_accuracy: 0.1667\n",
            "Epoch 31/100\n",
            "3/3 [==============================] - 2s 563ms/step - loss: 1.8656 - accuracy: 0.1596 - val_loss: 2.0524 - val_accuracy: 0.1667\n",
            "Epoch 32/100\n",
            "3/3 [==============================] - 2s 586ms/step - loss: 2.0386 - accuracy: 0.2128 - val_loss: 2.3683 - val_accuracy: 0.1667\n",
            "Epoch 33/100\n",
            "3/3 [==============================] - 2s 627ms/step - loss: 2.0131 - accuracy: 0.2128 - val_loss: 2.2450 - val_accuracy: 0.1667\n",
            "Epoch 34/100\n",
            "3/3 [==============================] - 3s 968ms/step - loss: 1.9500 - accuracy: 0.1277 - val_loss: 2.1980 - val_accuracy: 0.1667\n",
            "Epoch 35/100\n",
            "3/3 [==============================] - 2s 588ms/step - loss: 1.9398 - accuracy: 0.1596 - val_loss: 2.0466 - val_accuracy: 0.1667\n",
            "Epoch 36/100\n",
            "3/3 [==============================] - 2s 578ms/step - loss: 1.9146 - accuracy: 0.1915 - val_loss: 2.0301 - val_accuracy: 0.1667\n",
            "Epoch 37/100\n",
            "3/3 [==============================] - 2s 573ms/step - loss: 1.8132 - accuracy: 0.2979 - val_loss: 1.7958 - val_accuracy: 0.2083\n",
            "Epoch 38/100\n",
            "3/3 [==============================] - 2s 592ms/step - loss: 1.7781 - accuracy: 0.2447 - val_loss: 1.7682 - val_accuracy: 0.2083\n",
            "Epoch 39/100\n",
            "3/3 [==============================] - 2s 592ms/step - loss: 1.8136 - accuracy: 0.1596 - val_loss: 1.7624 - val_accuracy: 0.2083\n",
            "Epoch 40/100\n",
            "3/3 [==============================] - 2s 714ms/step - loss: 1.7677 - accuracy: 0.1596 - val_loss: 1.7649 - val_accuracy: 0.1667\n",
            "Epoch 41/100\n",
            "3/3 [==============================] - 3s 883ms/step - loss: 1.8234 - accuracy: 0.2128 - val_loss: 1.9214 - val_accuracy: 0.1667\n",
            "Epoch 42/100\n",
            "3/3 [==============================] - 2s 586ms/step - loss: 1.8568 - accuracy: 0.1702 - val_loss: 1.9381 - val_accuracy: 0.1667\n",
            "Epoch 43/100\n",
            "3/3 [==============================] - 2s 586ms/step - loss: 1.8020 - accuracy: 0.2128 - val_loss: 1.7642 - val_accuracy: 0.2083\n",
            "Epoch 44/100\n",
            "3/3 [==============================] - 2s 597ms/step - loss: 1.7713 - accuracy: 0.1277 - val_loss: 1.7626 - val_accuracy: 0.2083\n",
            "Epoch 45/100\n",
            "3/3 [==============================] - 2s 584ms/step - loss: 1.7733 - accuracy: 0.2340 - val_loss: 1.7664 - val_accuracy: 0.2083\n",
            "Epoch 46/100\n",
            "3/3 [==============================] - 2s 580ms/step - loss: 1.7885 - accuracy: 0.1489 - val_loss: 1.8648 - val_accuracy: 0.2083\n",
            "Epoch 47/100\n",
            "3/3 [==============================] - 2s 840ms/step - loss: 1.7564 - accuracy: 0.2128 - val_loss: 1.8576 - val_accuracy: 0.2083\n",
            "Epoch 48/100\n",
            "3/3 [==============================] - 2s 776ms/step - loss: 1.7660 - accuracy: 0.2021 - val_loss: 1.8454 - val_accuracy: 0.2083\n",
            "Epoch 49/100\n",
            "3/3 [==============================] - 2s 570ms/step - loss: 1.7501 - accuracy: 0.2340 - val_loss: 1.8439 - val_accuracy: 0.1250\n",
            "Epoch 50/100\n",
            "3/3 [==============================] - 2s 571ms/step - loss: 1.7737 - accuracy: 0.1915 - val_loss: 1.8456 - val_accuracy: 0.2083\n",
            "Epoch 51/100\n",
            "3/3 [==============================] - 2s 591ms/step - loss: 1.7811 - accuracy: 0.1915 - val_loss: 1.8573 - val_accuracy: 0.2083\n",
            "Epoch 52/100\n",
            "3/3 [==============================] - 2s 589ms/step - loss: 1.7493 - accuracy: 0.2660 - val_loss: 1.8466 - val_accuracy: 0.2083\n",
            "Epoch 53/100\n",
            "3/3 [==============================] - 2s 591ms/step - loss: 1.7220 - accuracy: 0.2340 - val_loss: 1.8203 - val_accuracy: 0.2083\n",
            "Epoch 54/100\n",
            "3/3 [==============================] - 2s 896ms/step - loss: 1.7564 - accuracy: 0.1702 - val_loss: 1.8210 - val_accuracy: 0.2500\n",
            "Epoch 55/100\n",
            "3/3 [==============================] - 2s 718ms/step - loss: 1.7197 - accuracy: 0.2234 - val_loss: 1.9435 - val_accuracy: 0.2500\n",
            "Epoch 56/100\n",
            "3/3 [==============================] - 2s 602ms/step - loss: 1.6863 - accuracy: 0.2340 - val_loss: 1.7994 - val_accuracy: 0.2500\n",
            "Epoch 57/100\n",
            "3/3 [==============================] - 2s 566ms/step - loss: 1.7209 - accuracy: 0.1702 - val_loss: 1.8284 - val_accuracy: 0.2500\n",
            "Epoch 58/100\n",
            "3/3 [==============================] - 2s 594ms/step - loss: 1.6779 - accuracy: 0.2128 - val_loss: 1.8380 - val_accuracy: 0.2083\n",
            "Epoch 59/100\n",
            "3/3 [==============================] - 2s 606ms/step - loss: 1.7121 - accuracy: 0.2021 - val_loss: 1.8215 - val_accuracy: 0.2083\n",
            "Epoch 60/100\n",
            "3/3 [==============================] - 2s 563ms/step - loss: 1.7421 - accuracy: 0.2021 - val_loss: 1.8327 - val_accuracy: 0.2500\n",
            "Epoch 61/100\n",
            "3/3 [==============================] - 2s 946ms/step - loss: 1.7631 - accuracy: 0.2447 - val_loss: 1.8445 - val_accuracy: 0.2083\n",
            "Epoch 62/100\n",
            "3/3 [==============================] - 2s 727ms/step - loss: 1.6193 - accuracy: 0.2447 - val_loss: 1.8287 - val_accuracy: 0.2083\n",
            "Epoch 63/100\n",
            "3/3 [==============================] - 2s 642ms/step - loss: 1.5257 - accuracy: 0.2979 - val_loss: 1.8085 - val_accuracy: 0.1667\n",
            "Epoch 64/100\n",
            "3/3 [==============================] - 2s 576ms/step - loss: 1.5618 - accuracy: 0.2553 - val_loss: 1.7572 - val_accuracy: 0.1667\n",
            "Epoch 65/100\n",
            "3/3 [==============================] - 2s 590ms/step - loss: 1.5661 - accuracy: 0.2979 - val_loss: 1.6160 - val_accuracy: 0.2917\n",
            "Epoch 66/100\n",
            "3/3 [==============================] - 2s 572ms/step - loss: 1.5561 - accuracy: 0.2766 - val_loss: 1.6249 - val_accuracy: 0.3333\n",
            "Epoch 67/100\n",
            "3/3 [==============================] - 2s 596ms/step - loss: 1.5322 - accuracy: 0.2660 - val_loss: 1.6303 - val_accuracy: 0.3333\n",
            "Epoch 68/100\n",
            "3/3 [==============================] - 3s 1s/step - loss: 1.4423 - accuracy: 0.3191 - val_loss: 1.5645 - val_accuracy: 0.3333\n",
            "Epoch 69/100\n",
            "3/3 [==============================] - 2s 567ms/step - loss: 2.2245 - accuracy: 0.2979 - val_loss: 1.6588 - val_accuracy: 0.2917\n",
            "Epoch 70/100\n",
            "3/3 [==============================] - 2s 575ms/step - loss: 1.4744 - accuracy: 0.2979 - val_loss: 1.8701 - val_accuracy: 0.2500\n",
            "Epoch 71/100\n",
            "3/3 [==============================] - 2s 597ms/step - loss: 1.5185 - accuracy: 0.2660 - val_loss: 1.8760 - val_accuracy: 0.2083\n",
            "Epoch 72/100\n",
            "3/3 [==============================] - 2s 604ms/step - loss: 1.4944 - accuracy: 0.3191 - val_loss: 1.8260 - val_accuracy: 0.2083\n",
            "Epoch 73/100\n",
            "3/3 [==============================] - 2s 607ms/step - loss: 1.4948 - accuracy: 0.3511 - val_loss: 1.8168 - val_accuracy: 0.2083\n",
            "Epoch 74/100\n",
            "3/3 [==============================] - 2s 598ms/step - loss: 1.4879 - accuracy: 0.3830 - val_loss: 1.7330 - val_accuracy: 0.2500\n",
            "Epoch 75/100\n",
            "3/3 [==============================] - 3s 1s/step - loss: 1.4582 - accuracy: 0.3191 - val_loss: 1.7315 - val_accuracy: 0.2500\n",
            "Epoch 76/100\n",
            "3/3 [==============================] - 2s 717ms/step - loss: 1.3952 - accuracy: 0.3511 - val_loss: 1.6515 - val_accuracy: 0.4167\n",
            "Epoch 77/100\n",
            "3/3 [==============================] - 2s 606ms/step - loss: 1.3500 - accuracy: 0.3617 - val_loss: 1.5955 - val_accuracy: 0.3750\n",
            "Epoch 78/100\n",
            "3/3 [==============================] - 2s 602ms/step - loss: 1.2546 - accuracy: 0.4149 - val_loss: 1.5701 - val_accuracy: 0.3750\n",
            "Epoch 79/100\n",
            "3/3 [==============================] - 2s 594ms/step - loss: 1.2060 - accuracy: 0.4043 - val_loss: 1.6759 - val_accuracy: 0.3333\n",
            "Epoch 80/100\n",
            "3/3 [==============================] - 2s 574ms/step - loss: 1.2557 - accuracy: 0.4149 - val_loss: 1.5895 - val_accuracy: 0.3750\n",
            "Epoch 81/100\n",
            "3/3 [==============================] - 2s 831ms/step - loss: 1.1424 - accuracy: 0.4574 - val_loss: 1.6057 - val_accuracy: 0.4583\n",
            "Epoch 82/100\n",
            "3/3 [==============================] - 3s 810ms/step - loss: 1.1717 - accuracy: 0.4362 - val_loss: 1.8236 - val_accuracy: 0.4167\n",
            "Epoch 83/100\n",
            "3/3 [==============================] - 2s 568ms/step - loss: 1.1919 - accuracy: 0.4043 - val_loss: 1.9696 - val_accuracy: 0.2917\n",
            "Epoch 84/100\n",
            "3/3 [==============================] - 2s 571ms/step - loss: 1.1964 - accuracy: 0.4681 - val_loss: 1.9737 - val_accuracy: 0.3333\n",
            "Epoch 85/100\n",
            "3/3 [==============================] - 2s 587ms/step - loss: 1.1995 - accuracy: 0.4255 - val_loss: 1.8572 - val_accuracy: 0.4167\n",
            "Epoch 86/100\n",
            "3/3 [==============================] - 2s 596ms/step - loss: 1.2080 - accuracy: 0.4681 - val_loss: 2.0592 - val_accuracy: 0.4167\n",
            "Epoch 87/100\n",
            "3/3 [==============================] - 2s 560ms/step - loss: 1.1320 - accuracy: 0.5638 - val_loss: 1.9915 - val_accuracy: 0.4167\n",
            "Epoch 88/100\n",
            "3/3 [==============================] - 2s 844ms/step - loss: 1.1585 - accuracy: 0.4362 - val_loss: 1.9841 - val_accuracy: 0.3750\n",
            "Epoch 89/100\n",
            "3/3 [==============================] - 3s 791ms/step - loss: 1.0634 - accuracy: 0.5426 - val_loss: 1.8292 - val_accuracy: 0.3333\n",
            "Epoch 90/100\n",
            "3/3 [==============================] - 2s 570ms/step - loss: 1.0453 - accuracy: 0.5106 - val_loss: 1.8019 - val_accuracy: 0.5000\n",
            "Epoch 91/100\n",
            "3/3 [==============================] - 2s 598ms/step - loss: 1.0839 - accuracy: 0.5000 - val_loss: 1.8354 - val_accuracy: 0.4167\n",
            "Epoch 92/100\n",
            "3/3 [==============================] - 2s 568ms/step - loss: 1.0252 - accuracy: 0.5106 - val_loss: 1.8119 - val_accuracy: 0.5833\n",
            "Epoch 93/100\n",
            "3/3 [==============================] - 2s 594ms/step - loss: 0.9743 - accuracy: 0.5851 - val_loss: 2.1600 - val_accuracy: 0.4167\n",
            "Epoch 94/100\n",
            "3/3 [==============================] - 2s 592ms/step - loss: 0.9199 - accuracy: 0.5213 - val_loss: 2.0442 - val_accuracy: 0.5833\n",
            "Epoch 95/100\n",
            "3/3 [==============================] - 2s 880ms/step - loss: 1.0273 - accuracy: 0.5213 - val_loss: 2.1217 - val_accuracy: 0.4167\n",
            "Epoch 96/100\n",
            "3/3 [==============================] - 2s 703ms/step - loss: 0.9620 - accuracy: 0.6170 - val_loss: 2.0222 - val_accuracy: 0.5000\n",
            "Epoch 97/100\n",
            "3/3 [==============================] - 2s 572ms/step - loss: 0.9826 - accuracy: 0.5319 - val_loss: 2.3356 - val_accuracy: 0.3333\n",
            "Epoch 98/100\n",
            "3/3 [==============================] - 2s 572ms/step - loss: 1.0328 - accuracy: 0.5851 - val_loss: 2.1486 - val_accuracy: 0.4583\n",
            "Epoch 99/100\n",
            "3/3 [==============================] - 2s 596ms/step - loss: 0.9293 - accuracy: 0.5319 - val_loss: 2.0175 - val_accuracy: 0.4583\n",
            "Epoch 100/100\n",
            "3/3 [==============================] - 2s 571ms/step - loss: 0.9086 - accuracy: 0.6277 - val_loss: 2.0630 - val_accuracy: 0.5833\n"
          ]
        }
      ],
      "source": [
        "model_2.compile(loss=\"categorical_crossentropy\", optimizer=\"adam\", metrics=[\"accuracy\"])\n",
        "history_2 = model_2.fit(padded_train_sequences, y_train_2, epochs=100, validation_data=(padded_test_sequences, y_test_2))"
      ]
    },
    {
      "cell_type": "code",
      "execution_count": null,
      "metadata": {
        "colab": {
          "base_uri": "https://localhost:8080/",
          "height": 407
        },
        "id": "tMf6EuUfbuuo",
        "outputId": "816d3a13-79a6-4ecf-e94c-0fc469bc8b27"
      },
      "outputs": [
        {
          "data": {
            "image/png": "[encoded data removed]",
            "text/plain": [
              "<Figure size 1200x400 with 2 Axes>"
            ]
          },
          "metadata": {},
          "output_type": "display_data"
        }
      ],
      "source": [
        "import matplotlib.pyplot as plt\n",
        "\n",
        "# Plot the accuracy subplot\n",
        "plt.figure(figsize=(12,4))\n",
        "plt.subplot(1, 2, 1)\n",
        "plt.plot(history_2.history['accuracy'], label='Train')\n",
        "plt.plot(history_2.history['val_accuracy'], label='Validation')\n",
        "plt.title('Model Accuracy')\n",
        "plt.ylabel('Accuracy')\n",
        "plt.xlabel('Epoch')\n",
        "plt.legend(loc='lower right')\n",
        "\n",
        "# Plot the loss subplot\n",
        "plt.subplot(1, 2, 2)\n",
        "plt.plot(history_2.history['loss'], label='Train')\n",
        "plt.plot(history_2.history['val_loss'], label='Validation')\n",
        "plt.title('Model Loss')\n",
        "plt.ylabel('Loss')\n",
        "plt.xlabel('Epoch')\n",
        "plt.legend(loc='upper right')\n",
        "\n",
        "# Adjust the space between subplots\n",
        "plt.tight_layout()\n",
        "\n",
        "# Show the plots\n",
        "plt.show()"
      ]
    },
    {
      "cell_type": "markdown",
      "metadata": {
        "id": "iMxW_G3qA6Fp"
      },
      "source": [
        "The performance of model is not good: accuracy on  both  train  set  and validation  set  fluctuates throughout 100 epochs. Furthermore, the loss on validation  set  starts  increasing  at  epoch  80, showing the sign of overfiting. This means this model with above architecture can not be continously trained."
      ]
    },
    {
      "cell_type": "markdown",
      "metadata": {
        "id": "zRcup3bAUG-m"
      },
      "source": [
        "### Transfer learning with BERT model\n",
        "\n",
        "Due  to  above  obstacles,  I decide  to  use  a pretrained model and add to it with more layers with a hope that the large-scale pretrained BERT from Tensorflow can solve our problems.\n",
        "\n",
        "The input for BERT is texts, so we do not need to rerun the preprocessing text.\n",
        "\n",
        "If the you can not import tensorflow_hub and tensorflow_text even after run pip install. Try these two lines with specific versions to avoid conflict.\n",
        "\n",
        "\n",
        "\n",
        "```\n",
        "!pip install tensorflow-hub==0.12.0\n",
        "!pip install -U tensorflow-text==2.12.1\n",
        "```\n",
        "\n"
      ]
    },
    {
      "cell_type": "code",
      "execution_count": null,
      "metadata": {
        "id": "4PYPkR89ULDU"
      },
      "outputs": [],
      "source": [
        "!pip install tensorflow-hub"
      ]
    },
    {
      "cell_type": "code",
      "execution_count": null,
      "metadata": {
        "colab": {
          "base_uri": "https://localhost:8080/"
        },
        "id": "9Uv7Q4Ts63WU",
        "outputId": "2683b795-069d-4aba-fd50-b8865f106be8"
      },
      "outputs": [
        {
          "name": "stdout",
          "output_type": "stream",
          "text": [
            "Requirement already satisfied: tensorflow_text in /usr/local/lib/python3.10/dist-packages (2.13.0)\n",
            "Requirement already satisfied: tensorflow-hub>=0.8.0 in /usr/local/lib/python3.10/dist-packages (from tensorflow_text) (0.14.0)\n",
            "Requirement already satisfied: tensorflow<2.14,>=2.13.0 in /usr/local/lib/python3.10/dist-packages (from tensorflow_text) (2.13.0)\n",
            "Requirement already satisfied: absl-py>=1.0.0 in /usr/local/lib/python3.10/dist-packages (from tensorflow<2.14,>=2.13.0->tensorflow_text) (1.4.0)\n",
            "Requirement already satisfied: astunparse>=1.6.0 in /usr/local/lib/python3.10/dist-packages (from tensorflow<2.14,>=2.13.0->tensorflow_text) (1.6.3)\n",
            "Requirement already satisfied: flatbuffers>=23.1.21 in /usr/local/lib/python3.10/dist-packages (from tensorflow<2.14,>=2.13.0->tensorflow_text) (23.5.26)\n",
            "Requirement already satisfied: gast<=0.4.0,>=0.2.1 in /usr/local/lib/python3.10/dist-packages (from tensorflow<2.14,>=2.13.0->tensorflow_text) (0.4.0)\n",
            "Requirement already satisfied: google-pasta>=0.1.1 in /usr/local/lib/python3.10/dist-packages (from tensorflow<2.14,>=2.13.0->tensorflow_text) (0.2.0)\n",
            "Requirement already satisfied: grpcio<2.0,>=1.24.3 in /usr/local/lib/python3.10/dist-packages (from tensorflow<2.14,>=2.13.0->tensorflow_text) (1.56.0)\n",
            "Requirement already satisfied: h5py>=2.9.0 in /usr/local/lib/python3.10/dist-packages (from tensorflow<2.14,>=2.13.0->tensorflow_text) (3.8.0)\n",
            "Requirement already satisfied: keras<2.14,>=2.13.1 in /usr/local/lib/python3.10/dist-packages (from tensorflow<2.14,>=2.13.0->tensorflow_text) (2.13.1)\n",
            "Requirement already satisfied: libclang>=13.0.0 in /usr/local/lib/python3.10/dist-packages (from tensorflow<2.14,>=2.13.0->tensorflow_text) (16.0.6)\n",
            "Requirement already satisfied: numpy<=1.24.3,>=1.22 in /usr/local/lib/python3.10/dist-packages (from tensorflow<2.14,>=2.13.0->tensorflow_text) (1.22.4)\n",
            "Requirement already satisfied: opt-einsum>=2.3.2 in /usr/local/lib/python3.10/dist-packages (from tensorflow<2.14,>=2.13.0->tensorflow_text) (3.3.0)\n",
            "Requirement already satisfied: packaging in /usr/local/lib/python3.10/dist-packages (from tensorflow<2.14,>=2.13.0->tensorflow_text) (23.1)\n",
            "Requirement already satisfied: protobuf!=4.21.0,!=4.21.1,!=4.21.2,!=4.21.3,!=4.21.4,!=4.21.5,<5.0.0dev,>=3.20.3 in /usr/local/lib/python3.10/dist-packages (from tensorflow<2.14,>=2.13.0->tensorflow_text) (3.20.3)\n",
            "Requirement already satisfied: setuptools in /usr/local/lib/python3.10/dist-packages (from tensorflow<2.14,>=2.13.0->tensorflow_text) (67.7.2)\n",
            "Requirement already satisfied: six>=1.12.0 in /usr/local/lib/python3.10/dist-packages (from tensorflow<2.14,>=2.13.0->tensorflow_text) (1.16.0)\n",
            "Requirement already satisfied: tensorboard<2.14,>=2.13 in /usr/local/lib/python3.10/dist-packages (from tensorflow<2.14,>=2.13.0->tensorflow_text) (2.13.0)\n",
            "Requirement already satisfied: tensorflow-estimator<2.14,>=2.13.0 in /usr/local/lib/python3.10/dist-packages (from tensorflow<2.14,>=2.13.0->tensorflow_text) (2.13.0)\n",
            "Requirement already satisfied: termcolor>=1.1.0 in /usr/local/lib/python3.10/dist-packages (from tensorflow<2.14,>=2.13.0->tensorflow_text) (2.3.0)\n",
            "Requirement already satisfied: typing-extensions<4.6.0,>=3.6.6 in /usr/local/lib/python3.10/dist-packages (from tensorflow<2.14,>=2.13.0->tensorflow_text) (4.5.0)\n",
            "Requirement already satisfied: wrapt>=1.11.0 in /usr/local/lib/python3.10/dist-packages (from tensorflow<2.14,>=2.13.0->tensorflow_text) (1.14.1)\n",
            "Requirement already satisfied: tensorflow-io-gcs-filesystem>=0.23.1 in /usr/local/lib/python3.10/dist-packages (from tensorflow<2.14,>=2.13.0->tensorflow_text) (0.32.0)\n",
            "Requirement already satisfied: wheel<1.0,>=0.23.0 in /usr/local/lib/python3.10/dist-packages (from astunparse>=1.6.0->tensorflow<2.14,>=2.13.0->tensorflow_text) (0.40.0)\n",
            "Requirement already satisfied: google-auth<3,>=1.6.3 in /usr/local/lib/python3.10/dist-packages (from tensorboard<2.14,>=2.13->tensorflow<2.14,>=2.13.0->tensorflow_text) (2.17.3)\n",
            "Requirement already satisfied: google-auth-oauthlib<1.1,>=0.5 in /usr/local/lib/python3.10/dist-packages (from tensorboard<2.14,>=2.13->tensorflow<2.14,>=2.13.0->tensorflow_text) (1.0.0)\n",
            "Requirement already satisfied: markdown>=2.6.8 in /usr/local/lib/python3.10/dist-packages (from tensorboard<2.14,>=2.13->tensorflow<2.14,>=2.13.0->tensorflow_text) (3.4.3)\n",
            "Requirement already satisfied: requests<3,>=2.21.0 in /usr/local/lib/python3.10/dist-packages (from tensorboard<2.14,>=2.13->tensorflow<2.14,>=2.13.0->tensorflow_text) (2.27.1)\n",
            "Requirement already satisfied: tensorboard-data-server<0.8.0,>=0.7.0 in /usr/local/lib/python3.10/dist-packages (from tensorboard<2.14,>=2.13->tensorflow<2.14,>=2.13.0->tensorflow_text) (0.7.1)\n",
            "Requirement already satisfied: werkzeug>=1.0.1 in /usr/local/lib/python3.10/dist-packages (from tensorboard<2.14,>=2.13->tensorflow<2.14,>=2.13.0->tensorflow_text) (2.3.6)\n",
            "Requirement already satisfied: cachetools<6.0,>=2.0.0 in /usr/local/lib/python3.10/dist-packages (from google-auth<3,>=1.6.3->tensorboard<2.14,>=2.13->tensorflow<2.14,>=2.13.0->tensorflow_text) (5.3.1)\n",
            "Requirement already satisfied: pyasn1-modules>=0.2.1 in /usr/local/lib/python3.10/dist-packages (from google-auth<3,>=1.6.3->tensorboard<2.14,>=2.13->tensorflow<2.14,>=2.13.0->tensorflow_text) (0.3.0)\n",
            "Requirement already satisfied: rsa<5,>=3.1.4 in /usr/local/lib/python3.10/dist-packages (from google-auth<3,>=1.6.3->tensorboard<2.14,>=2.13->tensorflow<2.14,>=2.13.0->tensorflow_text) (4.9)\n",
            "Requirement already satisfied: requests-oauthlib>=0.7.0 in /usr/local/lib/python3.10/dist-packages (from google-auth-oauthlib<1.1,>=0.5->tensorboard<2.14,>=2.13->tensorflow<2.14,>=2.13.0->tensorflow_text) (1.3.1)\n",
            "Requirement already satisfied: urllib3<1.27,>=1.21.1 in /usr/local/lib/python3.10/dist-packages (from requests<3,>=2.21.0->tensorboard<2.14,>=2.13->tensorflow<2.14,>=2.13.0->tensorflow_text) (1.26.16)\n",
            "Requirement already satisfied: certifi>=2017.4.17 in /usr/local/lib/python3.10/dist-packages (from requests<3,>=2.21.0->tensorboard<2.14,>=2.13->tensorflow<2.14,>=2.13.0->tensorflow_text) (2023.5.7)\n",
            "Requirement already satisfied: charset-normalizer~=2.0.0 in /usr/local/lib/python3.10/dist-packages (from requests<3,>=2.21.0->tensorboard<2.14,>=2.13->tensorflow<2.14,>=2.13.0->tensorflow_text) (2.0.12)\n",
            "Requirement already satisfied: idna<4,>=2.5 in /usr/local/lib/python3.10/dist-packages (from requests<3,>=2.21.0->tensorboard<2.14,>=2.13->tensorflow<2.14,>=2.13.0->tensorflow_text) (3.4)\n",
            "Requirement already satisfied: MarkupSafe>=2.1.1 in /usr/local/lib/python3.10/dist-packages (from werkzeug>=1.0.1->tensorboard<2.14,>=2.13->tensorflow<2.14,>=2.13.0->tensorflow_text) (2.1.3)\n",
            "Requirement already satisfied: pyasn1<0.6.0,>=0.4.6 in /usr/local/lib/python3.10/dist-packages (from pyasn1-modules>=0.2.1->google-auth<3,>=1.6.3->tensorboard<2.14,>=2.13->tensorflow<2.14,>=2.13.0->tensorflow_text) (0.5.0)\n",
            "Requirement already satisfied: oauthlib>=3.0.0 in /usr/local/lib/python3.10/dist-packages (from requests-oauthlib>=0.7.0->google-auth-oauthlib<1.1,>=0.5->tensorboard<2.14,>=2.13->tensorflow<2.14,>=2.13.0->tensorflow_text) (3.2.2)\n"
          ]
        }
      ],
      "source": [
        "!pip install tensorflow_text"
      ]
    },
    {
      "cell_type": "code",
      "execution_count": null,
      "metadata": {
        "colab": {
          "base_uri": "https://localhost:8080/"
        },
        "id": "diwx-OYSw5Im",
        "outputId": "bac28be4-2dbf-4cc0-d600-6544a8faa7ce"
      },
      "outputs": [
        {
          "name": "stdout",
          "output_type": "stream",
          "text": [
            "Model: \"model_2\"\n",
            "__________________________________________________________________________________________________\n",
            " Layer (type)                Output Shape                 Param #   Connected to                  \n",
            "==================================================================================================\n",
            " text (InputLayer)           [(None,)]                    0         []                            \n",
            "                                                                                                  \n",
            " preprocessing (KerasLayer)  {'input_word_ids': (None,    0         ['text[0][0]']                \n",
            "                             128),                                                                \n",
            "                              'input_mask': (None, 128)                                           \n",
            "                             , 'input_type_ids': (None,                                           \n",
            "                              128)}                                                               \n",
            "                                                                                                  \n",
            " BERT_encoder (KerasLayer)   {'default': (None, 512),     4137318   ['preprocessing[0][0]',       \n",
            "                              'encoder_outputs': [(None   5          'preprocessing[0][1]',       \n",
            "                             , 128, 512),                            'preprocessing[0][2]']       \n",
            "                              (None, 128, 512),                                                   \n",
            "                              (None, 128, 512),                                                   \n",
            "                              (None, 128, 512),                                                   \n",
            "                              (None, 128, 512),                                                   \n",
            "                              (None, 128, 512),                                                   \n",
            "                              (None, 128, 512),                                                   \n",
            "                              (None, 128, 512)],                                                  \n",
            "                              'sequence_output': (None,                                           \n",
            "                              128, 512),                                                          \n",
            "                              'pooled_output': (None, 5                                           \n",
            "                             12)}                                                                 \n",
            "                                                                                                  \n",
            " dense_16 (Dense)            (None, 400)                  205200    ['BERT_encoder[0][9]']        \n",
            "                                                                                                  \n",
            " dropout_13 (Dropout)        (None, 400)                  0         ['dense_16[0][0]']            \n",
            "                                                                                                  \n",
            " dense_17 (Dense)            (None, 200)                  80200     ['dropout_13[0][0]']          \n",
            "                                                                                                  \n",
            " dropout_14 (Dropout)        (None, 200)                  0         ['dense_17[0][0]']            \n",
            "                                                                                                  \n",
            " dense_18 (Dense)            (None, 100)                  20100     ['dropout_14[0][0]']          \n",
            "                                                                                                  \n",
            " dropout_15 (Dropout)        (None, 100)                  0         ['dense_18[0][0]']            \n",
            "                                                                                                  \n",
            " dense_19 (Dense)            (None, 50)                   5050      ['dropout_15[0][0]']          \n",
            "                                                                                                  \n",
            " dropout_16 (Dropout)        (None, 50)                   0         ['dense_19[0][0]']            \n",
            "                                                                                                  \n",
            " dense_20 (Dense)            (None, 30)                   1530      ['dropout_16[0][0]']          \n",
            "                                                                                                  \n",
            " dropout_17 (Dropout)        (None, 30)                   0         ['dense_20[0][0]']            \n",
            "                                                                                                  \n",
            " classifier (Dense)          (None, 12)                   372       ['dropout_17[0][0]']          \n",
            "                                                                                                  \n",
            "==================================================================================================\n",
            "Total params: 41685637 (159.02 MB)\n",
            "Trainable params: 312452 (1.19 MB)\n",
            "Non-trainable params: 41373185 (157.83 MB)\n",
            "__________________________________________________________________________________________________\n"
          ]
        }
      ],
      "source": [
        "import tensorflow_text as text\n",
        "import tensorflow_hub as hub\n",
        "\n",
        "def build_classifier_model():\n",
        "  text_input = tf.keras.layers.Input(shape=(), dtype=tf.string, name='text')\n",
        "  preprocessing_layer = hub.KerasLayer('https://tfhub.dev/tensorflow/bert_en_uncased_preprocess/3', name='preprocessing')\n",
        "  encoder_inputs = preprocessing_layer(text_input)\n",
        "  encoder = hub.KerasLayer('https://tfhub.dev/tensorflow/small_bert/bert_en_uncased_L-8_H-512_A-8/2', trainable=False, name='BERT_encoder')\n",
        "  outputs = encoder(encoder_inputs)\n",
        "\n",
        "  net = outputs['pooled_output']\n",
        "  net = tf.keras.layers.Dense(400, activation='relu')(net)\n",
        "  net = tf.keras.layers.Dropout(0.1)(net)\n",
        "  net = tf.keras.layers.Dense(200, activation='relu')(net)\n",
        "  net = tf.keras.layers.Dropout(0.1)(net)\n",
        "  net = tf.keras.layers.Dense(100, activation='relu')(net)\n",
        "  net = tf.keras.layers.Dropout(0,1)(net)\n",
        "  net = tf.keras.layers.Dense(50, activation='relu')(net)\n",
        "  net = tf.keras.layers.Dropout(0,1)(net)\n",
        "  net = tf.keras.layers.Dense(30, activation='relu')(net)\n",
        "  net = tf.keras.layers.Dropout(0,1)(net)\n",
        "  net = tf.keras.layers.Dense(12, activation='softmax', name='classifier')(net)\n",
        "  return tf.keras.Model(inputs=text_input, outputs=net)\n",
        "\n",
        "classifier_model = build_classifier_model()\n",
        "classifier_model.summary()"
      ]
    },
    {
      "cell_type": "code",
      "execution_count": null,
      "metadata": {
        "colab": {
          "base_uri": "https://localhost:8080/"
        },
        "id": "CJd2w0sC7_w_",
        "outputId": "f6a8fb48-d6a0-4e8f-b7a1-b1dd6e40f9f3"
      },
      "outputs": [
        {
          "data": {
            "text/plain": [
              "((94, 12), (24, 12))"
            ]
          },
          "execution_count": 44,
          "metadata": {},
          "output_type": "execute_result"
        }
      ],
      "source": [
        "y_train = to_categorical(y_train)\n",
        "y_test = to_categorical(y_test)\n",
        "y_train.shape, y_test.shape"
      ]
    },
    {
      "cell_type": "code",
      "execution_count": null,
      "metadata": {
        "colab": {
          "base_uri": "https://localhost:8080/"
        },
        "id": "Kw_d3c-m8JER",
        "outputId": "efe0330b-221b-4cc1-f538-5dbf0db27a10"
      },
      "outputs": [
        {
          "name": "stdout",
          "output_type": "stream",
          "text": [
            "Epoch 1/40\n",
            "3/3 [==============================] - 30s 7s/step - loss: 2.4733 - accuracy: 0.1277 - val_loss: 2.4038 - val_accuracy: 0.2500\n",
            "Epoch 2/40\n",
            "3/3 [==============================] - 20s 8s/step - loss: 2.4213 - accuracy: 0.1702 - val_loss: 2.3562 - val_accuracy: 0.2500\n",
            "Epoch 3/40\n",
            "3/3 [==============================] - 20s 7s/step - loss: 2.3395 - accuracy: 0.2021 - val_loss: 2.2807 - val_accuracy: 0.2083\n",
            "Epoch 4/40\n",
            "3/3 [==============================] - 19s 7s/step - loss: 2.2741 - accuracy: 0.2447 - val_loss: 2.2373 - val_accuracy: 0.3750\n",
            "Epoch 5/40\n",
            "3/3 [==============================] - 19s 7s/step - loss: 2.1457 - accuracy: 0.3830 - val_loss: 2.1001 - val_accuracy: 0.2917\n",
            "Epoch 6/40\n",
            "3/3 [==============================] - 18s 7s/step - loss: 2.0668 - accuracy: 0.3511 - val_loss: 2.0202 - val_accuracy: 0.2917\n",
            "Epoch 7/40\n",
            "3/3 [==============================] - 20s 8s/step - loss: 1.9425 - accuracy: 0.4043 - val_loss: 1.9435 - val_accuracy: 0.3333\n",
            "Epoch 8/40\n",
            "3/3 [==============================] - 20s 8s/step - loss: 1.7949 - accuracy: 0.4362 - val_loss: 1.8068 - val_accuracy: 0.4167\n",
            "Epoch 9/40\n",
            "3/3 [==============================] - 19s 6s/step - loss: 1.6461 - accuracy: 0.5319 - val_loss: 1.6893 - val_accuracy: 0.5000\n",
            "Epoch 10/40\n",
            "3/3 [==============================] - 19s 7s/step - loss: 1.5701 - accuracy: 0.5000 - val_loss: 1.5706 - val_accuracy: 0.4583\n",
            "Epoch 11/40\n",
            "3/3 [==============================] - 19s 7s/step - loss: 1.4661 - accuracy: 0.5532 - val_loss: 1.4696 - val_accuracy: 0.5833\n",
            "Epoch 12/40\n",
            "3/3 [==============================] - 19s 8s/step - loss: 1.2973 - accuracy: 0.6170 - val_loss: 1.3948 - val_accuracy: 0.5833\n",
            "Epoch 13/40\n",
            "3/3 [==============================] - 18s 7s/step - loss: 1.2521 - accuracy: 0.6383 - val_loss: 1.2838 - val_accuracy: 0.6667\n",
            "Epoch 14/40\n",
            "3/3 [==============================] - 20s 8s/step - loss: 1.1461 - accuracy: 0.6064 - val_loss: 1.1557 - val_accuracy: 0.6667\n",
            "Epoch 15/40\n",
            "3/3 [==============================] - 20s 7s/step - loss: 1.0042 - accuracy: 0.6702 - val_loss: 1.0847 - val_accuracy: 0.6667\n",
            "Epoch 16/40\n",
            "3/3 [==============================] - 19s 7s/step - loss: 0.8897 - accuracy: 0.7553 - val_loss: 0.9976 - val_accuracy: 0.6667\n",
            "Epoch 17/40\n",
            "3/3 [==============================] - 19s 7s/step - loss: 0.8379 - accuracy: 0.7234 - val_loss: 0.9291 - val_accuracy: 0.7500\n",
            "Epoch 18/40\n",
            "3/3 [==============================] - 20s 8s/step - loss: 0.6674 - accuracy: 0.8191 - val_loss: 0.8651 - val_accuracy: 0.7083\n",
            "Epoch 19/40\n",
            "3/3 [==============================] - 20s 8s/step - loss: 0.6468 - accuracy: 0.8511 - val_loss: 0.7341 - val_accuracy: 0.8333\n",
            "Epoch 20/40\n",
            "3/3 [==============================] - 20s 7s/step - loss: 0.5744 - accuracy: 0.7979 - val_loss: 0.6919 - val_accuracy: 0.7500\n",
            "Epoch 21/40\n",
            "3/3 [==============================] - 19s 7s/step - loss: 0.5196 - accuracy: 0.8511 - val_loss: 0.6714 - val_accuracy: 0.7500\n",
            "Epoch 22/40\n",
            "3/3 [==============================] - 19s 7s/step - loss: 0.4301 - accuracy: 0.8830 - val_loss: 0.5727 - val_accuracy: 0.7917\n",
            "Epoch 23/40\n",
            "3/3 [==============================] - 20s 8s/step - loss: 0.3485 - accuracy: 0.9362 - val_loss: 0.5589 - val_accuracy: 0.8750\n",
            "Epoch 24/40\n",
            "3/3 [==============================] - 20s 8s/step - loss: 0.3355 - accuracy: 0.8830 - val_loss: 0.5297 - val_accuracy: 0.8750\n",
            "Epoch 25/40\n",
            "3/3 [==============================] - 20s 7s/step - loss: 0.2733 - accuracy: 0.9362 - val_loss: 0.5416 - val_accuracy: 0.8333\n",
            "Epoch 26/40\n",
            "3/3 [==============================] - 19s 7s/step - loss: 0.3355 - accuracy: 0.8936 - val_loss: 0.5242 - val_accuracy: 0.8750\n",
            "Epoch 27/40\n",
            "3/3 [==============================] - 18s 7s/step - loss: 0.2252 - accuracy: 0.9468 - val_loss: 0.5295 - val_accuracy: 0.7917\n",
            "Epoch 28/40\n",
            "3/3 [==============================] - 18s 7s/step - loss: 0.2085 - accuracy: 0.9574 - val_loss: 0.4470 - val_accuracy: 0.8750\n",
            "Epoch 29/40\n",
            "3/3 [==============================] - 20s 8s/step - loss: 0.2032 - accuracy: 0.9468 - val_loss: 0.4867 - val_accuracy: 0.7917\n",
            "Epoch 30/40\n",
            "3/3 [==============================] - 20s 8s/step - loss: 0.2126 - accuracy: 0.9574 - val_loss: 0.4317 - val_accuracy: 0.8750\n",
            "Epoch 31/40\n",
            "3/3 [==============================] - 20s 7s/step - loss: 0.1908 - accuracy: 0.9574 - val_loss: 0.3455 - val_accuracy: 0.8750\n",
            "Epoch 32/40\n",
            "3/3 [==============================] - 19s 7s/step - loss: 0.1784 - accuracy: 0.9362 - val_loss: 0.4353 - val_accuracy: 0.8333\n",
            "Epoch 33/40\n",
            "3/3 [==============================] - 19s 7s/step - loss: 0.1570 - accuracy: 0.9787 - val_loss: 0.4816 - val_accuracy: 0.7917\n",
            "Epoch 34/40\n",
            "3/3 [==============================] - 20s 8s/step - loss: 0.1015 - accuracy: 1.0000 - val_loss: 0.5613 - val_accuracy: 0.7500\n",
            "Epoch 35/40\n",
            "3/3 [==============================] - 18s 6s/step - loss: 0.1439 - accuracy: 0.9681 - val_loss: 0.3882 - val_accuracy: 0.8750\n",
            "Epoch 36/40\n",
            "3/3 [==============================] - 20s 7s/step - loss: 0.1356 - accuracy: 0.9787 - val_loss: 0.4348 - val_accuracy: 0.8750\n",
            "Epoch 37/40\n",
            "3/3 [==============================] - 24s 9s/step - loss: 0.0856 - accuracy: 0.9894 - val_loss: 0.3914 - val_accuracy: 0.8333\n",
            "Epoch 38/40\n",
            "3/3 [==============================] - 20s 8s/step - loss: 0.1336 - accuracy: 0.9681 - val_loss: 0.4715 - val_accuracy: 0.8333\n",
            "Epoch 39/40\n",
            "3/3 [==============================] - 20s 7s/step - loss: 0.0912 - accuracy: 0.9787 - val_loss: 0.4241 - val_accuracy: 0.9167\n",
            "Epoch 40/40\n",
            "3/3 [==============================] - 19s 7s/step - loss: 0.0897 - accuracy: 0.9894 - val_loss: 0.3791 - val_accuracy: 0.9167\n"
          ]
        }
      ],
      "source": [
        "classifier_model.compile(loss=\"categorical_crossentropy\", optimizer=\"adam\", metrics=[\"accuracy\"])\n",
        "history_3 = classifier_model.fit(x_train, y_train, epochs=40, validation_data=(x_test, y_test))"
      ]
    },
    {
      "cell_type": "code",
      "execution_count": null,
      "metadata": {
        "colab": {
          "base_uri": "https://localhost:8080/",
          "height": 407
        },
        "id": "uuOMcKhXCGv2",
        "outputId": "b7f95604-e67a-428b-9676-61dd9a3e6248"
      },
      "outputs": [
        {
          "data": {
            "image/png": "[encoded data removed]",
            "text/plain": [
              "<Figure size 1200x400 with 2 Axes>"
            ]
          },
          "metadata": {},
          "output_type": "display_data"
        }
      ],
      "source": [
        "import matplotlib.pyplot as plt\n",
        "\n",
        "# Plot the accuracy subplot\n",
        "plt.figure(figsize=(12,4))\n",
        "plt.subplot(1, 2, 1)\n",
        "plt.plot(history_3.history['accuracy'], label='Train')\n",
        "plt.plot(history_3.history['val_accuracy'], label='Validation')\n",
        "plt.title('Model Accuracy')\n",
        "plt.ylabel('Accuracy')\n",
        "plt.xlabel('Epoch')\n",
        "plt.legend(loc='lower right')\n",
        "\n",
        "# Plot the loss subplot\n",
        "plt.subplot(1, 2, 2)\n",
        "plt.plot(history_3.history['loss'], label='Train')\n",
        "plt.plot(history_3.history['val_loss'], label='Validation')\n",
        "plt.title('Model Loss')\n",
        "plt.ylabel('Loss')\n",
        "plt.xlabel('Epoch')\n",
        "plt.legend(loc='upper right')\n",
        "\n",
        "# Adjust the space between subplots\n",
        "plt.tight_layout()\n",
        "\n",
        "# Show the plots\n",
        "plt.show()"
      ]
    },
    {
      "cell_type": "markdown",
      "metadata": {
        "id": "TlFCkZqAB4qt"
      },
      "source": [
        "We stop early at epoch 40 when validation loss\n",
        "stops declining to prevent overfitting. However,\n",
        "at epoch 40, the accuracy on train and validation\n",
        "set is over 90%, which is really good."
      ]
    },
    {
      "cell_type": "code",
      "execution_count": 36,
      "metadata": {
        "id": "Ih9tdnbi5Phu"
      },
      "outputs": [],
      "source": [
        "classifier_model.save('BERT_model_12_classes_v1.1.h5')\n",
        "classifier_model.save_weights('BERT_model_12_classes_weights_v1.1')"
      ]
    },
    {
      "cell_type": "markdown",
      "metadata": {
        "id": "Y5i1eAJxCFv3"
      },
      "source": [
        "#### Inference"
      ]
    },
    {
      "cell_type": "code",
      "execution_count": null,
      "metadata": {
        "colab": {
          "base_uri": "https://localhost:8080/"
        },
        "id": "i4OhbLqnCd3m",
        "outputId": "fcb658c0-e2c5-4bd2-fb41-f2c4f703852d"
      },
      "outputs": [
        {
          "data": {
            "text/plain": [
              "[\"1 I'm so despondent right now. I got bullied by some classmates, even though I was nice and friendly. They spread rumors and made fun of me. They hurt my feelings and my reputation. I felt humiliated and sad. I miss the respect and the friendship I had. I think I’m kind and good. I want to stand up for myself and find true friends.\",\n",
              " \"0 I'm so enraged and frustrated right now. My dad and I got into a disagreement about my grades. They don't understand how difficult my studies are or how much strain I am under. They don't care about me; they only care about the stats. They make me feel inferior by making comparisons to other youngsters. They shout at me and chastise me for falling short of their standards. I'm not respected or encouraged by them. So upsetting\",\n",
              " '10 Dear diary, today I faced a difficult challenge in my math class. I was nervous and unsure of myself, but I decided to give it my best shot. I worked hard and solved the problem. I felt a sense of accomplishment and confidence. I realized that I can overcome any obstacle with a positive attitude and perseverance',\n",
              " \"5 After school, I went home and locked myself in my room. I didn't want to talk to anyone, not even my parents or my friends. They wouldn't understand anyway. They would just tell me to cheer up, to snap out of it, to get over it. They don't know how hard it is to fight this darkness inside me.\",\n",
              " \"4 I sometimes feel so miserable inside that I want to terminate my life. Suicidal thoughts intensify and multiply in frequency. I think my self-loathing is one of the causes of my melancholy, even though I've only attempted it a few of times.\"]"
            ]
          },
          "execution_count": 144,
          "metadata": {},
          "output_type": "execute_result"
        }
      ],
      "source": [
        "infer_text = [\n",
        "    \"1 I'm so despondent right now. I got bullied by some classmates, even though I was nice and friendly. They spread rumors and made fun of me. They hurt my feelings and my reputation. I felt humiliated and sad. I miss the respect and the friendship I had. I think I’m kind and good. I want to stand up for myself and find true friends.\",\n",
        "    \"0 I'm so enraged and frustrated right now. My dad and I got into a disagreement about my grades. They don't understand how difficult my studies are or how much strain I am under. They don't care about me; they only care about the stats. They make me feel inferior by making comparisons to other youngsters. They shout at me and chastise me for falling short of their standards. I'm not respected or encouraged by them. So upsetting\",\n",
        "    \"10 Dear diary, today I faced a difficult challenge in my math class. I was nervous and unsure of myself, but I decided to give it my best shot. I worked hard and solved the problem. I felt a sense of accomplishment and confidence. I realized that I can overcome any obstacle with a positive attitude and perseverance\",\n",
        "    \"5 After school, I went home and locked myself in my room. I didn't want to talk to anyone, not even my parents or my friends. They wouldn't understand anyway. They would just tell me to cheer up, to snap out of it, to get over it. They don't know how hard it is to fight this darkness inside me.\",\n",
        "    \"4 I sometimes feel so miserable inside that I want to terminate my life. Suicidal thoughts intensify and multiply in frequency. I think my self-loathing is one of the causes of my melancholy, even though I've only attempted it a few of times.\",\n",
        "]\n",
        "\n",
        "infer_text"
      ]
    },
    {
      "cell_type": "code",
      "execution_count": null,
      "metadata": {
        "colab": {
          "base_uri": "https://localhost:8080/",
          "height": 206
        },
        "id": "fl_gwVq2Jg-f",
        "outputId": "1f08c10e-e2aa-452b-8979-f50dbf3c25ea"
      },
      "outputs": [
        {
          "data": {
            "text/html": [
              "\n",
              "\n",
              "  <div id=\"df-c40ced4c-5179-488a-9528-3d095cd1f3e7\">\n",
              "    <div class=\"colab-df-container\">\n",
              "      <div>\n",
              "<style scoped>\n",
              "    .dataframe tbody tr th:only-of-type {\n",
              "        vertical-align: middle;\n",
              "    }\n",
              "\n",
              "    .dataframe tbody tr th {\n",
              "        vertical-align: top;\n",
              "    }\n",
              "\n",
              "    .dataframe thead th {\n",
              "        text-align: right;\n",
              "    }\n",
              "</style>\n",
              "<table border=\"1\" class=\"dataframe\">\n",
              "  <thead>\n",
              "    <tr style=\"text-align: right;\">\n",
              "      <th></th>\n",
              "      <th>text</th>\n",
              "      <th>validation_label</th>\n",
              "    </tr>\n",
              "  </thead>\n",
              "  <tbody>\n",
              "    <tr>\n",
              "      <th>0</th>\n",
              "      <td>I'm so despondent right now. I got bullied by ...</td>\n",
              "      <td>1</td>\n",
              "    </tr>\n",
              "    <tr>\n",
              "      <th>1</th>\n",
              "      <td>I'm so enraged and frustrated right now. My da...</td>\n",
              "      <td>0</td>\n",
              "    </tr>\n",
              "    <tr>\n",
              "      <th>2</th>\n",
              "      <td>Dear diary, today I faced a difficult challeng...</td>\n",
              "      <td>10</td>\n",
              "    </tr>\n",
              "    <tr>\n",
              "      <th>3</th>\n",
              "      <td>After school, I went home and locked myself in...</td>\n",
              "      <td>5</td>\n",
              "    </tr>\n",
              "    <tr>\n",
              "      <th>4</th>\n",
              "      <td>I sometimes feel so miserable inside that I wa...</td>\n",
              "      <td>4</td>\n",
              "    </tr>\n",
              "  </tbody>\n",
              "</table>\n",
              "</div>\n",
              "      <button class=\"colab-df-convert\" onclick=\"convertToInteractive('df-c40ced4c-5179-488a-9528-3d095cd1f3e7')\"\n",
              "              title=\"Convert this dataframe to an interactive table.\"\n",
              "              style=\"display:none;\">\n",
              "\n",
              "  <svg xmlns=\"http://www.w3.org/2000/svg\" height=\"24px\"viewBox=\"0 0 24 24\"\n",
              "       width=\"24px\">\n",
              "    <path d=\"M0 0h24v24H0V0z\" fill=\"none\"/>\n",
              "    <path d=\"M18.56 5.44l.94 2.06.94-2.06 2.06-.94-2.06-.94-.94-2.06-.94 2.06-2.06.94zm-11 1L8.5 8.5l.94-2.06 2.06-.94-2.06-.94L8.5 2.5l-.94 2.06-2.06.94zm10 10l.94 2.06.94-2.06 2.06-.94-2.06-.94-.94-2.06-.94 2.06-2.06.94z\"/><path d=\"M17.41 7.96l-1.37-1.37c-.4-.4-.92-.59-1.43-.59-.52 0-1.04.2-1.43.59L10.3 9.45l-7.72 7.72c-.78.78-.78 2.05 0 2.83L4 21.41c.39.39.9.59 1.41.59.51 0 1.02-.2 1.41-.59l7.78-7.78 2.81-2.81c.8-.78.8-2.07 0-2.86zM5.41 20L4 18.59l7.72-7.72 1.47 1.35L5.41 20z\"/>\n",
              "  </svg>\n",
              "      </button>\n",
              "\n",
              "\n",
              "\n",
              "    <div id=\"df-a832839d-b77a-4425-b2ec-d0f629f60c06\">\n",
              "      <button class=\"colab-df-quickchart\" onclick=\"quickchart('df-a832839d-b77a-4425-b2ec-d0f629f60c06')\"\n",
              "              title=\"Suggest charts.\"\n",
              "              style=\"display:none;\">\n",
              "\n",
              "<svg xmlns=\"http://www.w3.org/2000/svg\" height=\"24px\"viewBox=\"0 0 24 24\"\n",
              "     width=\"24px\">\n",
              "    <g>\n",
              "        <path d=\"M19 3H5c-1.1 0-2 .9-2 2v14c0 1.1.9 2 2 2h14c1.1 0 2-.9 2-2V5c0-1.1-.9-2-2-2zM9 17H7v-7h2v7zm4 0h-2V7h2v10zm4 0h-2v-4h2v4z\"/>\n",
              "    </g>\n",
              "</svg>\n",
              "      </button>\n",
              "    </div>\n",
              "\n",
              "<style>\n",
              "  .colab-df-quickchart {\n",
              "    background-color: #E8F0FE;\n",
              "    border: none;\n",
              "    border-radius: 50%;\n",
              "    cursor: pointer;\n",
              "    display: none;\n",
              "    fill: #1967D2;\n",
              "    height: 32px;\n",
              "    padding: 0 0 0 0;\n",
              "    width: 32px;\n",
              "  }\n",
              "\n",
              "  .colab-df-quickchart:hover {\n",
              "    background-color: #E2EBFA;\n",
              "    box-shadow: 0px 1px 2px rgba(60, 64, 67, 0.3), 0px 1px 3px 1px rgba(60, 64, 67, 0.15);\n",
              "    fill: #174EA6;\n",
              "  }\n",
              "\n",
              "  [theme=dark] .colab-df-quickchart {\n",
              "    background-color: #3B4455;\n",
              "    fill: #D2E3FC;\n",
              "  }\n",
              "\n",
              "  [theme=dark] .colab-df-quickchart:hover {\n",
              "    background-color: #434B5C;\n",
              "    box-shadow: 0px 1px 3px 1px rgba(0, 0, 0, 0.15);\n",
              "    filter: drop-shadow(0px 1px 2px rgba(0, 0, 0, 0.3));\n",
              "    fill: #FFFFFF;\n",
              "  }\n",
              "</style>\n",
              "\n",
              "    <script>\n",
              "      async function quickchart(key) {\n",
              "        const containerElement = document.querySelector('#' + key);\n",
              "        const charts = await google.colab.kernel.invokeFunction(\n",
              "            'suggestCharts', [key], {});\n",
              "      }\n",
              "    </script>\n",
              "\n",
              "      <script>\n",
              "\n",
              "function displayQuickchartButton(domScope) {\n",
              "  let quickchartButtonEl =\n",
              "    domScope.querySelector('#df-a832839d-b77a-4425-b2ec-d0f629f60c06 button.colab-df-quickchart');\n",
              "  quickchartButtonEl.style.display =\n",
              "    google.colab.kernel.accessAllowed ? 'block' : 'none';\n",
              "}\n",
              "\n",
              "        displayQuickchartButton(document);\n",
              "      </script>\n",
              "      <style>\n",
              "    .colab-df-container {\n",
              "      display:flex;\n",
              "      flex-wrap:wrap;\n",
              "      gap: 12px;\n",
              "    }\n",
              "\n",
              "    .colab-df-convert {\n",
              "      background-color: #E8F0FE;\n",
              "      border: none;\n",
              "      border-radius: 50%;\n",
              "      cursor: pointer;\n",
              "      display: none;\n",
              "      fill: #1967D2;\n",
              "      height: 32px;\n",
              "      padding: 0 0 0 0;\n",
              "      width: 32px;\n",
              "    }\n",
              "\n",
              "    .colab-df-convert:hover {\n",
              "      background-color: #E2EBFA;\n",
              "      box-shadow: 0px 1px 2px rgba(60, 64, 67, 0.3), 0px 1px 3px 1px rgba(60, 64, 67, 0.15);\n",
              "      fill: #174EA6;\n",
              "    }\n",
              "\n",
              "    [theme=dark] .colab-df-convert {\n",
              "      background-color: #3B4455;\n",
              "      fill: #D2E3FC;\n",
              "    }\n",
              "\n",
              "    [theme=dark] .colab-df-convert:hover {\n",
              "      background-color: #434B5C;\n",
              "      box-shadow: 0px 1px 3px 1px rgba(0, 0, 0, 0.15);\n",
              "      filter: drop-shadow(0px 1px 2px rgba(0, 0, 0, 0.3));\n",
              "      fill: #FFFFFF;\n",
              "    }\n",
              "  </style>\n",
              "\n",
              "      <script>\n",
              "        const buttonEl =\n",
              "          document.querySelector('#df-c40ced4c-5179-488a-9528-3d095cd1f3e7 button.colab-df-convert');\n",
              "        buttonEl.style.display =\n",
              "          google.colab.kernel.accessAllowed ? 'block' : 'none';\n",
              "\n",
              "        async function convertToInteractive(key) {\n",
              "          const element = document.querySelector('#df-c40ced4c-5179-488a-9528-3d095cd1f3e7');\n",
              "          const dataTable =\n",
              "            await google.colab.kernel.invokeFunction('convertToInteractive',\n",
              "                                                     [key], {});\n",
              "          if (!dataTable) return;\n",
              "\n",
              "          const docLinkHtml = 'Like what you see? Visit the ' +\n",
              "            '<a target=\"_blank\" href=https://colab.research.google.com/notebooks/data_table.ipynb>data table notebook</a>'\n",
              "            + ' to learn more about interactive tables.';\n",
              "          element.innerHTML = '';\n",
              "          dataTable['output_type'] = 'display_data';\n",
              "          await google.colab.output.renderOutput(dataTable, element);\n",
              "          const docLink = document.createElement('div');\n",
              "          docLink.innerHTML = docLinkHtml;\n",
              "          element.appendChild(docLink);\n",
              "        }\n",
              "      </script>\n",
              "    </div>\n",
              "  </div>\n"
            ],
            "text/plain": [
              "                                                text  validation_label\n",
              "0  I'm so despondent right now. I got bullied by ...                 1\n",
              "1  I'm so enraged and frustrated right now. My da...                 0\n",
              "2  Dear diary, today I faced a difficult challeng...                10\n",
              "3  After school, I went home and locked myself in...                 5\n",
              "4  I sometimes feel so miserable inside that I wa...                 4"
            ]
          },
          "execution_count": 145,
          "metadata": {},
          "output_type": "execute_result"
        }
      ],
      "source": [
        "validation_label = []\n",
        "for text in infer_text:\n",
        "  text = text.split()\n",
        "  validation_label.append(int(text[0]))\n",
        "\n",
        "pattern = re.compile(r\"\\d+\\s\")\n",
        "\n",
        "new_texts = []\n",
        "for text in infer_text:\n",
        "  new_text = pattern.sub(\"\", text)\n",
        "  new_texts.append(new_text)\n",
        "\n",
        "validation_dataset = pd.DataFrame(new_texts)\n",
        "validation_dataset = validation_dataset.rename(columns={0: \"text\"})\n",
        "\n",
        "label = pd.DataFrame(validation_label)\n",
        "label.columns = [\"validation_label\"]\n",
        "validation_dataset = pd.concat([validation_dataset, label], axis=1)\n",
        "\n",
        "validation_dataset.to_csv(\"validation_dataset.csv\")\n",
        "validation_dataset"
      ]
    },
    {
      "cell_type": "code",
      "execution_count": null,
      "metadata": {
        "colab": {
          "base_uri": "https://localhost:8080/"
        },
        "id": "KataTINbEh5v",
        "outputId": "964eeb6a-58d6-4610-ea6a-ebb7b7f8b2e0"
      },
      "outputs": [
        {
          "name": "stdout",
          "output_type": "stream",
          "text": [
            "1/1 [==============================] - 0s 321ms/step\n",
            "1/1 [==============================] - 0s 341ms/step\n",
            "1/1 [==============================] - 0s 295ms/step\n",
            "1/1 [==============================] - 0s 214ms/step\n",
            "1/1 [==============================] - 0s 201ms/step\n"
          ]
        }
      ],
      "source": [
        "inference_prediction = []\n",
        "\n",
        "for i in range(len(new_texts)):\n",
        "  probabilities = classifier_model.predict([new_texts[i]])\n",
        "  prediction = np.argmax(probabilities)\n",
        "  inference_prediction.append(prediction)"
      ]
    },
    {
      "cell_type": "code",
      "execution_count": null,
      "metadata": {
        "colab": {
          "base_uri": "https://localhost:8080/"
        },
        "id": "lHWl-lEYF7bN",
        "outputId": "f39e3e6a-8ee7-408b-c943-b885bd2f3115"
      },
      "outputs": [
        {
          "name": "stdout",
          "output_type": "stream",
          "text": [
            "--------------------------------------------------------------------------------------------------------------------------------------------------------------------------------------------------------------------------------------------------------------------------------------------------------------------------------------------------------------------------------------------------------------------------------------------------------------------------------------------------------------------\n",
            "Emotion Predicted: sadness ------- True emotion label: sadness\n",
            "Text: \n",
            " I'm so despondent right now. I got bullied by some classmates, even though I was nice and friendly. They spread rumors and made fun of me. They hurt my feelings and my reputation. I felt humiliated and sad. I miss the respect and the friendship I had. I think I’m kind and good. I want to stand up for myself and find true friends. \n",
            "\n",
            "--------------------------------------------------------------------------------------------------------------------------------------------------------------------------------------------------------------------------------------------------------------------------------------------------------------------------------------------------------------------------------------------------------------------------------------------------------------------------------------------------------------------\n",
            "Emotion Predicted: anger ------- True emotion label: anger\n",
            "Text: \n",
            " I'm so enraged and frustrated right now. My dad and I got into a disagreement about my grades. They don't understand how difficult my studies are or how much strain I am under. They don't care about me; they only care about the stats. They make me feel inferior by making comparisons to other youngsters. They shout at me and chastise me for falling short of their standards. I'm not respected or encouraged by them. So upsetting \n",
            "\n",
            "--------------------------------------------------------------------------------------------------------------------------------------------------------------------------------------------------------------------------------------------------------------------------------------------------------------------------------------------------------------------------------------------------------------------------------------------------------------------------------------------------------------------\n",
            "Emotion Predicted: pride ------- True emotion label: pride\n",
            "Text: \n",
            " Dear diary, today I faced a difficult challenge in my math class. I was nervous and unsure of myself, but I decided to give it my best shot. I worked hard and solved the problem. I felt a sense of accomplishment and confidence. I realized that I can overcome any obstacle with a positive attitude and perseverance \n",
            "\n",
            "--------------------------------------------------------------------------------------------------------------------------------------------------------------------------------------------------------------------------------------------------------------------------------------------------------------------------------------------------------------------------------------------------------------------------------------------------------------------------------------------------------------------\n",
            "Emotion Predicted: fear ------- True emotion label: lonely\n",
            "Text: \n",
            " After school, I went home and locked myself in my room. I didn't want to talk to anyone, not even my parents or my friends. They wouldn't understand anyway. They would just tell me to cheer up, to snap out of it, to get over it. They don't know how hard it is to fight this darkness inside me. \n",
            "\n",
            "--------------------------------------------------------------------------------------------------------------------------------------------------------------------------------------------------------------------------------------------------------------------------------------------------------------------------------------------------------------------------------------------------------------------------------------------------------------------------------------------------------------------\n",
            "Emotion Predicted: depression ------- True emotion label: depression\n",
            "Text: \n",
            " I sometimes feel so miserable inside that I want to terminate my life. Suicidal thoughts intensify and multiply in frequency. I think my self-loathing is one of the causes of my melancholy, even though I've only attempted it a few of times. \n",
            "\n"
          ]
        }
      ],
      "source": [
        "for ground_truth, text, index_label in zip(validation_label, new_texts, inference_prediction):\n",
        "  print(\"-\"*500)\n",
        "  print(f\"Emotion Predicted: {classes[index_label]} ------- True emotion label: {classes[ground_truth]}\")\n",
        "  print(f\"Text: \\n {text} \\n\")"
      ]
    },
    {
      "cell_type": "markdown",
      "metadata": {
        "id": "_LnHViK95Y0o"
      },
      "source": [
        "# Mental Health Quality Assessment\n",
        "\n",
        "We define a math formula to assess the mental health quality assessment for users based on some most trustworthy and popular mental health quality scale on the world such as DASS.\n",
        "\n",
        "In a very simple idea, an adolescent with depression should be more concerned than the one who just only feel lonely or sadness. Therefore, we assign each category with a score number indicating how serious such emotion is. Then we calculate the temporary score is the mean of 3 classes with greatest probabilities. Remember that an input text is just one chat from user, but our user will continue to chat with the bot and maybe, at the end of chat, things will change: user may get more relieved or happy thanks to the help from chatbot. Due to such reason, it's not sensible to regard the mean score of all chat as the official score for user's mental health quality. Hence, we use $\\gamma \\in (0,1)$ as a regulator: the more recent the score, the more impactful it will be.\n",
        "\n",
        "\n",
        "$$\\hat{y}^i = \\text{classifier_model.predict}([\\text{chat}^i]) \\space | \\space \\text{with} \\space i =1...N$$\n",
        "$$\n",
        "\\hat{y}^i_1, \\hat{y}^i_2, \\hat{y}^i_3 = \\arg\\max^3(y^i)\n",
        "$$\n",
        "$$\n",
        "s_i = \\frac{1}{3}\\sum_{j=1}^3 f(classes[\\hat{y}^i_j])\n",
        "$$\n",
        "\n",
        "$$\n",
        "Q = \\gamma^{N-1}*s_i + \\gamma^{N-2}*s_{i+1} + ... + \\gamma^{0}s_{N}\n",
        "$$\n",
        "\n",
        "$$\n",
        "Q = \\sum_{i=1}^N \\gamma^{N-i} * s_i\n",
        "$$\n",
        "\n",
        "\n",
        "Explain my formula: $\\hat{y}^i$ is the probability vector returned from the classifier_model with the input is the $i$-th chat of total $N$ chats from user in the conversation. Next, we take 3 greatest probabilties instead of just one. When we have the three indices, we can get the score of each with the mapping function $f$(e.g depression gets $1.2pts$, anger gets $1.5pts$, sadness gets $1.8pts$...) and then we get the mean of three $→$ we get $s_i$ (score of $i$-th chat). Now after user complete all $N$ chats with the bot, we calculate the final score value $Q$ (quality). $y^{N-1}$ means the value $s_i$ will be decreased, while the final value $s_N$ still remains the same."
      ]
    },
    {
      "cell_type": "code",
      "execution_count": 4,
      "metadata": {
        "colab": {
          "base_uri": "https://localhost:8080/",
          "height": 206
        },
        "id": "khLA8UjFMaKB",
        "outputId": "6389eae6-fa0c-4855-d2e6-bb29323cbc6e"
      },
      "outputs": [
        {
          "data": {
            "text/html": [
              "\n",
              "\n",
              "  <div id=\"df-4a7b3540-8591-4449-89a0-44e4b8191793\">\n",
              "    <div class=\"colab-df-container\">\n",
              "      <div>\n",
              "<style scoped>\n",
              "    .dataframe tbody tr th:only-of-type {\n",
              "        vertical-align: middle;\n",
              "    }\n",
              "\n",
              "    .dataframe tbody tr th {\n",
              "        vertical-align: top;\n",
              "    }\n",
              "\n",
              "    .dataframe thead th {\n",
              "        text-align: right;\n",
              "    }\n",
              "</style>\n",
              "<table border=\"1\" class=\"dataframe\">\n",
              "  <thead>\n",
              "    <tr style=\"text-align: right;\">\n",
              "      <th></th>\n",
              "      <th>text</th>\n",
              "      <th>index_label</th>\n",
              "      <th>classes</th>\n",
              "      <th>trinary_classes</th>\n",
              "      <th>trinary_class_index</th>\n",
              "    </tr>\n",
              "  </thead>\n",
              "  <tbody>\n",
              "    <tr>\n",
              "      <th>0</th>\n",
              "      <td>I feel very dejected today. I got a very low s...</td>\n",
              "      <td>1</td>\n",
              "      <td>sadness</td>\n",
              "      <td>Negative emotions</td>\n",
              "      <td>0</td>\n",
              "    </tr>\n",
              "    <tr>\n",
              "      <th>1</th>\n",
              "      <td>I feel so lonely today. I have no friends to t...</td>\n",
              "      <td>5</td>\n",
              "      <td>lonely</td>\n",
              "      <td>Negative emotions</td>\n",
              "      <td>0</td>\n",
              "    </tr>\n",
              "    <tr>\n",
              "      <th>2</th>\n",
              "      <td>I feel so angry and irritated today. I had a f...</td>\n",
              "      <td>0</td>\n",
              "      <td>anger</td>\n",
              "      <td>Negative emotions</td>\n",
              "      <td>0</td>\n",
              "    </tr>\n",
              "    <tr>\n",
              "      <th>3</th>\n",
              "      <td>I feel so hopeless today. I have no future or ...</td>\n",
              "      <td>3</td>\n",
              "      <td>fear</td>\n",
              "      <td>Negative emotions</td>\n",
              "      <td>0</td>\n",
              "    </tr>\n",
              "    <tr>\n",
              "      <th>4</th>\n",
              "      <td>I feel so guilty today. I did something terrib...</td>\n",
              "      <td>2</td>\n",
              "      <td>remorse</td>\n",
              "      <td>Negative emotions</td>\n",
              "      <td>0</td>\n",
              "    </tr>\n",
              "  </tbody>\n",
              "</table>\n",
              "</div>\n",
              "      <button class=\"colab-df-convert\" onclick=\"convertToInteractive('df-4a7b3540-8591-4449-89a0-44e4b8191793')\"\n",
              "              title=\"Convert this dataframe to an interactive table.\"\n",
              "              style=\"display:none;\">\n",
              "\n",
              "  <svg xmlns=\"http://www.w3.org/2000/svg\" height=\"24px\"viewBox=\"0 0 24 24\"\n",
              "       width=\"24px\">\n",
              "    <path d=\"M0 0h24v24H0V0z\" fill=\"none\"/>\n",
              "    <path d=\"M18.56 5.44l.94 2.06.94-2.06 2.06-.94-2.06-.94-.94-2.06-.94 2.06-2.06.94zm-11 1L8.5 8.5l.94-2.06 2.06-.94-2.06-.94L8.5 2.5l-.94 2.06-2.06.94zm10 10l.94 2.06.94-2.06 2.06-.94-2.06-.94-.94-2.06-.94 2.06-2.06.94z\"/><path d=\"M17.41 7.96l-1.37-1.37c-.4-.4-.92-.59-1.43-.59-.52 0-1.04.2-1.43.59L10.3 9.45l-7.72 7.72c-.78.78-.78 2.05 0 2.83L4 21.41c.39.39.9.59 1.41.59.51 0 1.02-.2 1.41-.59l7.78-7.78 2.81-2.81c.8-.78.8-2.07 0-2.86zM5.41 20L4 18.59l7.72-7.72 1.47 1.35L5.41 20z\"/>\n",
              "  </svg>\n",
              "      </button>\n",
              "\n",
              "\n",
              "\n",
              "    <div id=\"df-615c0d1f-82b8-425c-a507-6362fcd5fb86\">\n",
              "      <button class=\"colab-df-quickchart\" onclick=\"quickchart('df-615c0d1f-82b8-425c-a507-6362fcd5fb86')\"\n",
              "              title=\"Suggest charts.\"\n",
              "              style=\"display:none;\">\n",
              "\n",
              "<svg xmlns=\"http://www.w3.org/2000/svg\" height=\"24px\"viewBox=\"0 0 24 24\"\n",
              "     width=\"24px\">\n",
              "    <g>\n",
              "        <path d=\"M19 3H5c-1.1 0-2 .9-2 2v14c0 1.1.9 2 2 2h14c1.1 0 2-.9 2-2V5c0-1.1-.9-2-2-2zM9 17H7v-7h2v7zm4 0h-2V7h2v10zm4 0h-2v-4h2v4z\"/>\n",
              "    </g>\n",
              "</svg>\n",
              "      </button>\n",
              "    </div>\n",
              "\n",
              "<style>\n",
              "  .colab-df-quickchart {\n",
              "    background-color: #E8F0FE;\n",
              "    border: none;\n",
              "    border-radius: 50%;\n",
              "    cursor: pointer;\n",
              "    display: none;\n",
              "    fill: #1967D2;\n",
              "    height: 32px;\n",
              "    padding: 0 0 0 0;\n",
              "    width: 32px;\n",
              "  }\n",
              "\n",
              "  .colab-df-quickchart:hover {\n",
              "    background-color: #E2EBFA;\n",
              "    box-shadow: 0px 1px 2px rgba(60, 64, 67, 0.3), 0px 1px 3px 1px rgba(60, 64, 67, 0.15);\n",
              "    fill: #174EA6;\n",
              "  }\n",
              "\n",
              "  [theme=dark] .colab-df-quickchart {\n",
              "    background-color: #3B4455;\n",
              "    fill: #D2E3FC;\n",
              "  }\n",
              "\n",
              "  [theme=dark] .colab-df-quickchart:hover {\n",
              "    background-color: #434B5C;\n",
              "    box-shadow: 0px 1px 3px 1px rgba(0, 0, 0, 0.15);\n",
              "    filter: drop-shadow(0px 1px 2px rgba(0, 0, 0, 0.3));\n",
              "    fill: #FFFFFF;\n",
              "  }\n",
              "</style>\n",
              "\n",
              "    <script>\n",
              "      async function quickchart(key) {\n",
              "        const containerElement = document.querySelector('#' + key);\n",
              "        const charts = await google.colab.kernel.invokeFunction(\n",
              "            'suggestCharts', [key], {});\n",
              "      }\n",
              "    </script>\n",
              "\n",
              "      <script>\n",
              "\n",
              "function displayQuickchartButton(domScope) {\n",
              "  let quickchartButtonEl =\n",
              "    domScope.querySelector('#df-615c0d1f-82b8-425c-a507-6362fcd5fb86 button.colab-df-quickchart');\n",
              "  quickchartButtonEl.style.display =\n",
              "    google.colab.kernel.accessAllowed ? 'block' : 'none';\n",
              "}\n",
              "\n",
              "        displayQuickchartButton(document);\n",
              "      </script>\n",
              "      <style>\n",
              "    .colab-df-container {\n",
              "      display:flex;\n",
              "      flex-wrap:wrap;\n",
              "      gap: 12px;\n",
              "    }\n",
              "\n",
              "    .colab-df-convert {\n",
              "      background-color: #E8F0FE;\n",
              "      border: none;\n",
              "      border-radius: 50%;\n",
              "      cursor: pointer;\n",
              "      display: none;\n",
              "      fill: #1967D2;\n",
              "      height: 32px;\n",
              "      padding: 0 0 0 0;\n",
              "      width: 32px;\n",
              "    }\n",
              "\n",
              "    .colab-df-convert:hover {\n",
              "      background-color: #E2EBFA;\n",
              "      box-shadow: 0px 1px 2px rgba(60, 64, 67, 0.3), 0px 1px 3px 1px rgba(60, 64, 67, 0.15);\n",
              "      fill: #174EA6;\n",
              "    }\n",
              "\n",
              "    [theme=dark] .colab-df-convert {\n",
              "      background-color: #3B4455;\n",
              "      fill: #D2E3FC;\n",
              "    }\n",
              "\n",
              "    [theme=dark] .colab-df-convert:hover {\n",
              "      background-color: #434B5C;\n",
              "      box-shadow: 0px 1px 3px 1px rgba(0, 0, 0, 0.15);\n",
              "      filter: drop-shadow(0px 1px 2px rgba(0, 0, 0, 0.3));\n",
              "      fill: #FFFFFF;\n",
              "    }\n",
              "  </style>\n",
              "\n",
              "      <script>\n",
              "        const buttonEl =\n",
              "          document.querySelector('#df-4a7b3540-8591-4449-89a0-44e4b8191793 button.colab-df-convert');\n",
              "        buttonEl.style.display =\n",
              "          google.colab.kernel.accessAllowed ? 'block' : 'none';\n",
              "\n",
              "        async function convertToInteractive(key) {\n",
              "          const element = document.querySelector('#df-4a7b3540-8591-4449-89a0-44e4b8191793');\n",
              "          const dataTable =\n",
              "            await google.colab.kernel.invokeFunction('convertToInteractive',\n",
              "                                                     [key], {});\n",
              "          if (!dataTable) return;\n",
              "\n",
              "          const docLinkHtml = 'Like what you see? Visit the ' +\n",
              "            '<a target=\"_blank\" href=https://colab.research.google.com/notebooks/data_table.ipynb>data table notebook</a>'\n",
              "            + ' to learn more about interactive tables.';\n",
              "          element.innerHTML = '';\n",
              "          dataTable['output_type'] = 'display_data';\n",
              "          await google.colab.output.renderOutput(dataTable, element);\n",
              "          const docLink = document.createElement('div');\n",
              "          docLink.innerHTML = docLinkHtml;\n",
              "          element.appendChild(docLink);\n",
              "        }\n",
              "      </script>\n",
              "    </div>\n",
              "  </div>\n"
            ],
            "text/plain": [
              "                                                text  index_label  classes  \\\n",
              "0  I feel very dejected today. I got a very low s...            1  sadness   \n",
              "1  I feel so lonely today. I have no friends to t...            5   lonely   \n",
              "2  I feel so angry and irritated today. I had a f...            0    anger   \n",
              "3  I feel so hopeless today. I have no future or ...            3     fear   \n",
              "4  I feel so guilty today. I did something terrib...            2  remorse   \n",
              "\n",
              "     trinary_classes  trinary_class_index  \n",
              "0  Negative emotions                    0  \n",
              "1  Negative emotions                    0  \n",
              "2  Negative emotions                    0  \n",
              "3  Negative emotions                    0  \n",
              "4  Negative emotions                    0  "
            ]
          },
          "execution_count": 4,
          "metadata": {},
          "output_type": "execute_result"
        }
      ],
      "source": [
        "df = pd.read_csv(\"/content/emotion_classification_dataset_v1.1.csv\")\n",
        "df.head()"
      ]
    },
    {
      "cell_type": "code",
      "execution_count": 39,
      "metadata": {
        "id": "PdFwMoK8V6q5"
      },
      "outputs": [],
      "source": [
        "classifier_model.save('my_model.h5', save_format='h5')"
      ]
    },
    {
      "cell_type": "code",
      "execution_count": 45,
      "metadata": {
        "id": "ol2Gt8pCUv68"
      },
      "outputs": [],
      "source": [
        "# re-import the model to check and do inference\n",
        "# If you do not use Google Colab, replace the path to model below to your local one\n",
        "Bert_model = tf.keras.models.load_model('/content/BERT_model_12_classes_v1.1.h5', custom_objects={'KerasLayer': hub.KerasLayer})"
      ]
    },
    {
      "cell_type": "markdown",
      "metadata": {
        "id": "6WZ0EsRtXidp"
      },
      "source": [
        "Mimick the chat with chatbot"
      ]
    },
    {
      "cell_type": "code",
      "execution_count": 128,
      "metadata": {
        "id": "bTtQa7ouVXHh"
      },
      "outputs": [],
      "source": [
        "Chats = [\n",
        "    \"\",\n",
        "    \"I feel very dejected today. I got a very low score in my math exam, everybody in class made a joke on me. The rest of my day, I do not feel like doing anything, the sadness, the sorrow just seem to fill in me\",\n",
        "    \"But when coming home (today has been really tough), my parents even depress me more, they scolded me, they made me more disheartened. I feel so hopeless\",\n",
        "    \"it's kind of good. But I am rather confused whether their method coud be applied in my case. Anyway let me try\",\n",
        "    \"Oh I have tried on that method. Things start getting positive. My parents can sympathize with me now. I feel really pleased and happy that they can understand me. Hopefully, everything can get better because I really want to be joyful at school. Anyway just maintain my optimistic outlook\",\n",
        "]\n",
        "\n",
        "Bot_responses = [\n",
        "    \"Hello this is chatbot\",\n",
        "    \"I’m sorry to hear that. It’s okay to feel sad and dejected after a bad experience. It’s important to remember that everyone makes mistakes and has bad days. You can try to focus on the things that you enjoy doing and that make you happy. You can also talk to someone you trust about how you’re feeling. Sometimes it helps to talk about your feelings with someone else. Would you like me to help you find some resources or activities that might help you feel better?\",\n",
        "    \"I’m sorry to hear that. It can be tough when you don’t feel supported by your parents. It’s important to remember that their behavior is not your fault and that you deserve to be treated with kindness and respect. You might find it helpful to talk to someone you trust about how you’re feeling. Sometimes it helps to talk about your feelings with someone else. Here are some resources that might help you deal with unsympathetic parents: \\\n",
        "        4 Ways to Deal with Toxic Parents - This article from wikiHow provides some tips on how to deal with toxic parents. It suggests things like emotionally detaching from your parents, accepting that you cannot change them, and limiting what you tell them about yourself and your life.\\\n",
        "        Unsympathetic parent - This forum thread on Mental Health Forum has people sharing their experiences with unsympathetic parents and offering support and advice. \\\n",
        "        7 Signs of a Toxic Parent and How to Cope - This article from Cleveland Clinic lists some signs of toxic parenting and provides tips on how to cope with it. \\\n",
        "        I hope this helps!\",\n",
        "    \"You’re welcome. I’m glad that you found the article helpful. Remember that it’s okay to take things one step at a time and that you don’t have to do everything at once. You can try out different strategies and see what works best for you. If you ever need someone to talk to, feel free to reach out to me.\",\n",
        "    \"I’m glad to hear that things are getting better for you. It’s great that you’re feeling pleased and happy. I hope that tomorrow is a better day for you and that you can find joy at school. Remember that it’s okay to take things one step at a time and that you don’t have to do everything at once. If you ever need someone to talk to, feel free to reach out to me.\",\n",
        "]"
      ]
    },
    {
      "cell_type": "code",
      "execution_count": 129,
      "metadata": {
        "colab": {
          "base_uri": "https://localhost:8080/"
        },
        "id": "No3_dzDLZ8wu",
        "outputId": "14ea2842-104b-4f1a-bfe3-f3cf5abb558d"
      },
      "outputs": [
        {
          "name": "stdout",
          "output_type": "stream",
          "text": [
            "************************************************************************************************************************************************************************************************************************************************************************************************************************************************************************************************************************************************************************************************************************************************************************************************************************\n",
            "USER: \n",
            "  \n",
            "\n",
            "BOT: \n",
            " Hello this is chatbot \n",
            "\n",
            "************************************************************************************************************************************************************************************************************************************************************************************************************************************************************************************************************************************************************************************************************************************************************************************************************************\n",
            "USER: \n",
            " I feel very dejected today. I got a very low score in my math exam, everybody in class made a joke on me. The rest of my day, I do not feel like doing anything, the sadness, the sorrow just seem to fill in me \n",
            "\n",
            "BOT: \n",
            " I’m sorry to hear that. It’s okay to feel sad and dejected after a bad experience. It’s important to remember that everyone makes mistakes and has bad days. You can try to focus on the things that you enjoy doing and that make you happy. You can also talk to someone you trust about how you’re feeling. Sometimes it helps to talk about your feelings with someone else. Would you like me to help you find some resources or activities that might help you feel better? \n",
            "\n",
            "************************************************************************************************************************************************************************************************************************************************************************************************************************************************************************************************************************************************************************************************************************************************************************************************************************\n",
            "USER: \n",
            " But when coming home (today has been really tough), my parents even depress me more, they scolded me, they made me more disheartened. I feel so hopeless \n",
            "\n",
            "BOT: \n",
            " I’m sorry to hear that. It can be tough when you don’t feel supported by your parents. It’s important to remember that their behavior is not your fault and that you deserve to be treated with kindness and respect. You might find it helpful to talk to someone you trust about how you’re feeling. Sometimes it helps to talk about your feelings with someone else. Here are some resources that might help you deal with unsympathetic parents:         4 Ways to Deal with Toxic Parents - This article from wikiHow provides some tips on how to deal with toxic parents. It suggests things like emotionally detaching from your parents, accepting that you cannot change them, and limiting what you tell them about yourself and your life.        Unsympathetic parent - This forum thread on Mental Health Forum has people sharing their experiences with unsympathetic parents and offering support and advice.         7 Signs of a Toxic Parent and How to Cope - This article from Cleveland Clinic lists some signs of toxic parenting and provides tips on how to cope with it.         I hope this helps! \n",
            "\n",
            "************************************************************************************************************************************************************************************************************************************************************************************************************************************************************************************************************************************************************************************************************************************************************************************************************************\n",
            "USER: \n",
            " it's kind of good. But I am rather confused whether their method coud be applied in my case. Anyway let me try \n",
            "\n",
            "BOT: \n",
            " You’re welcome. I’m glad that you found the article helpful. Remember that it’s okay to take things one step at a time and that you don’t have to do everything at once. You can try out different strategies and see what works best for you. If you ever need someone to talk to, feel free to reach out to me. \n",
            "\n",
            "************************************************************************************************************************************************************************************************************************************************************************************************************************************************************************************************************************************************************************************************************************************************************************************************************************\n",
            "USER: \n",
            " Oh I have tried on that method. Things start getting positive. My parents can sympathize with me now. I feel really pleased and happy that they can understand me. Hopefully, everything can get better because I really want to be joyful at school. Anyway just maintain my optimistic outlook \n",
            "\n",
            "BOT: \n",
            " I’m glad to hear that things are getting better for you. It’s great that you’re feeling pleased and happy. I hope that tomorrow is a better day for you and that you can find joy at school. Remember that it’s okay to take things one step at a time and that you don’t have to do everything at once. If you ever need someone to talk to, feel free to reach out to me. \n",
            "\n",
            "************************************************************************************************************************************************************************************************************************************************************************************************************************************************************************************************************************************************************************************************************************************************************************************************************************\n"
          ]
        }
      ],
      "source": [
        "print(\"*\"*600)\n",
        "for chat, bot_response in zip(Chats, Bot_responses):\n",
        "  print(f\"USER: \\n {chat} \\n\")\n",
        "  print(f\"BOT: \\n {bot_response} \\n\")\n",
        "  print(\"*\"*600)"
      ]
    },
    {
      "cell_type": "code",
      "execution_count": 51,
      "metadata": {
        "id": "6FuXo4BGay7h"
      },
      "outputs": [],
      "source": [
        "general_model = tf.keras.models.load_model('/content/model_3_classes_v1.1.h5')"
      ]
    },
    {
      "cell_type": "markdown",
      "metadata": {
        "id": "pzSkX1hrqEiJ"
      },
      "source": [
        "In order to illustrate my math formula, Let analyse only $1$st chat from the conversation (chats)"
      ]
    },
    {
      "cell_type": "code",
      "execution_count": 134,
      "metadata": {
        "colab": {
          "base_uri": "https://localhost:8080/"
        },
        "id": "Y4O-orL_fFdc",
        "outputId": "d0486c4b-c64d-488c-8402-d007496ea41d"
      },
      "outputs": [
        {
          "name": "stdout",
          "output_type": "stream",
          "text": [
            "1/1 [==============================] - 0s 273ms/step\n"
          ]
        },
        {
          "data": {
            "text/plain": [
              "array([[3.4555662e-04, 9.9856430e-01, 7.3559880e-07, 2.0597981e-04,\n",
              "        8.8090339e-04, 4.3760725e-08, 2.3656057e-07, 1.4270864e-10,\n",
              "        1.6134159e-10, 2.4158144e-06, 2.2762212e-08, 1.1595465e-11]],\n",
              "      dtype=float32)"
            ]
          },
          "execution_count": 134,
          "metadata": {},
          "output_type": "execute_result"
        }
      ],
      "source": [
        "# get the probabilties vector\n",
        "y_1= classifier_model.predict([Chats[1]])\n",
        "y_1"
      ]
    },
    {
      "cell_type": "code",
      "execution_count": 135,
      "metadata": {
        "colab": {
          "base_uri": "https://localhost:8080/"
        },
        "id": "6u4txA46fgGI",
        "outputId": "0a983894-a0a3-4956-88b8-c963f0637c35"
      },
      "outputs": [
        {
          "data": {
            "text/plain": [
              "array([0, 4, 1])"
            ]
          },
          "execution_count": 135,
          "metadata": {},
          "output_type": "execute_result"
        }
      ],
      "source": [
        "# take 3 greatest probilities\n",
        "y_1 = np.argsort(y_1)[0][-3:]\n",
        "y_1"
      ]
    },
    {
      "cell_type": "markdown",
      "metadata": {
        "id": "dNQ-YvITlEtG"
      },
      "source": [
        "The scale is $\\in (1, 5)$ ranging from **VERY BAD TO VERY GOOD**\n",
        "\n",
        "- **DEPRESSION**: I gave depression the lowest rating of `1.2` because it is a serious mental disorder that can impair one's functioning and quality of life. Depression can cause persistent sadness, hopelessness, low self-esteem, loss of interest, fatigue, insomnia, and suicidal thoughts.\n",
        "\n",
        "- **ANGER**: I gave anger a low rating of `1.5` because it is a negative emotion that can cause harm to oneself and others. Anger can impair one's judgment, increase stress, and lead to aggression or violence.\n",
        "\n",
        "- **SADNESS**: I gave sadness a slightly higher rating of `1.8` because it is also a negative emotion that can cause pain and suffering. Sadness can affect one's mood, motivation, and well-being. However, sadness can also have some positive effects, such as helping one cope with loss, empathize with others, or appreciate happiness.\n",
        "\n",
        "- **LONELY**: I gave lonely a rating of `1.9` because it is a distressing emotion that can affect one's social and emotional needs. Lonely can cause isolation, alienation, and low self-worth. However, lonely can also encourage one to seek out social support, connect with others, or find meaning in solitude.\n",
        "\n",
        "- **REMORSE**: I gave remorse a rating of `2.0` because it is a mixed emotion that can have both negative and positive aspects. Remorse can cause guilt, regret, and self-blame, but it can also motivate one to apologize, make amends, or learn from mistakes.\n",
        "- **FEAR**: I gave fear a rating of `2.2` because it is another mixed emotion that can have both negative and positive aspects. Fear can cause anxiety, panic, and avoidance, but it can also protect one from danger, alert one to threats, or prepare one for action.\n",
        "\n",
        "- **CONFUSTION**: I gave confusion a slightly above average rating of `2.5` because it is a neutral emotion that can indicate uncertainty or curiosity. Confusion can cause doubt, hesitation, and perplexity, but it can also stimulate learning, problem-solving, and exploration.\n",
        "\n",
        "- **PRIDE**: I gave pride a moderately high rating of `4.2` because it is a complex emotion that can have both positive and negative aspects. Pride can cause self-esteem, achievement, and recognition, but it can also cause arrogance, conceit, and superiority.\n",
        "\n",
        "- **OPTIMISM**: I gave optimism a high rating of `4.5` because it is a positive attitude that can influence one's outlook and behavior. Optimism can cause hopefulness, confidence, resilience, and motivation. Optimism can also help one cope with challenges, overcome obstacles, and achieve goals.\n",
        "\n",
        "- **GRATITUDE**: I gave gratitude a high rating of `4.6` because it is a positive emotion that can foster appreciation and generosity. Gratitude can cause thankfulness, recognition, and reciprocity. Gratitude can also improve one's mood, relationships, and health.\n",
        "\n",
        "- **JOY**: I gave joy the highest rating of `4.8` because it is a positive emotion that can enhance one's happiness and well-being. Joy can cause pleasure, satisfaction, gratitude, and optimism. Joy can also boost one's immune system, creativity, and productivity.\n",
        "\n",
        "- **LOVE**: I gave love a very high rating of `4.9` because it is a positive emotion that can enrich one's relationships and personal growth. Love can cause affection, intimacy, trust, and compassion. Love can also improve one's physical and mental health, reduce stress, and increase longevity.\n",
        "\n",
        "\n",
        "\n",
        "\n",
        "The above assumption is based on theses resources:\n",
        "\n",
        ": [Anger - Wikipedia](https://en.wikipedia.org/wiki/Anger)\n",
        ": [Sadness - Wikipedia](https://en.wikipedia.org/wiki/Sadness)\n",
        ": [The Surprising Benefits of Sadness | Psychology Today](https://www.psychologytoday.com/us/blog/the-squeaky-wheel/201603/the-surprising-benefits-sadness)\n",
        ": [Remorse - Wikipedia](https://en.wikipedia.org/wiki/Remorse)\n",
        ": [The Benefits of Remorse | Psychology Today](https://www.psychologytoday.com/us/blog/fulfillment-any-age/201507/the-benefits-remorse)\n",
        ": [Fear - Wikipedia](https://en.wikipedia.org/wiki/Fear)\n",
        ": [The Benefits of Fear | Psychology Today](https://www.psychologytoday.com/us/blog/finding-purpose/201807/the-benefits-fear)\n",
        ": [Depression (mood) - Wikipedia](https://en.wikipedia.org/wiki/Depression_(mood))\n",
        ": [Loneliness - Wikipedia](https://en.wikipedia.org/wiki/Loneliness)\n",
        ": [The Benefits of Loneliness | Psychology Today](https://www.psychologytoday.com/us/blog/the-science-success/201107/the-benefits-loneliness)\n",
        ": [Joy - Wikipedia](https://en.wikipedia.org/wiki/Joy)\n",
        ": [The Benefits of Joy | Psychology Today](https://www.psychologytoday.com/us/blog/your-emotional-meter/201708/the-benefits-joy)\n",
        ": [Love - Wikipedia](https://en.wikipedia.org/wiki/Love)\n",
        ": [The Benefits of Love | Psychology Today](https://www.psychologytoday.com/us/blog/the-athletes-way/201402/the-benefits-love)\n",
        ": [Optimism - Wikipedia](https://en.wikipedia.org/wiki/Optimism)\n",
        ": [The Benefits of Optimism | Psychology Today](https://www.psychologytoday.com/us/blog/the-mindful-self-express/201108/the-benefits-optimism)\n",
        ": [Gratitude - Wikipedia](https://en.wikipedia.org/wiki/Gratitude)\n",
        ": [The Benefits of Gratitude | Psychology Today](https://www.psychologytoday.com/us/blog/what-mentally-strong-people-dont-do/201504/7-scientifically-proven-benefits-gratitude)\n",
        ": [Pride - Wikipedia](https://en.wikipedia.org/wiki/Pride)\n",
        ": [The Dark Side of Pride | Psychology Today](https://www.psychologytoday.com/us/blog/hide-and-seek/201509/the-dark-side-pride)\n",
        ": [Confusion - Wikipedia](https://en.wikipedia.org/wiki/Confusion)\n",
        ": [The Benefits of Confusion | Psychology Today](https://www.psychologytoday.com/us/blog/making-change/201405/the-benefits-confusion)"
      ]
    },
    {
      "cell_type": "code",
      "execution_count": 65,
      "metadata": {
        "id": "FI2KiyhkhHue"
      },
      "outputs": [],
      "source": [
        "f = [1.5,      1.8,       2.0,     2.2,        1.2,        1.9,    4.8,   4.9,      4.5,         4.6,       4.2,      2.5]\n",
        "# [\"anger\", \"sadness\", \"remorse\", \"fear\", \"depression\", \"lonely\", \"joy\", \"love\", \"optimism\", \"gratitude\", \"pride\", \"confusion\"]"
      ]
    },
    {
      "cell_type": "code",
      "execution_count": 136,
      "metadata": {
        "colab": {
          "base_uri": "https://localhost:8080/"
        },
        "id": "W8m4E0sKo_gq",
        "outputId": "db02fc22-7d2e-4671-8bd5-e35015fb901f"
      },
      "outputs": [
        {
          "name": "stdout",
          "output_type": "stream",
          "text": [
            "But when coming home (today has been really tough), my parents even depress me more, they scolded me, they made me more disheartened. I feel so hopeless\n",
            "anger 1.5\n",
            "depression 1.2\n",
            "sadness 1.8\n"
          ]
        }
      ],
      "source": [
        "# Look at the f function in the math formula -> get the score\n",
        "print(Chats[2])\n",
        "for y_1j in y_1:\n",
        "  print(classes[y_1j], f[y_1j])"
      ]
    },
    {
      "cell_type": "code",
      "execution_count": 137,
      "metadata": {
        "colab": {
          "base_uri": "https://localhost:8080/"
        },
        "id": "bCiihQH8pdNO",
        "outputId": "2e89cdda-a6cf-4e2b-ddc2-f13baab621f8"
      },
      "outputs": [
        {
          "data": {
            "text/plain": [
              "1.6666666666666667"
            ]
          },
          "execution_count": 137,
          "metadata": {},
          "output_type": "execute_result"
        }
      ],
      "source": [
        "# Calculate the mean of 3 scores\n",
        "mean_score_chat_1 = 0\n",
        "for y_1j in y_1:\n",
        "  mean_score_chat_1 += y_1j\n",
        "\n",
        "mean_score_chat_1/=3\n",
        "mean_score_chat_1"
      ]
    },
    {
      "cell_type": "markdown",
      "metadata": {
        "id": "DFKZLJw9qTFG"
      },
      "source": [
        "Now lets combine into function loop to do the same with all chats in the conversation\n"
      ]
    },
    {
      "cell_type": "code",
      "execution_count": 138,
      "metadata": {
        "colab": {
          "base_uri": "https://localhost:8080/"
        },
        "id": "htXZCW3sqa5O",
        "outputId": "4559bdb1-b9e4-43b9-8a92-fce50ad484b3"
      },
      "outputs": [
        {
          "name": "stdout",
          "output_type": "stream",
          "text": [
            "1/1 [==============================] - 0s 330ms/step\n",
            "1/1 [==============================] - 0s 313ms/step\n",
            "1/1 [==============================] - 0s 311ms/step\n",
            "1/1 [==============================] - 0s 311ms/step\n",
            "[0, 1.6666666666666667, 1.0, 2.6666666666666665, 5.666666666666667]\n"
          ]
        }
      ],
      "source": [
        "mean_score_chat = [0]\n",
        "\n",
        "for i in range(1, len(Chats)):\n",
        "  y_i= classifier_model.predict([Chats[i]])\n",
        "  y_i = np.argsort(y_i)[0][-3:]\n",
        "\n",
        "  mean_score_chat_i = 0\n",
        "  for j in range(len(y_i)):\n",
        "    mean_score_chat_i += y_i[j]\n",
        "\n",
        "  mean_score_chat_i /= 3\n",
        "  mean_score_chat.append(mean_score_chat_i)\n",
        "\n",
        "print(mean_score_chat)\n",
        "\n",
        "# mean_score_chat_i = s_i in the math formula"
      ]
    },
    {
      "cell_type": "markdown",
      "metadata": {
        "id": "33LMM_23vJCt"
      },
      "source": [
        "As you can see, now our user starts feel more positive thanks to the help from chatbot. So we will calculate the score of mental health quality for this chat/personal story/diary in that day. The more recent the feeling, the more important it is, so we use $\\gamma$ (gamma) to regularize this policy."
      ]
    },
    {
      "cell_type": "code",
      "execution_count": 145,
      "metadata": {
        "colab": {
          "base_uri": "https://localhost:8080/"
        },
        "id": "lgcJKqnXvD52",
        "outputId": "2a4f286d-e8cc-4eda-af2e-08db3fb50ea5"
      },
      "outputs": [
        {
          "data": {
            "text/plain": [
              "2.522916666666667"
            ]
          },
          "execution_count": 145,
          "metadata": {},
          "output_type": "execute_result"
        }
      ],
      "source": [
        "gamma = 0.9\n",
        "N = len(Chats) - 1\n",
        "Q = 0\n",
        "\n",
        "for i in range(1, N+1):\n",
        "  Q = Q + gamma**(N - i) * mean_score_chat[i]\n",
        "Q /= N\n",
        "Q"
      ]
    },
    {
      "cell_type": "code",
      "execution_count": 142,
      "metadata": {
        "colab": {
          "base_uri": "https://localhost:8080/"
        },
        "id": "yQUYysGExKAZ",
        "outputId": "80f4ea71-8eb2-43d3-a7d1-1db7b69a5109"
      },
      "outputs": [
        {
          "data": {
            "text/plain": [
              "2.522916666666667"
            ]
          },
          "execution_count": 142,
          "metadata": {},
          "output_type": "execute_result"
        }
      ],
      "source": [
        "(1.6666666666666667 * 0.9**3 + 1.0 * 0.9**2 + 2.6666666666666665 * 0.9**1 + 5.666666666666667 * 0.9**0)/4"
      ]
    },
    {
      "cell_type": "markdown",
      "metadata": {
        "id": "gow_QUMpx7vw"
      },
      "source": [
        "So, we can conlude that: Although at first chat, user felt really depressed and sad, user still get better throughout the chat thanks to the help of chat bot. The final score is **2.52**, which is normal. We then use this score to monitor user's mental health quality day after day, month after month"
      ]
    }
  ],
  "metadata": {
    "colab": {
      "provenance": [],
      "toc_visible": true
    },
    "kernelspec": {
      "display_name": "Python 3",
      "name": "python3"
    },
    "language_info": {
      "name": "python"
    }
  },
  "nbformat": 4,
  "nbformat_minor": 0
}
